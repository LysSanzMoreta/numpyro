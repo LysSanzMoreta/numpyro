{
 "cells": [
  {
   "cell_type": "markdown",
   "metadata": {},
   "source": [
    "# Predator-Prey model with triangular transport map\n",
    "Based on \"Transport map accelerated Markov chain Monte Carlo\" by Parno and Marzouk (SIAM/ASA Journal on Uncertainty Quantification 2018)"
   ]
  },
  {
   "cell_type": "code",
   "execution_count": 1,
   "metadata": {},
   "outputs": [
    {
     "name": "stdout",
     "output_type": "stream",
     "text": [
      "env: JAX_DEBUG_NANS=True\n"
     ]
    },
    {
     "name": "stderr",
     "output_type": "stream",
     "text": [
      "/Users/asal/Documents/SourceControl/numpyro/numpyro/contrib/autoguide.py:9: FutureWarning: numpyro.contrib.autoguide has moved to numpyro.infer.autoguide. The contrib alias will stop working in future versions.\n",
      "  warnings.warn(\"numpyro.contrib.autoguide has moved to numpyro.infer.autoguide. \"\n"
     ]
    }
   ],
   "source": [
    "from collections import OrderedDict\n",
    "\n",
    "%env JAX_DEBUG_NANS=True\n",
    "import jax\n",
    "import jax.ops\n",
    "import jax.numpy as jnp\n",
    "import pandas as pd\n",
    "import seaborn as sns\n",
    "from tqdm import tqdm\n",
    "from functools import partial\n",
    "\n",
    "import numpyro\n",
    "from numpyro import distributions as dist\n",
    "from numpyro.distributions.transforms import MultivariateAffineTransform\n",
    "from numpyro.infer.guide import WrappedGuide\n",
    "from numpyro.contrib.autoguide import AutoDelta\n",
    "from numpyro.examples.runge_kutta import runge_kutta_4\n",
    "from numpyro.infer import init_to_uniform, init_with_noise, SVI, Stein, ELBO\n",
    "from numpyro.infer.kernels import RBFKernel\n",
    "from numpyro.callbacks import Progbar\n",
    "from numpyro.optim import Adam"
   ]
  },
  {
   "cell_type": "code",
   "execution_count": 2,
   "metadata": {},
   "outputs": [],
   "source": [
    "rng_key = jax.random.PRNGKey(242)"
   ]
  },
  {
   "cell_type": "markdown",
   "metadata": {},
   "source": [
    "## Predator Prey Model"
   ]
  },
  {
   "cell_type": "code",
   "execution_count": 3,
   "metadata": {},
   "outputs": [],
   "source": [
    "def predator_prey_step(t, state, r=0.6, k=100, s=1.2, a=25, u=0.5, v=0.3):\n",
    "    prey = state[..., 0]\n",
    "    predator = state[..., 1]\n",
    "    sh = (prey * predator)/(a + prey + 1e-3)\n",
    "    prey_upd = r * prey * (1 - prey / (k + 1e-3)) - s * sh\n",
    "    predator_upd = u * sh - v * predator\n",
    "    return jnp.stack((prey_upd, predator_upd), axis=-1)\n",
    "num_time = 5\n",
    "step_size = 0.1\n",
    "num_steps = int(num_time / step_size)\n",
    "dampening_rate = 0.9\n",
    "lyapunov_scale = 1e-3\n",
    "clip = lambda x: jnp.clip(x, -10.0, 10.0)\n",
    "predator_prey = runge_kutta_4(predator_prey_step, step_size, num_steps, dampening_rate, \n",
    "                              lyapunov_scale, clip,\n",
    "                              unconstrain_fn=lambda _, x: jnp.where(x < 10, jnp.log(jnp.expm1(x)), x),\n",
    "                              constrain_fn=lambda _, x: jax.nn.softplus(x))\n",
    "predator_prey = partial(predator_prey, rng_key)"
   ]
  },
  {
   "cell_type": "code",
   "execution_count": 4,
   "metadata": {},
   "outputs": [
    {
     "data": {
      "text/plain": "(DeviceArray([ 1, 11, 21, 31, 41], dtype=int32),\n DeviceArray([[[ 39.024734 , -12.725596 ],\n               [ 66.321266 ,   6.9570694],\n               [ 68.02709  ,   3.5552971],\n               [ 91.41242  ,  12.742345 ],\n               [ 72.7559   ,  -2.7840161]],\n \n              [[ 70.52719  ,   8.503682 ],\n               [ 82.815735 ,   7.1307344],\n               [ 47.493027 ,  -3.0287352],\n               [ 79.04639  ,  12.486196 ],\n               [ 61.74772  ,   7.4273853]],\n \n              [[ 44.77134  ,  -8.647642 ],\n               [ 68.059166 ,  10.351532 ],\n               [ 62.732346 ,  20.398567 ],\n               [ 76.33949  ,  24.198376 ],\n               [ 68.472824 ,  11.550084 ]],\n \n              ...,\n \n              [[ 65.18128  ,  17.313398 ],\n               [ 62.665043 ,   5.9123344],\n               [ 77.014946 ,   7.073232 ],\n               [ 80.4568   ,  16.428682 ],\n               [ 73.003334 ,   4.452607 ]],\n \n              [[ 60.071377 ,  -6.5541363],\n               [ 60.27948  , -11.933838 ],\n               [ 65.92164  ,  19.284063 ],\n               [ 74.64682  ,  13.780663 ],\n               [ 77.26921  ,  15.8953495]],\n \n              [[ 43.870926 ,  -1.1976957],\n               [ 42.34517  ,  10.724115 ],\n               [ 78.41042  ,   6.6342015],\n               [ 82.94725  ,  -0.2915392],\n               [ 57.54188  ,  16.04681  ]]], dtype=float32))"
     },
     "execution_count": 4,
     "metadata": {},
     "output_type": "execute_result"
    }
   ],
   "source": [
    "indices = jnp.array([1, 11, 21, 31, 41])\n",
    "res, lyapunov_loss = predator_prey(jnp.array([50., 5.]))\n",
    "# res = np.reshape(res, (num_time, num_steps // num_time, -1))[:, 0, :]\n",
    "noise = jax.random.normal(rng_key, (1000,5,2)) * 10\n",
    "data = (indices, res[indices] + noise)\n",
    "data"
   ]
  },
  {
   "cell_type": "code",
   "execution_count": 5,
   "metadata": {},
   "outputs": [],
   "source": [
    "def model(indices, observations):\n",
    "    prior_dist = dist.HalfNormal(1000)\n",
    "    prey0 = numpyro.sample('prey0', prior_dist)\n",
    "    predator0 = numpyro.sample('predator0', prior_dist)\n",
    "    r = numpyro.sample('r', prior_dist)\n",
    "    k = numpyro.sample('k', prior_dist)\n",
    "    s = numpyro.sample('s', prior_dist)\n",
    "    a = numpyro.sample('a', prior_dist)\n",
    "    u = numpyro.sample('u', prior_dist)\n",
    "    v = numpyro.sample('v', prior_dist)\n",
    "    ppres, lyapunov_loss = predator_prey(jnp.array([prey0, predator0]), r=r, k=k, s=s, a=a, u=u, v=v)\n",
    "    # ppres = np.reshape(ppres, (num_time, num_time // num_steps, -1))\n",
    "    numpyro.factor('lyapunov_loss', lyapunov_loss)\n",
    "    numpyro.sample('obs', dist.Normal(ppres[indices], 10.0).to_event(2), obs=observations)"
   ]
  },
  {
   "cell_type": "markdown",
   "metadata": {},
   "source": [
    "### SVI"
   ]
  },
  {
   "cell_type": "code",
   "execution_count": 6,
   "metadata": {},
   "outputs": [
    {
     "name": "stderr",
     "output_type": "stream",
     "text": [
      "SVI 128697.4921875:  52%|█████▏    | 519/1000 [01:11<01:06,  7.21it/s]\n"
     ]
    },
    {
     "name": "stdout",
     "output_type": "stream",
     "text": [
      "Invalid value encountered in the output of a jit function. Calling the de-optimized version.\n"
     ]
    },
    {
     "ename": "FloatingPointError",
     "evalue": "invalid value (nan) encountered in while",
     "output_type": "error",
     "traceback": [
      "\u001B[0;31m---------------------------------------------------------------------------\u001B[0m",
      "\u001B[0;31mFloatingPointError\u001B[0m                        Traceback (most recent call last)",
      "\u001B[0;32m/usr/local/Caskroom/miniconda/base/envs/numpyro-stein/lib/python3.8/site-packages/jax/interpreters/xla.py\u001B[0m in \u001B[0;36m_xla_call_impl\u001B[0;34m(fun, device, backend, name, donated_invars, *args)\u001B[0m\n\u001B[1;32m    535\u001B[0m   \u001B[0;32mtry\u001B[0m\u001B[0;34m:\u001B[0m\u001B[0;34m\u001B[0m\u001B[0;34m\u001B[0m\u001B[0m\n\u001B[0;32m--> 536\u001B[0;31m     \u001B[0;32mreturn\u001B[0m \u001B[0mcompiled_fun\u001B[0m\u001B[0;34m(\u001B[0m\u001B[0;34m*\u001B[0m\u001B[0margs\u001B[0m\u001B[0;34m)\u001B[0m\u001B[0;34m\u001B[0m\u001B[0;34m\u001B[0m\u001B[0m\n\u001B[0m\u001B[1;32m    537\u001B[0m   \u001B[0;32mexcept\u001B[0m \u001B[0mFloatingPointError\u001B[0m\u001B[0;34m:\u001B[0m\u001B[0;34m\u001B[0m\u001B[0;34m\u001B[0m\u001B[0m\n",
      "\u001B[0;32m/usr/local/Caskroom/miniconda/base/envs/numpyro-stein/lib/python3.8/site-packages/jax/interpreters/xla.py\u001B[0m in \u001B[0;36m_execute_compiled\u001B[0;34m(compiled, uses_outfeed, handlers, *args)\u001B[0m\n\u001B[1;32m    753\u001B[0m   \u001B[0mout_bufs\u001B[0m \u001B[0;34m=\u001B[0m \u001B[0mcompiled\u001B[0m\u001B[0;34m.\u001B[0m\u001B[0mexecute\u001B[0m\u001B[0;34m(\u001B[0m\u001B[0minput_bufs\u001B[0m\u001B[0;34m)\u001B[0m\u001B[0;34m\u001B[0m\u001B[0;34m\u001B[0m\u001B[0m\n\u001B[0;32m--> 754\u001B[0;31m   \u001B[0;32mif\u001B[0m \u001B[0mFLAGS\u001B[0m\u001B[0;34m.\u001B[0m\u001B[0mjax_debug_nans\u001B[0m\u001B[0;34m:\u001B[0m \u001B[0mcheck_nans\u001B[0m\u001B[0;34m(\u001B[0m\u001B[0mxla_call_p\u001B[0m\u001B[0;34m,\u001B[0m \u001B[0mout_bufs\u001B[0m\u001B[0;34m)\u001B[0m\u001B[0;34m\u001B[0m\u001B[0;34m\u001B[0m\u001B[0m\n\u001B[0m\u001B[1;32m    755\u001B[0m   \u001B[0;32mreturn\u001B[0m \u001B[0;34m[\u001B[0m\u001B[0mhandler\u001B[0m\u001B[0;34m(\u001B[0m\u001B[0mout_buf\u001B[0m\u001B[0;34m)\u001B[0m \u001B[0;32mfor\u001B[0m \u001B[0mhandler\u001B[0m\u001B[0;34m,\u001B[0m \u001B[0mout_buf\u001B[0m \u001B[0;32min\u001B[0m \u001B[0mzip\u001B[0m\u001B[0;34m(\u001B[0m\u001B[0mhandlers\u001B[0m\u001B[0;34m,\u001B[0m \u001B[0mout_bufs\u001B[0m\u001B[0;34m)\u001B[0m\u001B[0;34m]\u001B[0m\u001B[0;34m\u001B[0m\u001B[0;34m\u001B[0m\u001B[0m\n",
      "\u001B[0;32m/usr/local/Caskroom/miniconda/base/envs/numpyro-stein/lib/python3.8/site-packages/jax/interpreters/xla.py\u001B[0m in \u001B[0;36mcheck_nans\u001B[0;34m(prim, bufs)\u001B[0m\n\u001B[1;32m    340\u001B[0m   \u001B[0;32mfor\u001B[0m \u001B[0mbuf\u001B[0m \u001B[0;32min\u001B[0m \u001B[0mbufs\u001B[0m\u001B[0;34m:\u001B[0m\u001B[0;34m\u001B[0m\u001B[0;34m\u001B[0m\u001B[0m\n\u001B[0;32m--> 341\u001B[0;31m     \u001B[0m_check_nans\u001B[0m\u001B[0;34m(\u001B[0m\u001B[0mprim\u001B[0m\u001B[0;34m.\u001B[0m\u001B[0mname\u001B[0m\u001B[0;34m,\u001B[0m \u001B[0mbuf\u001B[0m\u001B[0;34m.\u001B[0m\u001B[0mshape\u001B[0m\u001B[0;34m(\u001B[0m\u001B[0;34m)\u001B[0m\u001B[0;34m,\u001B[0m \u001B[0mbuf\u001B[0m\u001B[0;34m)\u001B[0m\u001B[0;34m\u001B[0m\u001B[0;34m\u001B[0m\u001B[0m\n\u001B[0m\u001B[1;32m    342\u001B[0m \u001B[0;34m\u001B[0m\u001B[0m\n",
      "\u001B[0;32m/usr/local/Caskroom/miniconda/base/envs/numpyro-stein/lib/python3.8/site-packages/jax/interpreters/xla.py\u001B[0m in \u001B[0;36m_check_nans\u001B[0;34m(name, xla_shape, buf)\u001B[0m\n\u001B[1;32m    346\u001B[0m     \u001B[0;32mif\u001B[0m \u001B[0monp\u001B[0m\u001B[0;34m.\u001B[0m\u001B[0many\u001B[0m\u001B[0;34m(\u001B[0m\u001B[0monp\u001B[0m\u001B[0;34m.\u001B[0m\u001B[0misnan\u001B[0m\u001B[0;34m(\u001B[0m\u001B[0mbuf\u001B[0m\u001B[0;34m.\u001B[0m\u001B[0mto_py\u001B[0m\u001B[0;34m(\u001B[0m\u001B[0;34m)\u001B[0m\u001B[0;34m)\u001B[0m\u001B[0;34m)\u001B[0m\u001B[0;34m:\u001B[0m\u001B[0;34m\u001B[0m\u001B[0;34m\u001B[0m\u001B[0m\n\u001B[0;32m--> 347\u001B[0;31m       \u001B[0;32mraise\u001B[0m \u001B[0mFloatingPointError\u001B[0m\u001B[0;34m(\u001B[0m\u001B[0;34mf\"invalid value (nan) encountered in {name}\"\u001B[0m\u001B[0;34m)\u001B[0m\u001B[0;34m\u001B[0m\u001B[0;34m\u001B[0m\u001B[0m\n\u001B[0m\u001B[1;32m    348\u001B[0m \u001B[0;34m\u001B[0m\u001B[0m\n",
      "\u001B[0;31mFloatingPointError\u001B[0m: invalid value (nan) encountered in xla_call",
      "\nDuring handling of the above exception, another exception occurred:\n",
      "\u001B[0;31mFloatingPointError\u001B[0m                        Traceback (most recent call last)",
      "\u001B[0;32m<ipython-input-6-334b33af792b>\u001B[0m in \u001B[0;36m<module>\u001B[0;34m\u001B[0m\n\u001B[1;32m      4\u001B[0m \u001B[0;32mfor\u001B[0m \u001B[0mi\u001B[0m \u001B[0;32min\u001B[0m \u001B[0mpbar\u001B[0m\u001B[0;34m:\u001B[0m\u001B[0;34m\u001B[0m\u001B[0;34m\u001B[0m\u001B[0m\n\u001B[1;32m      5\u001B[0m     \u001B[0mprev_state\u001B[0m \u001B[0;34m=\u001B[0m \u001B[0mstate\u001B[0m\u001B[0;34m\u001B[0m\u001B[0;34m\u001B[0m\u001B[0m\n\u001B[0;32m----> 6\u001B[0;31m     \u001B[0mstate\u001B[0m\u001B[0;34m,\u001B[0m \u001B[0mloss\u001B[0m \u001B[0;34m=\u001B[0m \u001B[0msvi\u001B[0m\u001B[0;34m.\u001B[0m\u001B[0mupdate\u001B[0m\u001B[0;34m(\u001B[0m\u001B[0mstate\u001B[0m\u001B[0;34m,\u001B[0m \u001B[0;34m*\u001B[0m\u001B[0mdata\u001B[0m\u001B[0;34m)\u001B[0m\u001B[0;34m\u001B[0m\u001B[0;34m\u001B[0m\u001B[0m\n\u001B[0m\u001B[1;32m      7\u001B[0m     \u001B[0mpbar\u001B[0m\u001B[0;34m.\u001B[0m\u001B[0mset_description\u001B[0m\u001B[0;34m(\u001B[0m\u001B[0;34mf'SVI {loss}'\u001B[0m\u001B[0;34m)\u001B[0m\u001B[0;34m\u001B[0m\u001B[0;34m\u001B[0m\u001B[0m\n\u001B[1;32m      8\u001B[0m \u001B[0;34m\u001B[0m\u001B[0m\n",
      "\u001B[0;32m~/Documents/SourceControl/numpyro/numpyro/infer/svi.py\u001B[0m in \u001B[0;36mupdate\u001B[0;34m(self, svi_state, *args, **kwargs)\u001B[0m\n\u001B[1;32m     94\u001B[0m         \u001B[0mrng_key\u001B[0m\u001B[0;34m,\u001B[0m \u001B[0mrng_key_step\u001B[0m \u001B[0;34m=\u001B[0m \u001B[0mrandom\u001B[0m\u001B[0;34m.\u001B[0m\u001B[0msplit\u001B[0m\u001B[0;34m(\u001B[0m\u001B[0msvi_state\u001B[0m\u001B[0;34m.\u001B[0m\u001B[0mrng_key\u001B[0m\u001B[0;34m)\u001B[0m\u001B[0;34m\u001B[0m\u001B[0;34m\u001B[0m\u001B[0m\n\u001B[1;32m     95\u001B[0m         \u001B[0mparams\u001B[0m \u001B[0;34m=\u001B[0m \u001B[0mself\u001B[0m\u001B[0;34m.\u001B[0m\u001B[0moptim\u001B[0m\u001B[0;34m.\u001B[0m\u001B[0mget_params\u001B[0m\u001B[0;34m(\u001B[0m\u001B[0msvi_state\u001B[0m\u001B[0;34m.\u001B[0m\u001B[0moptim_state\u001B[0m\u001B[0;34m)\u001B[0m\u001B[0;34m\u001B[0m\u001B[0;34m\u001B[0m\u001B[0m\n\u001B[0;32m---> 96\u001B[0;31m         loss_val, grads = value_and_grad(\n\u001B[0m\u001B[1;32m     97\u001B[0m             lambda x: self.loss.loss(rng_key_step, self.constrain_fn(x), self.model, self.guide,\n\u001B[1;32m     98\u001B[0m                                      *args, **kwargs, **self.static_kwargs))(params)\n",
      "\u001B[0;32m/usr/local/Caskroom/miniconda/base/envs/numpyro-stein/lib/python3.8/site-packages/jax/api.py\u001B[0m in \u001B[0;36mvalue_and_grad_f\u001B[0;34m(*args, **kwargs)\u001B[0m\n\u001B[1;32m    474\u001B[0m     \u001B[0mdtype\u001B[0m \u001B[0;34m=\u001B[0m \u001B[0mdtypes\u001B[0m\u001B[0;34m.\u001B[0m\u001B[0mresult_type\u001B[0m\u001B[0;34m(\u001B[0m\u001B[0mans\u001B[0m\u001B[0;34m)\u001B[0m\u001B[0;34m\u001B[0m\u001B[0;34m\u001B[0m\u001B[0m\n\u001B[1;32m    475\u001B[0m     \u001B[0mtree_map\u001B[0m\u001B[0;34m(\u001B[0m\u001B[0mpartial\u001B[0m\u001B[0;34m(\u001B[0m\u001B[0m_check_output_dtype_grad\u001B[0m\u001B[0;34m,\u001B[0m \u001B[0mholomorphic\u001B[0m\u001B[0;34m)\u001B[0m\u001B[0;34m,\u001B[0m \u001B[0mans\u001B[0m\u001B[0;34m)\u001B[0m\u001B[0;34m\u001B[0m\u001B[0;34m\u001B[0m\u001B[0m\n\u001B[0;32m--> 476\u001B[0;31m     \u001B[0mg\u001B[0m \u001B[0;34m=\u001B[0m \u001B[0mvjp_py\u001B[0m\u001B[0;34m(\u001B[0m\u001B[0monp\u001B[0m\u001B[0;34m.\u001B[0m\u001B[0mones\u001B[0m\u001B[0;34m(\u001B[0m\u001B[0;34m(\u001B[0m\u001B[0;34m)\u001B[0m\u001B[0;34m,\u001B[0m \u001B[0mdtype\u001B[0m\u001B[0;34m=\u001B[0m\u001B[0mdtype\u001B[0m\u001B[0;34m)\u001B[0m\u001B[0;34m)\u001B[0m\u001B[0;34m\u001B[0m\u001B[0;34m\u001B[0m\u001B[0m\n\u001B[0m\u001B[1;32m    477\u001B[0m     \u001B[0mg\u001B[0m \u001B[0;34m=\u001B[0m \u001B[0mg\u001B[0m\u001B[0;34m[\u001B[0m\u001B[0;36m0\u001B[0m\u001B[0;34m]\u001B[0m \u001B[0;32mif\u001B[0m \u001B[0misinstance\u001B[0m\u001B[0;34m(\u001B[0m\u001B[0margnums\u001B[0m\u001B[0;34m,\u001B[0m \u001B[0mint\u001B[0m\u001B[0;34m)\u001B[0m \u001B[0;32melse\u001B[0m \u001B[0mg\u001B[0m\u001B[0;34m\u001B[0m\u001B[0;34m\u001B[0m\u001B[0m\n\u001B[1;32m    478\u001B[0m     \u001B[0;32mif\u001B[0m \u001B[0;32mnot\u001B[0m \u001B[0mhas_aux\u001B[0m\u001B[0;34m:\u001B[0m\u001B[0;34m\u001B[0m\u001B[0;34m\u001B[0m\u001B[0m\n",
      "\u001B[0;32m/usr/local/Caskroom/miniconda/base/envs/numpyro-stein/lib/python3.8/site-packages/jax/api.py\u001B[0m in \u001B[0;36m_vjp_pullback_wrapper\u001B[0;34m(fun, cotangent_dtypes, io_tree, py_args)\u001B[0m\n\u001B[1;32m   1505\u001B[0m              \"match type of corresponding primal output ({})\")\n\u001B[1;32m   1506\u001B[0m       \u001B[0;32mraise\u001B[0m \u001B[0mTypeError\u001B[0m\u001B[0;34m(\u001B[0m\u001B[0mmsg\u001B[0m\u001B[0;34m.\u001B[0m\u001B[0mformat\u001B[0m\u001B[0;34m(\u001B[0m\u001B[0m_dtype\u001B[0m\u001B[0;34m(\u001B[0m\u001B[0ma\u001B[0m\u001B[0;34m)\u001B[0m\u001B[0;34m,\u001B[0m \u001B[0mdtype\u001B[0m\u001B[0;34m)\u001B[0m\u001B[0;34m)\u001B[0m\u001B[0;34m\u001B[0m\u001B[0;34m\u001B[0m\u001B[0m\n\u001B[0;32m-> 1507\u001B[0;31m   \u001B[0mans\u001B[0m \u001B[0;34m=\u001B[0m \u001B[0mfun\u001B[0m\u001B[0;34m(\u001B[0m\u001B[0;34m*\u001B[0m\u001B[0margs\u001B[0m\u001B[0;34m)\u001B[0m\u001B[0;34m\u001B[0m\u001B[0;34m\u001B[0m\u001B[0m\n\u001B[0m\u001B[1;32m   1508\u001B[0m   \u001B[0;32mreturn\u001B[0m \u001B[0mtree_unflatten\u001B[0m\u001B[0;34m(\u001B[0m\u001B[0mout_tree\u001B[0m\u001B[0;34m,\u001B[0m \u001B[0mans\u001B[0m\u001B[0;34m)\u001B[0m\u001B[0;34m\u001B[0m\u001B[0;34m\u001B[0m\u001B[0m\n\u001B[1;32m   1509\u001B[0m \u001B[0;34m\u001B[0m\u001B[0m\n",
      "\u001B[0;32m/usr/local/Caskroom/miniconda/base/envs/numpyro-stein/lib/python3.8/site-packages/jax/interpreters/ad.py\u001B[0m in \u001B[0;36mvjp_\u001B[0;34m(*cts)\u001B[0m\n\u001B[1;32m    112\u001B[0m     \u001B[0mcts\u001B[0m \u001B[0;34m=\u001B[0m \u001B[0mtuple\u001B[0m\u001B[0;34m(\u001B[0m\u001B[0mmap\u001B[0m\u001B[0;34m(\u001B[0m\u001B[0mignore_consts\u001B[0m\u001B[0;34m,\u001B[0m \u001B[0mcts\u001B[0m\u001B[0;34m,\u001B[0m \u001B[0mpvals\u001B[0m\u001B[0;34m)\u001B[0m\u001B[0;34m)\u001B[0m\u001B[0;34m\u001B[0m\u001B[0;34m\u001B[0m\u001B[0m\n\u001B[1;32m    113\u001B[0m     \u001B[0mdummy_args\u001B[0m \u001B[0;34m=\u001B[0m \u001B[0;34m[\u001B[0m\u001B[0mUndefinedPrimal\u001B[0m\u001B[0;34m(\u001B[0m\u001B[0mv\u001B[0m\u001B[0;34m.\u001B[0m\u001B[0maval\u001B[0m\u001B[0;34m)\u001B[0m \u001B[0;32mfor\u001B[0m \u001B[0mv\u001B[0m \u001B[0;32min\u001B[0m \u001B[0mjaxpr\u001B[0m\u001B[0;34m.\u001B[0m\u001B[0minvars\u001B[0m\u001B[0;34m]\u001B[0m\u001B[0;34m\u001B[0m\u001B[0;34m\u001B[0m\u001B[0m\n\u001B[0;32m--> 114\u001B[0;31m     \u001B[0marg_cts\u001B[0m \u001B[0;34m=\u001B[0m \u001B[0mbackward_pass\u001B[0m\u001B[0;34m(\u001B[0m\u001B[0mjaxpr\u001B[0m\u001B[0;34m,\u001B[0m \u001B[0mconsts\u001B[0m\u001B[0;34m,\u001B[0m \u001B[0mdummy_args\u001B[0m\u001B[0;34m,\u001B[0m \u001B[0mcts\u001B[0m\u001B[0;34m)\u001B[0m\u001B[0;34m\u001B[0m\u001B[0;34m\u001B[0m\u001B[0m\n\u001B[0m\u001B[1;32m    115\u001B[0m     \u001B[0;32mreturn\u001B[0m \u001B[0mmap\u001B[0m\u001B[0;34m(\u001B[0m\u001B[0minstantiate_zeros\u001B[0m\u001B[0;34m,\u001B[0m \u001B[0marg_cts\u001B[0m\u001B[0;34m)\u001B[0m\u001B[0;34m\u001B[0m\u001B[0;34m\u001B[0m\u001B[0m\n\u001B[1;32m    116\u001B[0m \u001B[0;34m\u001B[0m\u001B[0m\n",
      "\u001B[0;32m/usr/local/Caskroom/miniconda/base/envs/numpyro-stein/lib/python3.8/site-packages/jax/interpreters/ad.py\u001B[0m in \u001B[0;36mbackward_pass\u001B[0;34m(jaxpr, consts, primals_in, cotangents_in)\u001B[0m\n\u001B[1;32m    193\u001B[0m       \u001B[0mcts_in_avals\u001B[0m \u001B[0;34m=\u001B[0m \u001B[0;34m[\u001B[0m\u001B[0mv\u001B[0m\u001B[0;34m.\u001B[0m\u001B[0maval\u001B[0m \u001B[0;32mfor\u001B[0m \u001B[0mv\u001B[0m \u001B[0;32min\u001B[0m \u001B[0meqn\u001B[0m\u001B[0;34m.\u001B[0m\u001B[0moutvars\u001B[0m\u001B[0;34m]\u001B[0m\u001B[0;34m\u001B[0m\u001B[0;34m\u001B[0m\u001B[0m\n\u001B[1;32m    194\u001B[0m       \u001B[0mcall_jaxpr\u001B[0m\u001B[0;34m,\u001B[0m \u001B[0mparams\u001B[0m \u001B[0;34m=\u001B[0m \u001B[0mcore\u001B[0m\u001B[0;34m.\u001B[0m\u001B[0mextract_call_jaxpr\u001B[0m\u001B[0;34m(\u001B[0m\u001B[0meqn\u001B[0m\u001B[0;34m.\u001B[0m\u001B[0mprimitive\u001B[0m\u001B[0;34m,\u001B[0m \u001B[0meqn\u001B[0m\u001B[0;34m.\u001B[0m\u001B[0mparams\u001B[0m\u001B[0;34m)\u001B[0m\u001B[0;34m\u001B[0m\u001B[0;34m\u001B[0m\u001B[0m\n\u001B[0;32m--> 195\u001B[0;31m       cts_out = get_primitive_transpose(eqn.primitive)(\n\u001B[0m\u001B[1;32m    196\u001B[0m           params, call_jaxpr, invals, cts_in, cts_in_avals)\n\u001B[1;32m    197\u001B[0m     \u001B[0;32melse\u001B[0m\u001B[0;34m:\u001B[0m\u001B[0;34m\u001B[0m\u001B[0;34m\u001B[0m\u001B[0m\n",
      "\u001B[0;32m/usr/local/Caskroom/miniconda/base/envs/numpyro-stein/lib/python3.8/site-packages/jax/interpreters/ad.py\u001B[0m in \u001B[0;36mcall_transpose\u001B[0;34m(primitive, params, call_jaxpr, args, ct, _)\u001B[0m\n\u001B[1;32m    496\u001B[0m                           *[False for x in ct if type(x) is not Zero])\n\u001B[1;32m    497\u001B[0m     \u001B[0mparams\u001B[0m\u001B[0;34m[\u001B[0m\u001B[0;34m'donated_invars'\u001B[0m\u001B[0;34m]\u001B[0m \u001B[0;34m=\u001B[0m \u001B[0mtuple\u001B[0m\u001B[0;34m(\u001B[0m\u001B[0mnew_donated_invars\u001B[0m\u001B[0;34m)\u001B[0m\u001B[0;34m\u001B[0m\u001B[0;34m\u001B[0m\u001B[0m\n\u001B[0;32m--> 498\u001B[0;31m   \u001B[0mout_flat\u001B[0m \u001B[0;34m=\u001B[0m \u001B[0mprimitive\u001B[0m\u001B[0;34m.\u001B[0m\u001B[0mbind\u001B[0m\u001B[0;34m(\u001B[0m\u001B[0mfun\u001B[0m\u001B[0;34m,\u001B[0m \u001B[0;34m*\u001B[0m\u001B[0mall_args\u001B[0m\u001B[0;34m,\u001B[0m \u001B[0;34m**\u001B[0m\u001B[0mparams\u001B[0m\u001B[0;34m)\u001B[0m\u001B[0;34m\u001B[0m\u001B[0;34m\u001B[0m\u001B[0m\n\u001B[0m\u001B[1;32m    499\u001B[0m   \u001B[0;32mreturn\u001B[0m \u001B[0mtree_unflatten\u001B[0m\u001B[0;34m(\u001B[0m\u001B[0mout_tree\u001B[0m\u001B[0;34m(\u001B[0m\u001B[0;34m)\u001B[0m\u001B[0;34m,\u001B[0m \u001B[0mout_flat\u001B[0m\u001B[0;34m)\u001B[0m\u001B[0;34m\u001B[0m\u001B[0;34m\u001B[0m\u001B[0m\n\u001B[1;32m    500\u001B[0m \u001B[0mprimitive_transposes\u001B[0m\u001B[0;34m[\u001B[0m\u001B[0mcore\u001B[0m\u001B[0;34m.\u001B[0m\u001B[0mcall_p\u001B[0m\u001B[0;34m]\u001B[0m \u001B[0;34m=\u001B[0m \u001B[0mpartial\u001B[0m\u001B[0;34m(\u001B[0m\u001B[0mcall_transpose\u001B[0m\u001B[0;34m,\u001B[0m \u001B[0mcall_p\u001B[0m\u001B[0;34m)\u001B[0m\u001B[0;34m\u001B[0m\u001B[0;34m\u001B[0m\u001B[0m\n",
      "\u001B[0;32m/usr/local/Caskroom/miniconda/base/envs/numpyro-stein/lib/python3.8/site-packages/jax/core.py\u001B[0m in \u001B[0;36m_call_bind\u001B[0;34m(processor, post_processor, primitive, f, *args, **params)\u001B[0m\n\u001B[1;32m   1083\u001B[0m   \u001B[0;32mif\u001B[0m \u001B[0mtop_trace\u001B[0m \u001B[0;32mis\u001B[0m \u001B[0;32mNone\u001B[0m\u001B[0;34m:\u001B[0m\u001B[0;34m\u001B[0m\u001B[0;34m\u001B[0m\u001B[0m\n\u001B[1;32m   1084\u001B[0m     \u001B[0;32mwith\u001B[0m \u001B[0mnew_sublevel\u001B[0m\u001B[0;34m(\u001B[0m\u001B[0;34m)\u001B[0m\u001B[0;34m:\u001B[0m\u001B[0;34m\u001B[0m\u001B[0;34m\u001B[0m\u001B[0m\n\u001B[0;32m-> 1085\u001B[0;31m       \u001B[0mouts\u001B[0m \u001B[0;34m=\u001B[0m \u001B[0mprimitive\u001B[0m\u001B[0;34m.\u001B[0m\u001B[0mimpl\u001B[0m\u001B[0;34m(\u001B[0m\u001B[0mf\u001B[0m\u001B[0;34m,\u001B[0m \u001B[0;34m*\u001B[0m\u001B[0margs\u001B[0m\u001B[0;34m,\u001B[0m \u001B[0;34m**\u001B[0m\u001B[0mparams\u001B[0m\u001B[0;34m)\u001B[0m\u001B[0;34m\u001B[0m\u001B[0;34m\u001B[0m\u001B[0m\n\u001B[0m\u001B[1;32m   1086\u001B[0m   \u001B[0;32melse\u001B[0m\u001B[0;34m:\u001B[0m\u001B[0;34m\u001B[0m\u001B[0;34m\u001B[0m\u001B[0m\n\u001B[1;32m   1087\u001B[0m     \u001B[0mtracers\u001B[0m \u001B[0;34m=\u001B[0m \u001B[0mmap\u001B[0m\u001B[0;34m(\u001B[0m\u001B[0mtop_trace\u001B[0m\u001B[0;34m.\u001B[0m\u001B[0mfull_raise\u001B[0m\u001B[0;34m,\u001B[0m \u001B[0margs\u001B[0m\u001B[0;34m)\u001B[0m\u001B[0;34m\u001B[0m\u001B[0;34m\u001B[0m\u001B[0m\n",
      "\u001B[0;32m/usr/local/Caskroom/miniconda/base/envs/numpyro-stein/lib/python3.8/site-packages/jax/interpreters/xla.py\u001B[0m in \u001B[0;36m_xla_call_impl\u001B[0;34m(fun, device, backend, name, donated_invars, *args)\u001B[0m\n\u001B[1;32m    538\u001B[0m     print(\"Invalid value encountered in the output of a jit function. \"\n\u001B[1;32m    539\u001B[0m           \"Calling the de-optimized version.\")\n\u001B[0;32m--> 540\u001B[0;31m     \u001B[0;32mreturn\u001B[0m \u001B[0mfun\u001B[0m\u001B[0;34m.\u001B[0m\u001B[0mcall_wrapped\u001B[0m\u001B[0;34m(\u001B[0m\u001B[0;34m*\u001B[0m\u001B[0margs\u001B[0m\u001B[0;34m)\u001B[0m  \u001B[0;31m# probably won't return\u001B[0m\u001B[0;34m\u001B[0m\u001B[0;34m\u001B[0m\u001B[0m\n\u001B[0m\u001B[1;32m    541\u001B[0m \u001B[0;34m\u001B[0m\u001B[0m\n\u001B[1;32m    542\u001B[0m \u001B[0;32mdef\u001B[0m \u001B[0mflatten_shape\u001B[0m\u001B[0;34m(\u001B[0m\u001B[0ms\u001B[0m\u001B[0;34m:\u001B[0m \u001B[0mXlaShape\u001B[0m\u001B[0;34m)\u001B[0m \u001B[0;34m->\u001B[0m \u001B[0mSequence\u001B[0m\u001B[0;34m[\u001B[0m\u001B[0mTuple\u001B[0m\u001B[0;34m[\u001B[0m\u001B[0mSequence\u001B[0m\u001B[0;34m[\u001B[0m\u001B[0mint\u001B[0m\u001B[0;34m]\u001B[0m\u001B[0;34m,\u001B[0m \u001B[0mXlaShape\u001B[0m\u001B[0;34m]\u001B[0m\u001B[0;34m]\u001B[0m\u001B[0;34m:\u001B[0m\u001B[0;34m\u001B[0m\u001B[0;34m\u001B[0m\u001B[0m\n",
      "\u001B[0;32m/usr/local/Caskroom/miniconda/base/envs/numpyro-stein/lib/python3.8/site-packages/jax/linear_util.py\u001B[0m in \u001B[0;36mcall_wrapped\u001B[0;34m(self, *args, **kwargs)\u001B[0m\n\u001B[1;32m    148\u001B[0m     \u001B[0mgen\u001B[0m \u001B[0;34m=\u001B[0m \u001B[0;32mNone\u001B[0m\u001B[0;34m\u001B[0m\u001B[0;34m\u001B[0m\u001B[0m\n\u001B[1;32m    149\u001B[0m \u001B[0;34m\u001B[0m\u001B[0m\n\u001B[0;32m--> 150\u001B[0;31m     \u001B[0mans\u001B[0m \u001B[0;34m=\u001B[0m \u001B[0mself\u001B[0m\u001B[0;34m.\u001B[0m\u001B[0mf\u001B[0m\u001B[0;34m(\u001B[0m\u001B[0;34m*\u001B[0m\u001B[0margs\u001B[0m\u001B[0;34m,\u001B[0m \u001B[0;34m**\u001B[0m\u001B[0mdict\u001B[0m\u001B[0;34m(\u001B[0m\u001B[0mself\u001B[0m\u001B[0;34m.\u001B[0m\u001B[0mparams\u001B[0m\u001B[0;34m,\u001B[0m \u001B[0;34m**\u001B[0m\u001B[0mkwargs\u001B[0m\u001B[0;34m)\u001B[0m\u001B[0;34m)\u001B[0m\u001B[0;34m\u001B[0m\u001B[0;34m\u001B[0m\u001B[0m\n\u001B[0m\u001B[1;32m    151\u001B[0m     \u001B[0;32mdel\u001B[0m \u001B[0margs\u001B[0m\u001B[0;34m\u001B[0m\u001B[0;34m\u001B[0m\u001B[0m\n\u001B[1;32m    152\u001B[0m     \u001B[0;32mwhile\u001B[0m \u001B[0mstack\u001B[0m\u001B[0;34m:\u001B[0m\u001B[0;34m\u001B[0m\u001B[0;34m\u001B[0m\u001B[0m\n",
      "\u001B[0;32m/usr/local/Caskroom/miniconda/base/envs/numpyro-stein/lib/python3.8/site-packages/jax/interpreters/ad.py\u001B[0m in \u001B[0;36mbackward_pass\u001B[0;34m(jaxpr, consts, primals_in, cotangents_in)\u001B[0m\n\u001B[1;32m    196\u001B[0m           params, call_jaxpr, invals, cts_in, cts_in_avals)\n\u001B[1;32m    197\u001B[0m     \u001B[0;32melse\u001B[0m\u001B[0;34m:\u001B[0m\u001B[0;34m\u001B[0m\u001B[0;34m\u001B[0m\u001B[0m\n\u001B[0;32m--> 198\u001B[0;31m       \u001B[0mcts_out\u001B[0m \u001B[0;34m=\u001B[0m \u001B[0mget_primitive_transpose\u001B[0m\u001B[0;34m(\u001B[0m\u001B[0meqn\u001B[0m\u001B[0;34m.\u001B[0m\u001B[0mprimitive\u001B[0m\u001B[0;34m)\u001B[0m\u001B[0;34m(\u001B[0m\u001B[0mcts_in\u001B[0m\u001B[0;34m,\u001B[0m \u001B[0;34m*\u001B[0m\u001B[0minvals\u001B[0m\u001B[0;34m,\u001B[0m \u001B[0;34m**\u001B[0m\u001B[0meqn\u001B[0m\u001B[0;34m.\u001B[0m\u001B[0mparams\u001B[0m\u001B[0;34m)\u001B[0m\u001B[0;34m\u001B[0m\u001B[0;34m\u001B[0m\u001B[0m\n\u001B[0m\u001B[1;32m    199\u001B[0m     \u001B[0mcts_out\u001B[0m \u001B[0;34m=\u001B[0m \u001B[0;34m[\u001B[0m\u001B[0mZero\u001B[0m\u001B[0;34m(\u001B[0m\u001B[0mv\u001B[0m\u001B[0;34m.\u001B[0m\u001B[0maval\u001B[0m\u001B[0;34m)\u001B[0m \u001B[0;32mfor\u001B[0m \u001B[0mv\u001B[0m \u001B[0;32min\u001B[0m \u001B[0meqn\u001B[0m\u001B[0;34m.\u001B[0m\u001B[0minvars\u001B[0m\u001B[0;34m]\u001B[0m \u001B[0;32mif\u001B[0m \u001B[0mcts_out\u001B[0m \u001B[0;32mis\u001B[0m \u001B[0mZero\u001B[0m \u001B[0;32melse\u001B[0m \u001B[0mcts_out\u001B[0m\u001B[0;34m\u001B[0m\u001B[0;34m\u001B[0m\u001B[0m\n\u001B[1;32m    200\u001B[0m     \u001B[0;31m# FIXME: Some invars correspond to primals!\u001B[0m\u001B[0;34m\u001B[0m\u001B[0;34m\u001B[0m\u001B[0;34m\u001B[0m\u001B[0m\n",
      "\u001B[0;32m/usr/local/Caskroom/miniconda/base/envs/numpyro-stein/lib/python3.8/site-packages/jax/lax/lax_control_flow.py\u001B[0m in \u001B[0;36m_scan_transpose\u001B[0;34m(cts, reverse, length, num_consts, num_carry, jaxpr, linear, *args)\u001B[0m\n\u001B[1;32m   1394\u001B[0m                   [False] * num_eres)\n\u001B[1;32m   1395\u001B[0m \u001B[0;34m\u001B[0m\u001B[0m\n\u001B[0;32m-> 1396\u001B[0;31m   outs = scan_p.bind(\n\u001B[0m\u001B[1;32m   1397\u001B[0m       \u001B[0;34m*\u001B[0m\u001B[0;34m(\u001B[0m\u001B[0mires\u001B[0m \u001B[0;34m+\u001B[0m \u001B[0mct_consts\u001B[0m \u001B[0;34m+\u001B[0m \u001B[0mct_carry\u001B[0m \u001B[0;34m+\u001B[0m \u001B[0mct_ys\u001B[0m \u001B[0;34m+\u001B[0m \u001B[0meres\u001B[0m\u001B[0;34m)\u001B[0m\u001B[0;34m,\u001B[0m \u001B[0mreverse\u001B[0m\u001B[0;34m=\u001B[0m\u001B[0;32mnot\u001B[0m \u001B[0mreverse\u001B[0m\u001B[0;34m,\u001B[0m\u001B[0;34m\u001B[0m\u001B[0;34m\u001B[0m\u001B[0m\n\u001B[1;32m   1398\u001B[0m       \u001B[0mlength\u001B[0m\u001B[0;34m=\u001B[0m\u001B[0mlength\u001B[0m\u001B[0;34m,\u001B[0m \u001B[0mjaxpr\u001B[0m\u001B[0;34m=\u001B[0m\u001B[0mjaxpr_trans\u001B[0m\u001B[0;34m,\u001B[0m \u001B[0mnum_consts\u001B[0m\u001B[0;34m=\u001B[0m\u001B[0mnum_ires\u001B[0m\u001B[0;34m,\u001B[0m\u001B[0;34m\u001B[0m\u001B[0;34m\u001B[0m\u001B[0m\n",
      "\u001B[0;32m/usr/local/Caskroom/miniconda/base/envs/numpyro-stein/lib/python3.8/site-packages/jax/lax/lax_control_flow.py\u001B[0m in \u001B[0;36mscan_bind\u001B[0;34m(reverse, length, num_consts, num_carry, jaxpr, linear, *args)\u001B[0m\n\u001B[1;32m   1525\u001B[0m     \u001B[0;32massert\u001B[0m \u001B[0mall\u001B[0m\u001B[0;34m(\u001B[0m\u001B[0m_map\u001B[0m\u001B[0;34m(\u001B[0m\u001B[0mtypematch\u001B[0m\u001B[0;34m,\u001B[0m \u001B[0minit_avals\u001B[0m\u001B[0;34m,\u001B[0m \u001B[0mcarry_avals\u001B[0m\u001B[0;34m)\u001B[0m\u001B[0;34m)\u001B[0m\u001B[0;34m\u001B[0m\u001B[0;34m\u001B[0m\u001B[0m\n\u001B[1;32m   1526\u001B[0m     \u001B[0mcore\u001B[0m\u001B[0;34m.\u001B[0m\u001B[0mcheck_jaxpr\u001B[0m\u001B[0;34m(\u001B[0m\u001B[0mjaxpr\u001B[0m\u001B[0;34m.\u001B[0m\u001B[0mjaxpr\u001B[0m\u001B[0;34m)\u001B[0m\u001B[0;34m\u001B[0m\u001B[0;34m\u001B[0m\u001B[0m\n\u001B[0;32m-> 1527\u001B[0;31m   return core.Primitive.bind(scan_p, *args, reverse=reverse, length=length,\n\u001B[0m\u001B[1;32m   1528\u001B[0m                              \u001B[0mjaxpr\u001B[0m\u001B[0;34m=\u001B[0m\u001B[0mjaxpr\u001B[0m\u001B[0;34m,\u001B[0m \u001B[0mnum_consts\u001B[0m\u001B[0;34m=\u001B[0m\u001B[0mnum_consts\u001B[0m\u001B[0;34m,\u001B[0m\u001B[0;34m\u001B[0m\u001B[0;34m\u001B[0m\u001B[0m\n\u001B[1;32m   1529\u001B[0m                              num_carry=num_carry, linear=linear)\n",
      "\u001B[0;32m/usr/local/Caskroom/miniconda/base/envs/numpyro-stein/lib/python3.8/site-packages/jax/core.py\u001B[0m in \u001B[0;36mbind\u001B[0;34m(self, *args, **kwargs)\u001B[0m\n\u001B[1;32m    257\u001B[0m     \u001B[0mtop_trace\u001B[0m \u001B[0;34m=\u001B[0m \u001B[0mfind_top_trace\u001B[0m\u001B[0;34m(\u001B[0m\u001B[0margs\u001B[0m\u001B[0;34m)\u001B[0m\u001B[0;34m\u001B[0m\u001B[0;34m\u001B[0m\u001B[0m\n\u001B[1;32m    258\u001B[0m     \u001B[0;32mif\u001B[0m \u001B[0mtop_trace\u001B[0m \u001B[0;32mis\u001B[0m \u001B[0;32mNone\u001B[0m\u001B[0;34m:\u001B[0m\u001B[0;34m\u001B[0m\u001B[0;34m\u001B[0m\u001B[0m\n\u001B[0;32m--> 259\u001B[0;31m       \u001B[0;32mreturn\u001B[0m \u001B[0mself\u001B[0m\u001B[0;34m.\u001B[0m\u001B[0mimpl\u001B[0m\u001B[0;34m(\u001B[0m\u001B[0;34m*\u001B[0m\u001B[0margs\u001B[0m\u001B[0;34m,\u001B[0m \u001B[0;34m**\u001B[0m\u001B[0mkwargs\u001B[0m\u001B[0;34m)\u001B[0m\u001B[0;34m\u001B[0m\u001B[0;34m\u001B[0m\u001B[0m\n\u001B[0m\u001B[1;32m    260\u001B[0m \u001B[0;34m\u001B[0m\u001B[0m\n\u001B[1;32m    261\u001B[0m     \u001B[0mtracers\u001B[0m \u001B[0;34m=\u001B[0m \u001B[0mmap\u001B[0m\u001B[0;34m(\u001B[0m\u001B[0mtop_trace\u001B[0m\u001B[0;34m.\u001B[0m\u001B[0mfull_raise\u001B[0m\u001B[0;34m,\u001B[0m \u001B[0margs\u001B[0m\u001B[0;34m)\u001B[0m\u001B[0;34m\u001B[0m\u001B[0;34m\u001B[0m\u001B[0m\n",
      "\u001B[0;32m/usr/local/Caskroom/miniconda/base/envs/numpyro-stein/lib/python3.8/site-packages/jax/lax/lax_control_flow.py\u001B[0m in \u001B[0;36m_scan_impl\u001B[0;34m(reverse, length, num_consts, num_carry, jaxpr, linear, *args)\u001B[0m\n\u001B[1;32m   1174\u001B[0m   \u001B[0;32melse\u001B[0m\u001B[0;34m:\u001B[0m\u001B[0;34m\u001B[0m\u001B[0;34m\u001B[0m\u001B[0m\n\u001B[1;32m   1175\u001B[0m     \u001B[0minit_val\u001B[0m \u001B[0;34m=\u001B[0m \u001B[0;34m[\u001B[0m\u001B[0mlax\u001B[0m\u001B[0;34m.\u001B[0m\u001B[0m_const\u001B[0m\u001B[0;34m(\u001B[0m\u001B[0mlength\u001B[0m\u001B[0;34m,\u001B[0m \u001B[0;36m0\u001B[0m\u001B[0;34m)\u001B[0m\u001B[0;34m]\u001B[0m \u001B[0;34m+\u001B[0m \u001B[0minit\u001B[0m \u001B[0;34m+\u001B[0m \u001B[0mys_init\u001B[0m\u001B[0;34m\u001B[0m\u001B[0;34m\u001B[0m\u001B[0m\n\u001B[0;32m-> 1176\u001B[0;31m     \u001B[0m_\u001B[0m\u001B[0;34m,\u001B[0m \u001B[0;34m*\u001B[0m\u001B[0mouts\u001B[0m \u001B[0;34m=\u001B[0m \u001B[0mwhile_loop\u001B[0m\u001B[0;34m(\u001B[0m\u001B[0mcond_fun\u001B[0m\u001B[0;34m,\u001B[0m \u001B[0mbody_fun\u001B[0m\u001B[0;34m,\u001B[0m \u001B[0minit_val\u001B[0m\u001B[0;34m)\u001B[0m\u001B[0;34m\u001B[0m\u001B[0;34m\u001B[0m\u001B[0m\n\u001B[0m\u001B[1;32m   1177\u001B[0m     \u001B[0;32mreturn\u001B[0m \u001B[0mouts\u001B[0m\u001B[0;34m\u001B[0m\u001B[0;34m\u001B[0m\u001B[0m\n\u001B[1;32m   1178\u001B[0m \u001B[0;34m\u001B[0m\u001B[0m\n",
      "\u001B[0;32m/usr/local/Caskroom/miniconda/base/envs/numpyro-stein/lib/python3.8/site-packages/jax/lax/lax_control_flow.py\u001B[0m in \u001B[0;36mwhile_loop\u001B[0;34m(cond_fun, body_fun, init_val)\u001B[0m\n\u001B[1;32m    283\u001B[0m                         \u001B[0mbody_tree\u001B[0m\u001B[0;34m,\u001B[0m \u001B[0mbody_jaxpr\u001B[0m\u001B[0;34m.\u001B[0m\u001B[0mout_avals\u001B[0m\u001B[0;34m,\u001B[0m\u001B[0;34m\u001B[0m\u001B[0;34m\u001B[0m\u001B[0m\n\u001B[1;32m    284\u001B[0m                         in_tree_children[0], init_avals)\n\u001B[0;32m--> 285\u001B[0;31m   outs = while_p.bind(*itertools.chain(cond_consts, body_consts, init_vals),\n\u001B[0m\u001B[1;32m    286\u001B[0m                       \u001B[0mcond_nconsts\u001B[0m\u001B[0;34m=\u001B[0m\u001B[0mlen\u001B[0m\u001B[0;34m(\u001B[0m\u001B[0mcond_consts\u001B[0m\u001B[0;34m)\u001B[0m\u001B[0;34m,\u001B[0m \u001B[0mcond_jaxpr\u001B[0m\u001B[0;34m=\u001B[0m\u001B[0mcond_jaxpr\u001B[0m\u001B[0;34m,\u001B[0m\u001B[0;34m\u001B[0m\u001B[0;34m\u001B[0m\u001B[0m\n\u001B[1;32m    287\u001B[0m                       body_nconsts=len(body_consts), body_jaxpr=body_jaxpr)\n",
      "\u001B[0;32m/usr/local/Caskroom/miniconda/base/envs/numpyro-stein/lib/python3.8/site-packages/jax/core.py\u001B[0m in \u001B[0;36mbind\u001B[0;34m(self, *args, **kwargs)\u001B[0m\n\u001B[1;32m    257\u001B[0m     \u001B[0mtop_trace\u001B[0m \u001B[0;34m=\u001B[0m \u001B[0mfind_top_trace\u001B[0m\u001B[0;34m(\u001B[0m\u001B[0margs\u001B[0m\u001B[0;34m)\u001B[0m\u001B[0;34m\u001B[0m\u001B[0;34m\u001B[0m\u001B[0m\n\u001B[1;32m    258\u001B[0m     \u001B[0;32mif\u001B[0m \u001B[0mtop_trace\u001B[0m \u001B[0;32mis\u001B[0m \u001B[0;32mNone\u001B[0m\u001B[0;34m:\u001B[0m\u001B[0;34m\u001B[0m\u001B[0;34m\u001B[0m\u001B[0m\n\u001B[0;32m--> 259\u001B[0;31m       \u001B[0;32mreturn\u001B[0m \u001B[0mself\u001B[0m\u001B[0;34m.\u001B[0m\u001B[0mimpl\u001B[0m\u001B[0;34m(\u001B[0m\u001B[0;34m*\u001B[0m\u001B[0margs\u001B[0m\u001B[0;34m,\u001B[0m \u001B[0;34m**\u001B[0m\u001B[0mkwargs\u001B[0m\u001B[0;34m)\u001B[0m\u001B[0;34m\u001B[0m\u001B[0;34m\u001B[0m\u001B[0m\n\u001B[0m\u001B[1;32m    260\u001B[0m \u001B[0;34m\u001B[0m\u001B[0m\n\u001B[1;32m    261\u001B[0m     \u001B[0mtracers\u001B[0m \u001B[0;34m=\u001B[0m \u001B[0mmap\u001B[0m\u001B[0;34m(\u001B[0m\u001B[0mtop_trace\u001B[0m\u001B[0;34m.\u001B[0m\u001B[0mfull_raise\u001B[0m\u001B[0;34m,\u001B[0m \u001B[0margs\u001B[0m\u001B[0;34m)\u001B[0m\u001B[0;34m\u001B[0m\u001B[0;34m\u001B[0m\u001B[0m\n",
      "\u001B[0;32m/usr/local/Caskroom/miniconda/base/envs/numpyro-stein/lib/python3.8/site-packages/jax/interpreters/xla.py\u001B[0m in \u001B[0;36mapply_primitive\u001B[0;34m(prim, *args, **params)\u001B[0m\n\u001B[1;32m    224\u001B[0m   \u001B[0;34m\"\"\"Impl rule that compiles and runs a single primitive 'prim' using XLA.\"\"\"\u001B[0m\u001B[0;34m\u001B[0m\u001B[0;34m\u001B[0m\u001B[0m\n\u001B[1;32m    225\u001B[0m   \u001B[0mcompiled_fun\u001B[0m \u001B[0;34m=\u001B[0m \u001B[0mxla_primitive_callable\u001B[0m\u001B[0;34m(\u001B[0m\u001B[0mprim\u001B[0m\u001B[0;34m,\u001B[0m \u001B[0;34m*\u001B[0m\u001B[0mmap\u001B[0m\u001B[0;34m(\u001B[0m\u001B[0marg_spec\u001B[0m\u001B[0;34m,\u001B[0m \u001B[0margs\u001B[0m\u001B[0;34m)\u001B[0m\u001B[0;34m,\u001B[0m \u001B[0;34m**\u001B[0m\u001B[0mparams\u001B[0m\u001B[0;34m)\u001B[0m\u001B[0;34m\u001B[0m\u001B[0;34m\u001B[0m\u001B[0m\n\u001B[0;32m--> 226\u001B[0;31m   \u001B[0;32mreturn\u001B[0m \u001B[0mcompiled_fun\u001B[0m\u001B[0;34m(\u001B[0m\u001B[0;34m*\u001B[0m\u001B[0margs\u001B[0m\u001B[0;34m)\u001B[0m\u001B[0;34m\u001B[0m\u001B[0;34m\u001B[0m\u001B[0m\n\u001B[0m\u001B[1;32m    227\u001B[0m \u001B[0;34m\u001B[0m\u001B[0m\n\u001B[1;32m    228\u001B[0m \u001B[0;34m@\u001B[0m\u001B[0mcache\u001B[0m\u001B[0;34m(\u001B[0m\u001B[0;34m)\u001B[0m\u001B[0;34m\u001B[0m\u001B[0;34m\u001B[0m\u001B[0m\n",
      "\u001B[0;32m/usr/local/Caskroom/miniconda/base/envs/numpyro-stein/lib/python3.8/site-packages/jax/interpreters/xla.py\u001B[0m in \u001B[0;36m_execute_compiled_primitive\u001B[0;34m(prim, compiled, result_handler, *args)\u001B[0m\n\u001B[1;32m    325\u001B[0m   \u001B[0mout_bufs\u001B[0m \u001B[0;34m=\u001B[0m \u001B[0mcompiled\u001B[0m\u001B[0;34m.\u001B[0m\u001B[0mexecute\u001B[0m\u001B[0;34m(\u001B[0m\u001B[0minput_bufs\u001B[0m\u001B[0;34m)\u001B[0m\u001B[0;34m\u001B[0m\u001B[0;34m\u001B[0m\u001B[0m\n\u001B[1;32m    326\u001B[0m   \u001B[0;32mif\u001B[0m \u001B[0mFLAGS\u001B[0m\u001B[0;34m.\u001B[0m\u001B[0mjax_debug_nans\u001B[0m\u001B[0;34m:\u001B[0m\u001B[0;34m\u001B[0m\u001B[0;34m\u001B[0m\u001B[0m\n\u001B[0;32m--> 327\u001B[0;31m     \u001B[0mcheck_nans\u001B[0m\u001B[0;34m(\u001B[0m\u001B[0mprim\u001B[0m\u001B[0;34m,\u001B[0m \u001B[0mout_bufs\u001B[0m\u001B[0;34m)\u001B[0m\u001B[0;34m\u001B[0m\u001B[0;34m\u001B[0m\u001B[0m\n\u001B[0m\u001B[1;32m    328\u001B[0m   \u001B[0;32mreturn\u001B[0m \u001B[0mresult_handler\u001B[0m\u001B[0;34m(\u001B[0m\u001B[0mout_bufs\u001B[0m \u001B[0;32mif\u001B[0m \u001B[0mprim\u001B[0m\u001B[0;34m.\u001B[0m\u001B[0mmultiple_results\u001B[0m \u001B[0;32melse\u001B[0m \u001B[0mout_bufs\u001B[0m\u001B[0;34m[\u001B[0m\u001B[0;36m0\u001B[0m\u001B[0;34m]\u001B[0m\u001B[0;34m)\u001B[0m\u001B[0;34m\u001B[0m\u001B[0;34m\u001B[0m\u001B[0m\n\u001B[1;32m    329\u001B[0m \u001B[0;34m\u001B[0m\u001B[0m\n",
      "\u001B[0;32m/usr/local/Caskroom/miniconda/base/envs/numpyro-stein/lib/python3.8/site-packages/jax/interpreters/xla.py\u001B[0m in \u001B[0;36mcheck_nans\u001B[0;34m(prim, bufs)\u001B[0m\n\u001B[1;32m    339\u001B[0m \u001B[0;32mdef\u001B[0m \u001B[0mcheck_nans\u001B[0m\u001B[0;34m(\u001B[0m\u001B[0mprim\u001B[0m\u001B[0;34m,\u001B[0m \u001B[0mbufs\u001B[0m\u001B[0;34m)\u001B[0m\u001B[0;34m:\u001B[0m\u001B[0;34m\u001B[0m\u001B[0;34m\u001B[0m\u001B[0m\n\u001B[1;32m    340\u001B[0m   \u001B[0;32mfor\u001B[0m \u001B[0mbuf\u001B[0m \u001B[0;32min\u001B[0m \u001B[0mbufs\u001B[0m\u001B[0;34m:\u001B[0m\u001B[0;34m\u001B[0m\u001B[0;34m\u001B[0m\u001B[0m\n\u001B[0;32m--> 341\u001B[0;31m     \u001B[0m_check_nans\u001B[0m\u001B[0;34m(\u001B[0m\u001B[0mprim\u001B[0m\u001B[0;34m.\u001B[0m\u001B[0mname\u001B[0m\u001B[0;34m,\u001B[0m \u001B[0mbuf\u001B[0m\u001B[0;34m.\u001B[0m\u001B[0mshape\u001B[0m\u001B[0;34m(\u001B[0m\u001B[0;34m)\u001B[0m\u001B[0;34m,\u001B[0m \u001B[0mbuf\u001B[0m\u001B[0;34m)\u001B[0m\u001B[0;34m\u001B[0m\u001B[0;34m\u001B[0m\u001B[0m\n\u001B[0m\u001B[1;32m    342\u001B[0m \u001B[0;34m\u001B[0m\u001B[0m\n\u001B[1;32m    343\u001B[0m \u001B[0;32mdef\u001B[0m \u001B[0m_check_nans\u001B[0m\u001B[0;34m(\u001B[0m\u001B[0mname\u001B[0m\u001B[0;34m,\u001B[0m \u001B[0mxla_shape\u001B[0m\u001B[0;34m,\u001B[0m \u001B[0mbuf\u001B[0m\u001B[0;34m)\u001B[0m\u001B[0;34m:\u001B[0m\u001B[0;34m\u001B[0m\u001B[0;34m\u001B[0m\u001B[0m\n",
      "\u001B[0;32m/usr/local/Caskroom/miniconda/base/envs/numpyro-stein/lib/python3.8/site-packages/jax/interpreters/xla.py\u001B[0m in \u001B[0;36m_check_nans\u001B[0;34m(name, xla_shape, buf)\u001B[0m\n\u001B[1;32m    345\u001B[0m   \u001B[0;32mif\u001B[0m \u001B[0mdtypes\u001B[0m\u001B[0;34m.\u001B[0m\u001B[0missubdtype\u001B[0m\u001B[0;34m(\u001B[0m\u001B[0mxla_shape\u001B[0m\u001B[0;34m.\u001B[0m\u001B[0melement_type\u001B[0m\u001B[0;34m(\u001B[0m\u001B[0;34m)\u001B[0m\u001B[0;34m,\u001B[0m \u001B[0monp\u001B[0m\u001B[0;34m.\u001B[0m\u001B[0minexact\u001B[0m\u001B[0;34m)\u001B[0m\u001B[0;34m:\u001B[0m\u001B[0;34m\u001B[0m\u001B[0;34m\u001B[0m\u001B[0m\n\u001B[1;32m    346\u001B[0m     \u001B[0;32mif\u001B[0m \u001B[0monp\u001B[0m\u001B[0;34m.\u001B[0m\u001B[0many\u001B[0m\u001B[0;34m(\u001B[0m\u001B[0monp\u001B[0m\u001B[0;34m.\u001B[0m\u001B[0misnan\u001B[0m\u001B[0;34m(\u001B[0m\u001B[0mbuf\u001B[0m\u001B[0;34m.\u001B[0m\u001B[0mto_py\u001B[0m\u001B[0;34m(\u001B[0m\u001B[0;34m)\u001B[0m\u001B[0;34m)\u001B[0m\u001B[0;34m)\u001B[0m\u001B[0;34m:\u001B[0m\u001B[0;34m\u001B[0m\u001B[0;34m\u001B[0m\u001B[0m\n\u001B[0;32m--> 347\u001B[0;31m       \u001B[0;32mraise\u001B[0m \u001B[0mFloatingPointError\u001B[0m\u001B[0;34m(\u001B[0m\u001B[0;34mf\"invalid value (nan) encountered in {name}\"\u001B[0m\u001B[0;34m)\u001B[0m\u001B[0;34m\u001B[0m\u001B[0;34m\u001B[0m\u001B[0m\n\u001B[0m\u001B[1;32m    348\u001B[0m \u001B[0;34m\u001B[0m\u001B[0m\n\u001B[1;32m    349\u001B[0m \u001B[0;31m### compiling jaxprs\u001B[0m\u001B[0;34m\u001B[0m\u001B[0;34m\u001B[0m\u001B[0;34m\u001B[0m\u001B[0m\n",
      "\u001B[0;31mFloatingPointError\u001B[0m: invalid value (nan) encountered in while"
     ]
    }
   ],
   "source": [
    "svi = SVI(model, AutoDelta(model), Adam(0.001), ELBO())\n",
    "state = svi.init(rng_key, *data)\n",
    "pbar = tqdm(range(1000))\n",
    "for i in pbar:\n",
    "    prev_state = state\n",
    "    state, loss = svi.update(state, *data)\n",
    "    pbar.set_description(f'SVI {loss}')"
   ]
  },
  {
   "cell_type": "code",
   "execution_count": 7,
   "outputs": [
    {
     "ename": "AssertionError",
     "evalue": "length mismatch: [42, 41]",
     "output_type": "error",
     "traceback": [
      "\u001B[0;31m---------------------------------------------------------------------------\u001B[0m",
      "\u001B[0;31mAssertionError\u001B[0m                            Traceback (most recent call last)",
      "\u001B[0;32m<ipython-input-7-d6c141575ba1>\u001B[0m in \u001B[0;36m<module>\u001B[0;34m\u001B[0m\n\u001B[1;32m      1\u001B[0m \u001B[0;32mfrom\u001B[0m \u001B[0mjaxinterp\u001B[0m\u001B[0;34m.\u001B[0m\u001B[0minterpreter\u001B[0m \u001B[0;32mimport\u001B[0m \u001B[0minterpret\u001B[0m\u001B[0;34m\u001B[0m\u001B[0;34m\u001B[0m\u001B[0m\n\u001B[0;32m----> 2\u001B[0;31m \u001B[0minterpret\u001B[0m\u001B[0;34m(\u001B[0m\u001B[0msvi\u001B[0m\u001B[0;34m.\u001B[0m\u001B[0mevaluate\u001B[0m\u001B[0;34m,\u001B[0m \u001B[0mstage_out\u001B[0m\u001B[0;34m=\u001B[0m\u001B[0;32mTrue\u001B[0m\u001B[0;34m)\u001B[0m\u001B[0;34m(\u001B[0m\u001B[0mprev_state\u001B[0m\u001B[0;34m,\u001B[0m \u001B[0;34m*\u001B[0m\u001B[0mdata\u001B[0m\u001B[0;34m)\u001B[0m\u001B[0;34m\u001B[0m\u001B[0;34m\u001B[0m\u001B[0m\n\u001B[0m\u001B[1;32m      3\u001B[0m \u001B[0;34m\u001B[0m\u001B[0m\n",
      "\u001B[0;32m~/Documents/SourceControl/jaxinterp/jaxinterp/interpreter.py\u001B[0m in \u001B[0;36mwrapped\u001B[0;34m(*args, **kwargs)\u001B[0m\n\u001B[1;32m    112\u001B[0m     \u001B[0mjaxpr\u001B[0m\u001B[0;34m,\u001B[0m \u001B[0mconsts\u001B[0m\u001B[0;34m,\u001B[0m \u001B[0;34m(\u001B[0m\u001B[0m_\u001B[0m\u001B[0;34m,\u001B[0m \u001B[0mout_tree\u001B[0m\u001B[0;34m)\u001B[0m \u001B[0;34m=\u001B[0m \u001B[0m_make_jaxpr_with_consts\u001B[0m\u001B[0;34m(\u001B[0m\u001B[0mfun\u001B[0m\u001B[0;34m,\u001B[0m \u001B[0mstage_out\u001B[0m\u001B[0;34m)\u001B[0m\u001B[0;34m(\u001B[0m\u001B[0;34m*\u001B[0m\u001B[0margs\u001B[0m\u001B[0;34m,\u001B[0m \u001B[0;34m**\u001B[0m\u001B[0mkwargs\u001B[0m\u001B[0;34m)\u001B[0m\u001B[0;34m\u001B[0m\u001B[0;34m\u001B[0m\u001B[0m\n\u001B[1;32m    113\u001B[0m     \u001B[0margs\u001B[0m \u001B[0;34m=\u001B[0m \u001B[0;34m[\u001B[0m\u001B[0mleaf\u001B[0m \u001B[0;32mfor\u001B[0m \u001B[0marg\u001B[0m \u001B[0;32min\u001B[0m \u001B[0margs\u001B[0m \u001B[0;32mfor\u001B[0m \u001B[0mleaf\u001B[0m \u001B[0;32min\u001B[0m \u001B[0mtree_util\u001B[0m\u001B[0;34m.\u001B[0m\u001B[0mtree_leaves\u001B[0m\u001B[0;34m(\u001B[0m\u001B[0marg\u001B[0m\u001B[0;34m)\u001B[0m\u001B[0;34m]\u001B[0m\u001B[0;34m\u001B[0m\u001B[0;34m\u001B[0m\u001B[0m\n\u001B[0;32m--> 114\u001B[0;31m     \u001B[0mout\u001B[0m \u001B[0;34m=\u001B[0m \u001B[0m_interpret_jaxpr\u001B[0m\u001B[0;34m(\u001B[0m\u001B[0mjaxpr\u001B[0m\u001B[0;34m,\u001B[0m \u001B[0mconsts\u001B[0m\u001B[0;34m,\u001B[0m \u001B[0;34m*\u001B[0m\u001B[0margs\u001B[0m\u001B[0;34m)\u001B[0m\u001B[0;34m\u001B[0m\u001B[0;34m\u001B[0m\u001B[0m\n\u001B[0m\u001B[1;32m    115\u001B[0m     \u001B[0;32mif\u001B[0m \u001B[0mlen\u001B[0m\u001B[0;34m(\u001B[0m\u001B[0mout\u001B[0m\u001B[0;34m)\u001B[0m \u001B[0;34m==\u001B[0m \u001B[0;36m1\u001B[0m\u001B[0;34m:\u001B[0m\u001B[0;34m\u001B[0m\u001B[0;34m\u001B[0m\u001B[0m\n\u001B[1;32m    116\u001B[0m       \u001B[0mout\u001B[0m \u001B[0;34m=\u001B[0m \u001B[0mout\u001B[0m\u001B[0;34m[\u001B[0m\u001B[0;36m0\u001B[0m\u001B[0;34m]\u001B[0m\u001B[0;34m\u001B[0m\u001B[0;34m\u001B[0m\u001B[0m\n",
      "\u001B[0;32m~/Documents/SourceControl/jaxinterp/jaxinterp/interpreter.py\u001B[0m in \u001B[0;36m_interpret_jaxpr\u001B[0;34m(jaxpr, consts, *args)\u001B[0m\n\u001B[1;32m     88\u001B[0m     \u001B[0minvals\u001B[0m \u001B[0;34m=\u001B[0m \u001B[0msafe_map\u001B[0m\u001B[0;34m(\u001B[0m\u001B[0mread\u001B[0m\u001B[0;34m,\u001B[0m \u001B[0meqn\u001B[0m\u001B[0;34m.\u001B[0m\u001B[0minvars\u001B[0m\u001B[0;34m)\u001B[0m\u001B[0;34m\u001B[0m\u001B[0;34m\u001B[0m\u001B[0m\n\u001B[1;32m     89\u001B[0m     \u001B[0;32mif\u001B[0m \u001B[0meqn\u001B[0m\u001B[0;34m.\u001B[0m\u001B[0mprimitive\u001B[0m \u001B[0;32mis\u001B[0m \u001B[0mxla\u001B[0m\u001B[0;34m.\u001B[0m\u001B[0mxla_call_p\u001B[0m\u001B[0;34m:\u001B[0m\u001B[0;34m\u001B[0m\u001B[0;34m\u001B[0m\u001B[0m\n\u001B[0;32m---> 90\u001B[0;31m       \u001B[0moutvals\u001B[0m \u001B[0;34m=\u001B[0m \u001B[0m_interpret_jaxpr\u001B[0m\u001B[0;34m(\u001B[0m\u001B[0meqn\u001B[0m\u001B[0;34m.\u001B[0m\u001B[0mparams\u001B[0m\u001B[0;34m[\u001B[0m\u001B[0;34m'call_jaxpr'\u001B[0m\u001B[0;34m]\u001B[0m\u001B[0;34m,\u001B[0m \u001B[0;34m(\u001B[0m\u001B[0;34m)\u001B[0m\u001B[0;34m,\u001B[0m \u001B[0;34m*\u001B[0m\u001B[0minvals\u001B[0m\u001B[0;34m)\u001B[0m\u001B[0;34m\u001B[0m\u001B[0;34m\u001B[0m\u001B[0m\n\u001B[0m\u001B[1;32m     91\u001B[0m     \u001B[0;32melif\u001B[0m \u001B[0meqn\u001B[0m\u001B[0;34m.\u001B[0m\u001B[0mprimitive\u001B[0m \u001B[0;32mis\u001B[0m \u001B[0mlax\u001B[0m\u001B[0;34m.\u001B[0m\u001B[0mwhile_p\u001B[0m\u001B[0;34m:\u001B[0m\u001B[0;34m\u001B[0m\u001B[0;34m\u001B[0m\u001B[0m\n\u001B[1;32m     92\u001B[0m       \u001B[0moutvals\u001B[0m \u001B[0;34m=\u001B[0m \u001B[0mgo_while\u001B[0m\u001B[0;34m(\u001B[0m\u001B[0meqn\u001B[0m\u001B[0;34m.\u001B[0m\u001B[0mparams\u001B[0m\u001B[0;34m[\u001B[0m\u001B[0;34m'cond_jaxpr'\u001B[0m\u001B[0;34m]\u001B[0m\u001B[0;34m.\u001B[0m\u001B[0mjaxpr\u001B[0m\u001B[0;34m,\u001B[0m \u001B[0meqn\u001B[0m\u001B[0;34m.\u001B[0m\u001B[0mparams\u001B[0m\u001B[0;34m[\u001B[0m\u001B[0;34m'body_jaxpr'\u001B[0m\u001B[0;34m]\u001B[0m\u001B[0;34m.\u001B[0m\u001B[0mjaxpr\u001B[0m\u001B[0;34m,\u001B[0m \u001B[0;34m*\u001B[0m\u001B[0minvals\u001B[0m\u001B[0;34m)\u001B[0m\u001B[0;34m\u001B[0m\u001B[0;34m\u001B[0m\u001B[0m\n",
      "\u001B[0;32m~/Documents/SourceControl/jaxinterp/jaxinterp/interpreter.py\u001B[0m in \u001B[0;36m_interpret_jaxpr\u001B[0;34m(jaxpr, consts, *args)\u001B[0m\n\u001B[1;32m     93\u001B[0m     \u001B[0;32melif\u001B[0m \u001B[0meqn\u001B[0m\u001B[0;34m.\u001B[0m\u001B[0mprimitive\u001B[0m \u001B[0;32mis\u001B[0m \u001B[0mlax\u001B[0m\u001B[0;34m.\u001B[0m\u001B[0mscan_p\u001B[0m\u001B[0;34m:\u001B[0m\u001B[0;34m\u001B[0m\u001B[0;34m\u001B[0m\u001B[0m\n\u001B[1;32m     94\u001B[0m       \u001B[0mconsts\u001B[0m\u001B[0;34m,\u001B[0m \u001B[0mcarry_init\u001B[0m\u001B[0;34m,\u001B[0m \u001B[0mrest\u001B[0m \u001B[0;34m=\u001B[0m \u001B[0msplit_list\u001B[0m\u001B[0;34m(\u001B[0m\u001B[0minvals\u001B[0m\u001B[0;34m,\u001B[0m \u001B[0;34m[\u001B[0m\u001B[0meqn\u001B[0m\u001B[0;34m.\u001B[0m\u001B[0mparams\u001B[0m\u001B[0;34m[\u001B[0m\u001B[0;34m'num_consts'\u001B[0m\u001B[0;34m]\u001B[0m\u001B[0;34m,\u001B[0m \u001B[0meqn\u001B[0m\u001B[0;34m.\u001B[0m\u001B[0mparams\u001B[0m\u001B[0;34m[\u001B[0m\u001B[0;34m'num_carry'\u001B[0m\u001B[0;34m]\u001B[0m\u001B[0;34m]\u001B[0m\u001B[0;34m)\u001B[0m\u001B[0;34m\u001B[0m\u001B[0;34m\u001B[0m\u001B[0m\n\u001B[0;32m---> 95\u001B[0;31m       \u001B[0moutvals\u001B[0m \u001B[0;34m=\u001B[0m \u001B[0mgo_scan\u001B[0m\u001B[0;34m(\u001B[0m\u001B[0meqn\u001B[0m\u001B[0;34m.\u001B[0m\u001B[0mparams\u001B[0m\u001B[0;34m[\u001B[0m\u001B[0;34m'jaxpr'\u001B[0m\u001B[0;34m]\u001B[0m\u001B[0;34m.\u001B[0m\u001B[0mjaxpr\u001B[0m\u001B[0;34m,\u001B[0m \u001B[0meqn\u001B[0m\u001B[0;34m.\u001B[0m\u001B[0mparams\u001B[0m\u001B[0;34m[\u001B[0m\u001B[0;34m'length'\u001B[0m\u001B[0;34m]\u001B[0m\u001B[0;34m,\u001B[0m \u001B[0mrest\u001B[0m\u001B[0;34m,\u001B[0m \u001B[0mcarry_init\u001B[0m\u001B[0;34m,\u001B[0m \u001B[0mconsts\u001B[0m\u001B[0;34m,\u001B[0m \u001B[0meqn\u001B[0m\u001B[0;34m.\u001B[0m\u001B[0mparams\u001B[0m\u001B[0;34m[\u001B[0m\u001B[0;34m'reverse'\u001B[0m\u001B[0;34m]\u001B[0m\u001B[0;34m)\u001B[0m\u001B[0;34m\u001B[0m\u001B[0;34m\u001B[0m\u001B[0m\n\u001B[0m\u001B[1;32m     96\u001B[0m     \u001B[0;32melif\u001B[0m \u001B[0meqn\u001B[0m\u001B[0;34m.\u001B[0m\u001B[0mprimitive\u001B[0m \u001B[0;32mis\u001B[0m \u001B[0mlax\u001B[0m\u001B[0;34m.\u001B[0m\u001B[0mcond_p\u001B[0m\u001B[0;34m:\u001B[0m\u001B[0;34m\u001B[0m\u001B[0;34m\u001B[0m\u001B[0m\n\u001B[1;32m     97\u001B[0m       \u001B[0moutvals\u001B[0m \u001B[0;34m=\u001B[0m \u001B[0mgo_cond\u001B[0m\u001B[0;34m(\u001B[0m\u001B[0msafe_map\u001B[0m\u001B[0;34m(\u001B[0m\u001B[0;32mlambda\u001B[0m \u001B[0mx\u001B[0m\u001B[0;34m:\u001B[0m \u001B[0mx\u001B[0m\u001B[0;34m.\u001B[0m\u001B[0mjaxpr\u001B[0m\u001B[0;34m,\u001B[0m \u001B[0meqn\u001B[0m\u001B[0;34m.\u001B[0m\u001B[0mparams\u001B[0m\u001B[0;34m[\u001B[0m\u001B[0;34m'branches'\u001B[0m\u001B[0;34m]\u001B[0m\u001B[0;34m)\u001B[0m\u001B[0;34m,\u001B[0m \u001B[0;34m*\u001B[0m\u001B[0minvals\u001B[0m\u001B[0;34m)\u001B[0m\u001B[0;34m\u001B[0m\u001B[0;34m\u001B[0m\u001B[0m\n",
      "\u001B[0;32m~/Documents/SourceControl/jaxinterp/jaxinterp/interpreter.py\u001B[0m in \u001B[0;36mgo_scan\u001B[0;34m(body, length, xs, init, consts, reverse)\u001B[0m\n\u001B[1;32m     67\u001B[0m     \u001B[0mys\u001B[0m \u001B[0;34m=\u001B[0m \u001B[0;34m[\u001B[0m\u001B[0;34m]\u001B[0m\u001B[0;34m\u001B[0m\u001B[0;34m\u001B[0m\u001B[0m\n\u001B[1;32m     68\u001B[0m     \u001B[0;32mfor\u001B[0m \u001B[0mx\u001B[0m \u001B[0;32min\u001B[0m \u001B[0mxs\u001B[0m\u001B[0;34m:\u001B[0m\u001B[0;34m\u001B[0m\u001B[0;34m\u001B[0m\u001B[0m\n\u001B[0;32m---> 69\u001B[0;31m       \u001B[0mres\u001B[0m \u001B[0;34m=\u001B[0m \u001B[0m_interpret_jaxpr\u001B[0m\u001B[0;34m(\u001B[0m\u001B[0mbody\u001B[0m\u001B[0;34m,\u001B[0m \u001B[0;34m*\u001B[0m\u001B[0mconsts\u001B[0m\u001B[0;34m,\u001B[0m \u001B[0;34m*\u001B[0m\u001B[0mcarry\u001B[0m\u001B[0;34m,\u001B[0m \u001B[0mx\u001B[0m\u001B[0;34m)\u001B[0m\u001B[0;34m\u001B[0m\u001B[0;34m\u001B[0m\u001B[0m\n\u001B[0m\u001B[1;32m     70\u001B[0m       \u001B[0mys\u001B[0m\u001B[0;34m.\u001B[0m\u001B[0mappend\u001B[0m\u001B[0;34m(\u001B[0m\u001B[0mres\u001B[0m\u001B[0;34m[\u001B[0m\u001B[0;34m-\u001B[0m\u001B[0;36m1\u001B[0m\u001B[0;34m]\u001B[0m\u001B[0;34m)\u001B[0m\u001B[0;34m\u001B[0m\u001B[0;34m\u001B[0m\u001B[0m\n\u001B[1;32m     71\u001B[0m       \u001B[0mcarry\u001B[0m \u001B[0;34m=\u001B[0m \u001B[0mres\u001B[0m\u001B[0;34m[\u001B[0m\u001B[0;34m:\u001B[0m\u001B[0;34m-\u001B[0m\u001B[0;36m1\u001B[0m\u001B[0;34m]\u001B[0m\u001B[0;34m\u001B[0m\u001B[0;34m\u001B[0m\u001B[0m\n",
      "\u001B[0;32m~/Documents/SourceControl/jaxinterp/jaxinterp/interpreter.py\u001B[0m in \u001B[0;36m_interpret_jaxpr\u001B[0;34m(jaxpr, consts, *args)\u001B[0m\n\u001B[1;32m     80\u001B[0m   \u001B[0;31m# Bind args and consts to environment\u001B[0m\u001B[0;34m\u001B[0m\u001B[0;34m\u001B[0m\u001B[0;34m\u001B[0m\u001B[0m\n\u001B[1;32m     81\u001B[0m   \u001B[0mwrite\u001B[0m\u001B[0;34m(\u001B[0m\u001B[0mcore\u001B[0m\u001B[0;34m.\u001B[0m\u001B[0munitvar\u001B[0m\u001B[0;34m,\u001B[0m \u001B[0mcore\u001B[0m\u001B[0;34m.\u001B[0m\u001B[0munit\u001B[0m\u001B[0;34m)\u001B[0m\u001B[0;34m\u001B[0m\u001B[0;34m\u001B[0m\u001B[0m\n\u001B[0;32m---> 82\u001B[0;31m   \u001B[0msafe_map\u001B[0m\u001B[0;34m(\u001B[0m\u001B[0mwrite\u001B[0m\u001B[0;34m,\u001B[0m \u001B[0mjaxpr\u001B[0m\u001B[0;34m.\u001B[0m\u001B[0minvars\u001B[0m\u001B[0;34m,\u001B[0m \u001B[0margs\u001B[0m\u001B[0;34m)\u001B[0m\u001B[0;34m\u001B[0m\u001B[0;34m\u001B[0m\u001B[0m\n\u001B[0m\u001B[1;32m     83\u001B[0m   \u001B[0msafe_map\u001B[0m\u001B[0;34m(\u001B[0m\u001B[0mwrite\u001B[0m\u001B[0;34m,\u001B[0m \u001B[0mjaxpr\u001B[0m\u001B[0;34m.\u001B[0m\u001B[0mconstvars\u001B[0m\u001B[0;34m,\u001B[0m \u001B[0mconsts\u001B[0m\u001B[0;34m)\u001B[0m\u001B[0;34m\u001B[0m\u001B[0;34m\u001B[0m\u001B[0m\n\u001B[1;32m     84\u001B[0m \u001B[0;34m\u001B[0m\u001B[0m\n",
      "\u001B[0;32m/usr/local/Caskroom/miniconda/base/envs/numpyro-stein/lib/python3.8/site-packages/jax/util.py\u001B[0m in \u001B[0;36msafe_map\u001B[0;34m(f, *args)\u001B[0m\n\u001B[1;32m     31\u001B[0m   \u001B[0mn\u001B[0m \u001B[0;34m=\u001B[0m \u001B[0mlen\u001B[0m\u001B[0;34m(\u001B[0m\u001B[0margs\u001B[0m\u001B[0;34m[\u001B[0m\u001B[0;36m0\u001B[0m\u001B[0;34m]\u001B[0m\u001B[0;34m)\u001B[0m\u001B[0;34m\u001B[0m\u001B[0;34m\u001B[0m\u001B[0m\n\u001B[1;32m     32\u001B[0m   \u001B[0;32mfor\u001B[0m \u001B[0marg\u001B[0m \u001B[0;32min\u001B[0m \u001B[0margs\u001B[0m\u001B[0;34m[\u001B[0m\u001B[0;36m1\u001B[0m\u001B[0;34m:\u001B[0m\u001B[0;34m]\u001B[0m\u001B[0;34m:\u001B[0m\u001B[0;34m\u001B[0m\u001B[0;34m\u001B[0m\u001B[0m\n\u001B[0;32m---> 33\u001B[0;31m     \u001B[0;32massert\u001B[0m \u001B[0mlen\u001B[0m\u001B[0;34m(\u001B[0m\u001B[0marg\u001B[0m\u001B[0;34m)\u001B[0m \u001B[0;34m==\u001B[0m \u001B[0mn\u001B[0m\u001B[0;34m,\u001B[0m \u001B[0;34m'length mismatch: {}'\u001B[0m\u001B[0;34m.\u001B[0m\u001B[0mformat\u001B[0m\u001B[0;34m(\u001B[0m\u001B[0mlist\u001B[0m\u001B[0;34m(\u001B[0m\u001B[0mmap\u001B[0m\u001B[0;34m(\u001B[0m\u001B[0mlen\u001B[0m\u001B[0;34m,\u001B[0m \u001B[0margs\u001B[0m\u001B[0;34m)\u001B[0m\u001B[0;34m)\u001B[0m\u001B[0;34m)\u001B[0m\u001B[0;34m\u001B[0m\u001B[0;34m\u001B[0m\u001B[0m\n\u001B[0m\u001B[1;32m     34\u001B[0m   \u001B[0;32mreturn\u001B[0m \u001B[0mlist\u001B[0m\u001B[0;34m(\u001B[0m\u001B[0mmap\u001B[0m\u001B[0;34m(\u001B[0m\u001B[0mf\u001B[0m\u001B[0;34m,\u001B[0m \u001B[0;34m*\u001B[0m\u001B[0margs\u001B[0m\u001B[0;34m)\u001B[0m\u001B[0;34m)\u001B[0m\u001B[0;34m\u001B[0m\u001B[0;34m\u001B[0m\u001B[0m\n\u001B[1;32m     35\u001B[0m \u001B[0;34m\u001B[0m\u001B[0m\n",
      "\u001B[0;31mAssertionError\u001B[0m: length mismatch: [42, 41]"
     ]
    }
   ],
   "source": [
    "from jaxinterp.interpreter import interpret\n",
    "interpret(svi.evaluate, stage_out=True)(prev_state, *data)"
   ],
   "metadata": {
    "collapsed": false,
    "pycharm": {
     "name": "#%%\n"
    }
   }
  },
  {
   "cell_type": "code",
   "execution_count": null,
   "metadata": {
    "pycharm": {
     "is_executing": true
    }
   },
   "outputs": [],
   "source": [
    "svi.get_params(state)"
   ]
  },
  {
   "cell_type": "markdown",
   "metadata": {},
   "source": [
    "### Guide and Stein with Transport Maps"
   ]
  },
  {
   "cell_type": "code",
   "execution_count": null,
   "metadata": {
    "pycharm": {
     "is_executing": true
    }
   },
   "outputs": [],
   "source": [
    "svgd = Stein(model, AutoDelta(model),\n",
    "             Adam(0.0001), ELBO(),\n",
    "             RBFKernel(), num_particles=100,\n",
    "             repulsion_temperature=0.001 * data[1].shape[0])\n",
    "state, loss = svgd.train(rng_key, 10000, *data, callbacks=[Progbar()])  # rounds 10000"
   ]
  },
  {
   "cell_type": "code",
   "execution_count": null,
   "metadata": {
    "pycharm": {
     "is_executing": true
    }
   },
   "outputs": [],
   "source": [
    "sample_frame = pd.DataFrame.from_dict(svgd.predict(state, *data))\n",
    "g = sns.pairplot(sample_frame, corner=True, diag_kind='kde')\n",
    "g.map_lower(sns.kdeplot, lw=2)"
   ]
  },
  {
   "cell_type": "code",
   "execution_count": null,
   "metadata": {
    "pycharm": {
     "is_executing": true
    }
   },
   "outputs": [],
   "source": [
    "def transmap_guide(indices, observations):\n",
    "    param_keys = {'prey0', 'preadtor0', 'r', 'k', 's', 'a', 'u', 'v'}\n",
    "    n = len(param_keys)\n",
    "    tmapp = numpyro.param('tmapp', jnp.zeros(n * (n + 1) // 2))\n",
    "    tril_idx = jnp.tril_indices(n)\n",
    "    tmap = jax.ops.index_update(jnp.zeros((n, n)), tril_idx, tmapp)\n",
    "    tloc = numpyro.param('tloc', jnp.zeros(n))\n",
    "    vals = numpyro.param('vals', jnp.zeros(n),\n",
    "                         particle_transform=MultivariateAffineTransform(tloc, tmap),\n",
    "                         constraint=dist.constraints.greater_than(0.1))\n",
    "    for pk, val in zip(param_keys, vals):\n",
    "        numpyro.sample(pk, dist.Delta(val))"
   ]
  },
  {
   "cell_type": "code",
   "execution_count": null,
   "metadata": {
    "pycharm": {
     "is_executing": true
    }
   },
   "outputs": [],
   "source": [
    "svgd = Stein(model, WrappedGuide(transmap_guide, init_strategy=init_with_noise(init_to_uniform())),\n",
    "             Adam(0.01), ELBO(),\n",
    "             RBFKernel(), repulsion_temperature=0.01 * data[1].shape[0],\n",
    "             num_particles=100, classic_guide_params_fn=lambda n: n in {'tmapp', 'tloc'})\n",
    "state, loss = svgd.train(rng_key, 10000, *data, callbacks=[Progbar()])"
   ]
  },
  {
   "cell_type": "code",
   "execution_count": null,
   "metadata": {
    "pycharm": {
     "is_executing": true
    }
   },
   "outputs": [],
   "source": [
    "sample_frame = pd.DataFrame(svgd.predict(state, *data))\n",
    "g = sns.pairplot(sample_frame, corner=True, diag_kind='kde')\n",
    "g.map_lower(sns.kdeplot, lw=2)"
   ]
  },
  {
   "cell_type": "markdown",
   "metadata": {},
   "source": [
    "### NUTS MCMC Sampling"
   ]
  },
  {
   "cell_type": "code",
   "execution_count": null,
   "metadata": {
    "pycharm": {
     "is_executing": true
    }
   },
   "outputs": [],
   "source": [
    "mcmc = numpyro.infer.MCMC(numpyro.infer.NUTS(model), 100, 500, chain_method='vectorized')\n",
    "mcmc.run(rng_key, *data)\n",
    "mcmc.print_summary()"
   ]
  },
  {
   "cell_type": "code",
   "execution_count": null,
   "metadata": {
    "pycharm": {
     "is_executing": true
    }
   },
   "outputs": [],
   "source": [
    "samples = mcmc.get_samples()\n",
    "sample_frame = pd.DataFrame(samples)\n",
    "g = sns.pairplot(sample_frame, corner=True, diag_kind='kde')\n",
    "g.map_lower(sns.kdeplot, lw=2)"
   ]
  },
  {
   "cell_type": "code",
   "execution_count": null,
   "metadata": {
    "pycharm": {
     "is_executing": true
    }
   },
   "outputs": [],
   "source": []
  }
 ],
 "metadata": {
  "kernelspec": {
   "display_name": "Python 3",
   "language": "python",
   "name": "python3"
  },
  "language_info": {
   "codemirror_mode": {
    "name": "ipython",
    "version": 3
   },
   "file_extension": ".py",
   "mimetype": "text/x-python",
   "name": "python",
   "nbconvert_exporter": "python",
   "pygments_lexer": "ipython3",
   "version": "3.8.3-final"
  }
 },
 "nbformat": 4,
 "nbformat_minor": 2
}