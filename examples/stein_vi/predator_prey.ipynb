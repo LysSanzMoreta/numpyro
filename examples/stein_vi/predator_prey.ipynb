{
 "cells": [
  {
   "cell_type": "markdown",
   "metadata": {},
   "source": [
    "# Predator-Prey model with triangular transport map\n",
    "Based on \"Transport map accelerated Markov chain Monte Carlo\" by Parno and Marzouk (SIAM/ASA Journal on Uncertainty Quantification 2018)"
   ]
  },
  {
   "cell_type": "code",
   "execution_count": 1,
   "metadata": {},
   "outputs": [
    {
     "name": "stdout",
     "output_type": "stream",
     "text": [
      "env: JAX_DEBUG_NANS=True\n"
     ]
    },
    {
     "name": "stderr",
     "output_type": "stream",
     "text": [
      "/Users/asal/Documents/SourceControl/numpyro/numpyro/contrib/autoguide.py:9: FutureWarning: numpyro.contrib.autoguide has moved to numpyro.infer.autoguide. The contrib alias will stop working in future versions.\n",
      "  warnings.warn(\"numpyro.contrib.autoguide has moved to numpyro.infer.autoguide. \"\n"
     ]
    }
   ],
   "source": [
    "from numpyro.util import safe_mul, safe_div\n",
    "\n",
    "%env JAX_DEBUG_NANS=True\n",
    "import jax\n",
    "import jax.ops\n",
    "import jax.numpy as jnp\n",
    "import pandas as pd\n",
    "import seaborn as sns\n",
    "from functools import partial\n",
    "\n",
    "import numpyro\n",
    "from numpyro import distributions as dist\n",
    "from numpyro.distributions.transforms import MultivariateAffineTransform\n",
    "from numpyro.infer.guide import WrappedGuide\n",
    "from numpyro.contrib.autoguide import AutoDelta\n",
    "from numpyro.examples.runge_kutta import runge_kutta_4\n",
    "from numpyro.infer import init_to_uniform, init_with_noise, SVI, Stein, ELBO\n",
    "from numpyro.infer.kernels import RBFKernel\n",
    "from numpyro.callbacks import Progbar\n",
    "from numpyro.optim import Adam"
   ]
  },
  {
   "cell_type": "code",
   "execution_count": 2,
   "metadata": {},
   "outputs": [],
   "source": [
    "rng_key = jax.random.PRNGKey(242)"
   ]
  },
  {
   "cell_type": "markdown",
   "metadata": {},
   "source": [
    "## Predator Prey Model"
   ]
  },
  {
   "cell_type": "code",
   "execution_count": 3,
   "metadata": {},
   "outputs": [],
   "source": [
    "def predator_prey_step(t, state, r=0.6, k=100, s=1.2, a=25, u=0.5, v=0.3):\n",
    "    prey = state[..., 0]\n",
    "    predator = state[..., 1]\n",
    "    sh = safe_div(safe_mul(prey, predator), a + prey)\n",
    "    prey_upd = r * safe_mul(prey, safe_div(1 - prey, k)) - s * sh\n",
    "    predator_upd = u * sh - v * predator\n",
    "    return jnp.stack((prey_upd, predator_upd), axis=-1)\n",
    "num_time = 5\n",
    "step_size = 0.1\n",
    "num_steps = int(num_time / step_size)\n",
    "dampening_rate = 0.9\n",
    "lyapunov_scale = 1e-3\n",
    "clip = lambda x: jnp.clip(x, -10.0, 10.0)\n",
    "predator_prey = runge_kutta_4(predator_prey_step, step_size, num_steps, dampening_rate, \n",
    "                              lyapunov_scale, clip,\n",
    "                              unconstrain_fn=lambda _, x: jnp.where(x < 10, jnp.log(jnp.expm1(x)), x),\n",
    "                              constrain_fn=lambda _, x: jax.nn.softplus(x))\n",
    "predator_prey = partial(predator_prey, rng_key)"
   ]
  },
  {
   "cell_type": "code",
   "execution_count": 4,
   "metadata": {},
   "outputs": [
    {
     "data": {
      "text/plain": "(DeviceArray([ 1, 11, 21, 31, 41], dtype=int32),\n DeviceArray([[[ 33.311028 , -12.732149 ],\n               [ 37.39188  ,   6.7296047],\n               [ 22.41841  ,   2.8242142],\n               [ 34.01062  ,  11.274597 ],\n               [  7.332946 ,  -5.1669645]],\n \n              [[ 64.81349  ,   8.4971285],\n               [ 53.886345 ,   6.9032702],\n               [  1.8843441,  -3.759818 ],\n               [ 21.644583 ,  11.018448 ],\n               [ -3.6752338,   5.044437 ]],\n \n              [[ 39.057636 ,  -8.654196 ],\n               [ 39.12978  ,  10.124067 ],\n               [ 17.123663 ,  19.667484 ],\n               [ 18.93769  ,  22.730627 ],\n               [  3.0498714,   9.167135 ]],\n \n              ...,\n \n              [[ 59.46758  ,  17.306845 ],\n               [ 33.735657 ,   5.6848707],\n               [ 31.406258 ,   6.3421493],\n               [ 23.054996 ,  14.960936 ],\n               [  7.5803833,   2.0696585]],\n \n              [[ 54.357674 ,  -6.5606894],\n               [ 31.350094 , -12.161303 ],\n               [ 20.312954 ,  18.55298  ],\n               [ 17.245014 ,  12.312916 ],\n               [ 11.846262 ,  13.512401 ]],\n \n              [[ 38.157227 ,  -1.2042489],\n               [ 13.415785 ,  10.496651 ],\n               [ 32.801735 ,   5.9031186],\n               [ 25.545448 ,  -1.7592864],\n               [ -7.881069 ,  13.663861 ]]], dtype=float32))"
     },
     "execution_count": 4,
     "metadata": {},
     "output_type": "execute_result"
    }
   ],
   "source": [
    "indices = jnp.array([1, 11, 21, 31, 41])\n",
    "res, lyapunov_loss = predator_prey(jnp.array([50., 5.]))\n",
    "# res = np.reshape(res, (num_time, num_steps // num_time, -1))[:, 0, :]\n",
    "noise = jax.random.normal(rng_key, (1000,5,2)) * 10\n",
    "data = (indices, res[indices] + noise)\n",
    "data"
   ]
  },
  {
   "cell_type": "code",
   "execution_count": 5,
   "metadata": {},
   "outputs": [],
   "source": [
    "def model(indices, observations):\n",
    "    prior_dist = dist.HalfNormal(1000)\n",
    "    prey0 = numpyro.sample('prey0', prior_dist)\n",
    "    predator0 = numpyro.sample('predator0', prior_dist)\n",
    "    r = numpyro.sample('r', prior_dist)\n",
    "    k = numpyro.sample('k', prior_dist)\n",
    "    s = numpyro.sample('s', prior_dist)\n",
    "    a = numpyro.sample('a', prior_dist)\n",
    "    u = numpyro.sample('u', prior_dist)\n",
    "    v = numpyro.sample('v', prior_dist)\n",
    "    ppres, lyapunov_loss = predator_prey(jnp.array([prey0, predator0]), r=r, k=k, s=s, a=a, u=u, v=v)\n",
    "    # ppres = np.reshape(ppres, (num_time, num_time // num_steps, -1))\n",
    "    numpyro.factor('lyapunov_loss', lyapunov_loss)\n",
    "    numpyro.sample('obs', dist.Normal(ppres[indices], 10.0).to_event(2), obs=observations)"
   ]
  },
  {
   "cell_type": "markdown",
   "metadata": {},
   "source": [
    "### SVI"
   ]
  },
  {
   "cell_type": "code",
   "execution_count": 6,
   "metadata": {},
   "outputs": [
    {
     "name": "stderr",
     "output_type": "stream",
     "text": [
      "SVI 5.9235e+04: 100%|██████████| 1000/1000 [00:16<00:00, 60.24it/s] \n"
     ]
    }
   ],
   "source": [
    "svi = SVI(model, AutoDelta(model), Adam(0.001), ELBO())\n",
    "state, loss = svi.train(rng_key, 1000, *data, callbacks=[Progbar()])"
   ]
  },
  {
   "cell_type": "code",
   "execution_count": 7,
   "metadata": {},
   "outputs": [
    {
     "data": {
      "text/plain": "{'auto_a': DeviceArray(7.0587254, dtype=float32),\n 'auto_k': DeviceArray(0.20065227, dtype=float32),\n 'auto_predator0': DeviceArray(5.012667, dtype=float32),\n 'auto_prey0': DeviceArray(1.0629562, dtype=float32),\n 'auto_r': DeviceArray(0.38538948, dtype=float32),\n 'auto_s': DeviceArray(0.67916185, dtype=float32),\n 'auto_u': DeviceArray(8.889701, dtype=float32),\n 'auto_v': DeviceArray(2.1918964, dtype=float32)}"
     },
     "execution_count": 7,
     "metadata": {},
     "output_type": "execute_result"
    }
   ],
   "source": [
    "svi.get_params(state)"
   ]
  },
  {
   "cell_type": "markdown",
   "metadata": {},
   "source": [
    "### Guide and Stein with Transport Maps"
   ]
  },
  {
   "cell_type": "code",
   "execution_count": 8,
   "metadata": {},
   "outputs": [
    {
     "name": "stderr",
     "output_type": "stream",
     "text": [
      "Stein nan: 100%|██████████| 10000/10000 [02:23<00:00, 69.70it/s]       \n"
     ]
    }
   ],
   "source": [
    "stein = Stein(model, AutoDelta(model),\n",
    "             Adam(0.1), ELBO(),\n",
    "             RBFKernel(), num_particles=100,\n",
    "             repulsion_temperature=0.001 * data[1].shape[0])\n",
    "state, loss = stein.train(rng_key, 10000, *data, callbacks=[Progbar()])  # rounds 10000"
   ]
  },
  {
   "cell_type": "code",
   "execution_count": null,
   "metadata": {
    "pycharm": {
     "is_executing": true
    }
   },
   "outputs": [],
   "source": [
    "sample_frame = pd.DataFrame.from_dict(stein.predict(state, *data))\n",
    "g = sns.pairplot(sample_frame, corner=True, diag_kind='kde')\n",
    "g.map_lower(sns.kdeplot, lw=2)"
   ]
  },
  {
   "cell_type": "code",
   "execution_count": null,
   "metadata": {
    "pycharm": {
     "is_executing": true
    }
   },
   "outputs": [],
   "source": [
    "def transmap_guide(indices, observations):\n",
    "    param_keys = {'prey0', 'preadtor0', 'r', 'k', 's', 'a', 'u', 'v'}\n",
    "    n = len(param_keys)\n",
    "    tmapp = numpyro.param('tmapp', jnp.zeros(n * (n + 1) // 2))\n",
    "    tril_idx = jnp.tril_indices(n)\n",
    "    tmap = jax.ops.index_update(jnp.zeros((n, n)), tril_idx, tmapp)\n",
    "    tloc = numpyro.param('tloc', jnp.zeros(n))\n",
    "    vals = numpyro.param('vals', jnp.zeros(n),\n",
    "                         particle_transform=MultivariateAffineTransform(tloc, tmap),\n",
    "                         constraint=dist.constraints.greater_than(0.1))\n",
    "    for pk, val in zip(param_keys, vals):\n",
    "        numpyro.sample(pk, dist.Delta(val))"
   ]
  },
  {
   "cell_type": "code",
   "execution_count": null,
   "metadata": {
    "pycharm": {
     "is_executing": true
    }
   },
   "outputs": [],
   "source": [
    "svgd = Stein(model, WrappedGuide(transmap_guide, init_strategy=init_with_noise(init_to_uniform())),\n",
    "             Adam(0.1), ELBO(),\n",
    "             RBFKernel(), repulsion_temperature=0.01 * data[1].shape[0],\n",
    "             num_particles=100, classic_guide_params_fn=lambda n: n in {'tmapp', 'tloc'})\n",
    "state, loss = svgd.train(rng_key, 10000, *data, callbacks=[Progbar()])"
   ]
  },
  {
   "cell_type": "code",
   "execution_count": null,
   "metadata": {
    "pycharm": {
     "is_executing": true
    }
   },
   "outputs": [],
   "source": [
    "sample_frame = pd.DataFrame(svgd.predict(state, *data))\n",
    "g = sns.pairplot(sample_frame, corner=True, diag_kind='kde')\n",
    "g.map_lower(sns.kdeplot, lw=2)"
   ]
  },
  {
   "cell_type": "markdown",
   "metadata": {},
   "source": [
    "### NUTS MCMC Sampling"
   ]
  },
  {
   "cell_type": "code",
   "execution_count": null,
   "metadata": {
    "pycharm": {
     "is_executing": true
    }
   },
   "outputs": [],
   "source": [
    "mcmc = numpyro.infer.MCMC(numpyro.infer.NUTS(model), 100, 500, chain_method='vectorized')\n",
    "mcmc.run(rng_key, *data)\n",
    "mcmc.print_summary()"
   ]
  },
  {
   "cell_type": "code",
   "execution_count": null,
   "metadata": {
    "pycharm": {
     "is_executing": true
    }
   },
   "outputs": [],
   "source": [
    "samples = mcmc.get_samples()\n",
    "sample_frame = pd.DataFrame(samples)\n",
    "g = sns.pairplot(sample_frame, corner=True, diag_kind='kde')\n",
    "g.map_lower(sns.kdeplot, lw=2)"
   ]
  },
  {
   "cell_type": "code",
   "execution_count": null,
   "metadata": {
    "pycharm": {
     "is_executing": true
    }
   },
   "outputs": [],
   "source": []
  }
 ],
 "metadata": {
  "kernelspec": {
   "display_name": "Python 3",
   "language": "python",
   "name": "python3"
  },
  "language_info": {
   "codemirror_mode": {
    "name": "ipython",
    "version": 3
   },
   "file_extension": ".py",
   "mimetype": "text/x-python",
   "name": "python",
   "nbconvert_exporter": "python",
   "pygments_lexer": "ipython3",
   "version": "3.8.3-final"
  }
 },
 "nbformat": 4,
 "nbformat_minor": 2
}