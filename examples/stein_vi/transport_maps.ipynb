{
 "cells": [
  {
   "cell_type": "markdown",
   "metadata": {},
   "source": [
    "# Transport maps (Triangular, NeuTra)\n",
    "Based on \"Transport map accelerated Markov chain Monte Carlo\" by Parno and Marzouk (SIAM/ASA Journal on Uncertainty Quantification 2018) and \"NeuTra-lizing Bad Geometry in Hamiltonian Monte Carlo Using Neural Transport\" by Hoffman et al. (Symposium on Approximate Bayesian Inference 2018)"
   ]
  },
  {
   "cell_type": "code",
   "execution_count": 31,
   "metadata": {},
   "outputs": [],
   "source": [
    "import jax\n",
    "import jax.numpy as np\n",
    "import numpy as onp\n",
    "import numpyro\n",
    "from numpyro.contrib.autoguide import AutoDelta\n",
    "from numpyro import distributions as dist\n",
    "from numpyro.distributions import constraints\n",
    "from numpyro.examples.runge_kutta import runge_kutta_4\n",
    "from tqdm import tqdm"
   ]
  },
  {
   "cell_type": "code",
   "execution_count": 2,
   "metadata": {},
   "outputs": [],
   "source": [
    "rng_key = jax.random.PRNGKey(242)"
   ]
  },
  {
   "cell_type": "markdown",
   "metadata": {},
   "source": [
    "## Predator Prey Model"
   ]
  },
  {
   "cell_type": "code",
   "execution_count": 3,
   "metadata": {},
   "outputs": [],
   "source": [
    "def predator_prey_step(t, state, r=0.6, k=100, s=1.2, a=25, u=0.5, v=0.3):\n",
    "    prey = state[..., 0]\n",
    "    predator = state[..., 1]\n",
    "    sh = (prey * predator)/(a + prey)\n",
    "    prey_upd = r * prey * (1 - prey / k) - s * sh\n",
    "    predator_upd = u * sh - v * predator\n",
    "    return np.stack((prey_upd, predator_upd), axis=-1)\n",
    "num_time = 5\n",
    "step_size = 0.1\n",
    "num_steps = int(num_time / step_size)\n",
    "dampening_rate = 0.9\n",
    "lyapunov_scale = 10e-4\n",
    "predator_prey = jax.partial(runge_kutta_4, predator_prey_step, step_size, num_steps, dampening_rate,\n",
    "                            lyapunov_scale, rng_key)"
   ]
  },
  {
   "cell_type": "code",
   "execution_count": 4,
   "metadata": {},
   "outputs": [
    {
     "output_type": "execute_result",
     "data": {
      "text/plain": "(DeviceArray([ 1, 11, 21, 31, 41], dtype=int32),\n DeviceArray([[[ 39.024696 , -12.725592 ],\n               [ 66.320984 ,   6.957094 ],\n               [ 68.026535 ,   3.555342 ],\n               [ 91.41165  ,  12.742411 ],\n               [ 72.754944 ,  -2.7839265]],\n \n              [[ 70.52715  ,   8.503686 ],\n               [ 82.815445 ,   7.1307592],\n               [ 47.49247  ,  -3.0286903],\n               [ 79.045616 ,  12.486261 ],\n               [ 61.746765 ,   7.427475 ]],\n \n              [[ 44.7713   ,  -8.647638 ],\n               [ 68.058876 ,  10.351557 ],\n               [ 62.73179  ,  20.398611 ],\n               [ 76.33872  ,  24.19844  ],\n               [ 68.47187  ,  11.550174 ]],\n \n              ...,\n \n              [[ 65.181244 ,  17.313402 ],\n               [ 62.664757 ,   5.912359 ],\n               [ 77.01439  ,   7.073277 ],\n               [ 80.45603  ,  16.42875  ],\n               [ 73.00238  ,   4.452697 ]],\n \n              [[ 60.07134  ,  -6.554132 ],\n               [ 60.279194 , -11.933813 ],\n               [ 65.92108  ,  19.284107 ],\n               [ 74.64605  ,  13.780729 ],\n               [ 77.26826  ,  15.895439 ]],\n \n              [[ 43.870888 ,  -1.1976914],\n               [ 42.344887 ,  10.72414  ],\n               [ 78.40987  ,   6.6342463],\n               [ 82.94648  ,  -0.2914729],\n               [ 57.540928 ,  16.0469   ]]], dtype=float32))"
     },
     "metadata": {},
     "execution_count": 4
    }
   ],
   "source": [
    "indices = np.array([1, 11, 21, 31, 41])\n",
    "res, lyapunov_loss = predator_prey(np.array([50., 5.]))\n",
    "noise = jax.random.normal(rng_key, (1000,5,2)) * 10\n",
    "data = (indices, res[indices] + noise)\n",
    "data"
   ]
  },
  {
   "cell_type": "code",
   "execution_count": 48,
   "metadata": {},
   "outputs": [],
   "source": [
    "def model(indices, observations):\n",
    "    prior_dist = dist.TransformedDistribution(dist.HalfNormal(1000), dist.transforms.AffineTransform(0.1, 1.0))\n",
    "    prey0 = numpyro.sample('prey0', prior_dist)\n",
    "    predator0 = numpyro.sample('predator0', prior_dist)\n",
    "    r = numpyro.sample('r', prior_dist)\n",
    "    k = numpyro.sample('k', prior_dist)\n",
    "    s = numpyro.sample('s', prior_dist)\n",
    "    a = numpyro.sample('a', prior_dist)\n",
    "    u = numpyro.sample('u', prior_dist)\n",
    "    v = numpyro.sample('v', prior_dist)\n",
    "    ppres, lyapunov_loss = predator_prey(np.array([prey0, predator0]))\n",
    "    numpyro.factor('lyapunov_loss', lyapunov_loss)\n",
    "    numpyro.sample('obs', dist.Normal(ppres[indices], 10.0).to_event(2), obs=observations)"
   ]
  },
  {
   "cell_type": "markdown",
   "metadata": {},
   "source": [
    "### NUTS MCMC Sampling"
   ]
  },
  {
   "cell_type": "code",
   "execution_count": 50,
   "metadata": {},
   "outputs": [
    {
     "output_type": "stream",
     "name": "stderr",
     "text": "sample: 100%|██████████| 6000/6000 [10:17<00:00,  9.72it/s, None]\n\n                 mean       std    median      5.0%     95.0%     n_eff     r_hat\n          a      2.91      2.43      1.86      0.59      6.31      1.09      3.63\n          k      3.04      3.12      0.92      0.77      8.40      2.10      1.65\n  predator0      5.13      0.08      5.13      5.00      5.27    544.67      1.00\n      prey0     50.08      0.23     50.08     49.67     50.44    467.59      1.01\n          r      2.11      0.63      1.92      1.41      3.29      3.24      2.94\n          s      2.02      0.97      1.62      0.91      3.66      1.52      4.27\n          u      0.74      0.40      0.65      0.32      1.23      1.03      6.42\n          v      1.72      1.55      1.20      0.21      3.80      1.06      7.47\n\nNumber of divergences: 0\n"
    }
   ],
   "source": [
    "mcmc = numpyro.infer.MCMC(numpyro.infer.NUTS(model), 1000, 5000, num_chains=2, chain_method='vectorized')\n",
    "mcmc.run(rng_key, *data)\n",
    "mcmc.print_summary()"
   ]
  },
  {
   "cell_type": "markdown",
   "metadata": {},
   "source": [
    "### Guide and Stein with Transport Maps"
   ]
  },
  {
   "cell_type": "code",
   "execution_count": 37,
   "metadata": {},
   "outputs": [
    {
     "output_type": "stream",
     "name": "stdout",
     "text": "1000\n{'auto_a': DeviceArray([ 0.2810459 , -1.1512799 , -0.9791584 , -1.1150136 ,\n             -1.3962798 , -0.4815421 ,  0.22602224, -0.05310202,\n              1.7047496 ,  1.584774  ], dtype=float32), 'auto_k': DeviceArray([ 1.7867632 , -0.46652842,  0.01522875,  1.6880732 ,\n             -0.81017447,  1.5335546 , -0.27158308,  1.5721688 ,\n             -0.6820264 , -0.90884256], dtype=float32), 'auto_predator0': DeviceArray([ 1.5217471 ,  0.38708544, -0.47504282,  1.3877826 ,\n              1.2827177 , -1.6553111 , -1.3955574 ,  1.2053485 ,\n              1.5027761 ,  1.949708  ], dtype=float32), 'auto_prey0': DeviceArray([ 0.96609116, -0.74285316,  1.6176782 ,  0.9832182 ,\n             -0.3874774 ,  1.1533241 , -1.8001752 ,  1.5888176 ,\n              0.90665674,  1.3857479 ], dtype=float32), 'auto_r': DeviceArray([ 0.35203552,  0.7305212 ,  1.3158989 ,  1.9379086 ,\n             -0.4936204 ,  0.26758862, -1.0140486 ,  1.8725686 ,\n              0.42908382, -1.3745251 ], dtype=float32), 'auto_s': DeviceArray([-1.3454285 , -1.6491795 ,  0.8790064 , -1.6061397 ,\n             -0.5354953 ,  1.0438366 , -0.9076452 , -0.62028074,\n             -0.16160059,  1.7872901 ], dtype=float32), 'auto_u': DeviceArray([-0.893661  , -1.5388188 ,  0.2909422 ,  1.9008508 ,\n              0.04738188, -0.267426  , -1.4044561 , -0.1045475 ,\n             -1.4998107 , -1.2875781 ], dtype=float32), 'auto_v': DeviceArray([-1.6669502 , -0.42764616, -1.4360766 ,  1.2120819 ,\n             -0.48616505, -1.4874558 , -0.09763479,  0.16098547,\n             -0.59823895,  1.0804734 ], dtype=float32)}\nSVGD 5.2104e+05: 100%|██████████| 100000/100000 [03:22<00:00, 492.99it/s]\n"
    }
   ],
   "source": [
    "svgd = numpyro.infer.SVGD(model, AutoDelta(standard_guide), \n",
    "                          numpyro.optim.Adam(0.01), numpyro.infer.ELBO(),\n",
    "                          numpyro.infer.kernels.RBFKernel(), num_stein_particles=10, repulsion_temperature=1e6)\n",
    "print(data[1].shape[0])                        \n",
    "state = svgd.init(rng_key, *data)\n",
    "print(svgd.get_params(state))\n",
    "state, loss = svgd.run(rng_key, 100000, *data)"
   ]
  },
  {
   "cell_type": "code",
   "execution_count": 38,
   "metadata": {},
   "outputs": [
    {
     "output_type": "execute_result",
     "data": {
      "text/plain": "{'auto_a': DeviceArray([0.09644218, 0.09193711, 0.09941586, 0.09488524, 0.10837403,\n              0.10440823, 0.09379473, 0.10275237, 0.11022998, 0.09776031],            dtype=float32),\n 'auto_k': DeviceArray([0.10018528, 0.10520142, 0.09967141, 0.09982951, 0.10028005,\n              0.11348224, 0.099717  , 0.10032418, 0.09479452, 0.08651443],            dtype=float32),\n 'auto_predator0': DeviceArray([5.2504826, 5.250642 , 5.2506332, 5.2501235, 5.250519 ,\n              5.250584 , 5.2505174, 5.2505965, 5.2505927, 5.250656 ],            dtype=float32),\n 'auto_prey0': DeviceArray([50.36169 , 50.36152 , 50.361534, 50.36204 , 50.361645,\n              50.361584, 50.361656, 50.361576, 50.36158 , 50.36151 ],            dtype=float32),\n 'auto_r': DeviceArray([0.102716  , 0.10103273, 0.08652895, 0.10255948, 0.10378079,\n              0.09827673, 0.09490088, 0.11215659, 0.09764636, 0.10040153],            dtype=float32),\n 'auto_s': DeviceArray([0.10307536, 0.08938336, 0.09729765, 0.10449575, 0.09176461,\n              0.10290795, 0.10633759, 0.10081092, 0.10872542, 0.09520143],            dtype=float32),\n 'auto_u': DeviceArray([0.08971027, 0.09998604, 0.100428  , 0.11008723, 0.10186744,\n              0.10027766, 0.09818285, 0.09961999, 0.10006812, 0.0997719 ],            dtype=float32),\n 'auto_v': DeviceArray([0.09381612, 0.1027533 , 0.09510674, 0.09551223, 0.09240939,\n              0.10085187, 0.11026028, 0.10756215, 0.09991514, 0.10181277],            dtype=float32)}"
     },
     "metadata": {},
     "execution_count": 38
    }
   ],
   "source": [
    "svgd.get_params(state)"
   ]
  },
  {
   "cell_type": "code",
   "execution_count": 47,
   "metadata": {},
   "outputs": [
    {
     "output_type": "execute_result",
     "data": {
      "text/plain": "(DeviceArray([[4.3650956e+00, 4.9997859e+00],\n              [3.8034420e+00, 4.9985857e+00],\n              [3.3639469e+00, 4.9972243e+00],\n              [3.0097077e+00, 4.9956999e+00],\n              [2.7173209e+00, 4.9940104e+00],\n              [2.4712257e+00, 4.9921536e+00],\n              [2.2606721e+00, 4.9901261e+00],\n              [2.0779948e+00, 4.9879246e+00],\n              [1.9175801e+00, 4.9855442e+00],\n              [1.7752224e+00, 4.9829807e+00],\n              [1.6477084e+00, 4.9802279e+00],\n              [1.5325407e+00, 4.9772792e+00],\n              [1.4277488e+00, 4.9741278e+00],\n              [1.3317573e+00, 4.9707646e+00],\n              [1.2432915e+00, 4.9671807e+00],\n              [1.1613094e+00, 4.9633651e+00],\n              [1.0849509e+00, 4.9593062e+00],\n              [1.0135007e+00, 4.9549899e+00],\n              [9.4635916e-01, 4.9504008e+00],\n              [8.8302100e-01, 4.9455214e+00],\n              [8.2305807e-01, 4.9403319e+00],\n              [7.6610649e-01, 4.9348092e+00],\n              [7.1185637e-01, 4.9289274e+00],\n              [6.6004390e-01, 4.9226561e+00],\n              [6.1044538e-01, 4.9159613e+00],\n              [5.6287247e-01, 4.9088025e+00],\n              [5.1716870e-01, 4.9011335e+00],\n              [4.7320744e-01, 4.8929000e+00],\n              [4.3089041e-01, 4.8840384e+00],\n              [3.9014745e-01, 4.8744736e+00],\n              [3.5093713e-01, 4.8641167e+00],\n              [3.1324831e-01, 4.8528624e+00],\n              [2.7710262e-01, 4.8405852e+00],\n              [2.4255775e-01, 4.8271360e+00],\n              [2.0971125e-01, 4.8123384e+00],\n              [1.7870413e-01, 4.7959852e+00],\n              [1.4972256e-01, 4.7778373e+00],\n              [1.2299519e-01, 4.7576270e+00],\n              [9.8781407e-02, 4.7350721e+00],\n              [7.7345118e-02, 4.7099013e+00],\n              [5.8909770e-02, 4.6818995e+00],\n              [4.3597735e-02, 4.6509676e+00],\n              [3.1371202e-02, 4.6171770e+00],\n              [2.2004044e-02, 4.5807934e+00],\n              [1.5107788e-02, 4.5422449e+00],\n              [1.0205166e-02, 4.5020447e+00],\n              [6.8161683e-03, 4.4607010e+00],\n              [4.5211795e-03, 4.4186535e+00],\n              [2.9884011e-03, 4.3762479e+00],\n              [1.9732786e-03, 4.3337374e+00]], dtype=float32),\n DeviceArray(0.07553042, dtype=float32))"
     },
     "metadata": {},
     "execution_count": 47
    }
   ],
   "source": [
    "runge_kutta_4(lambda t, y: predator_prey_step(t, y, r=0.1, k=0.3, s=0.1,a=0.1,u=0.1, v=0.1), step_size, num_steps, dampening_rate,\n",
    "                            lyapunov_scale, rng_key, np.array([50., 5.]))"
   ]
  },
  {
   "cell_type": "code",
   "execution_count": 9,
   "metadata": {},
   "outputs": [],
   "source": [
    "def transmap_guide(indices, observations):\n",
    "    prey0val = numpyro.param('prey0val', 25)\n",
    "    predator0val = numpyro.param('predator0val', 25)\n",
    "    rval = numpyro.param('rval', 25)\n",
    "    kval = numpyro.param('kval', 25)\n",
    "    sval = numpyro.param('sval', 25)\n",
    "    aval = numpyro.param('aval', 25)\n",
    "    uval = numpyro.param('uval', 25)\n",
    "    vval = numpyro.param('vval', 25)\n",
    "    tmapp = numpyro.param('tmapp', np.zeros(8 * (8 + 1) // 2) + 1e-3)\n",
    "    tril_idx = np.tril_indices(8)\n",
    "    tmap = jax.ops.index_update(np.zeros((8, 8)), tril_idx, tmapp)\n",
    "    prey0val, predator0val, rval, kval, sval, aval, uval, vval = tmap @ np.array([prey0val, predator0val, rval, kval, sval, aval, uval, vval])\n",
    "    prey0 = numpyro.sample('prey0', dist.Delta(prey0val))\n",
    "    predator0 = numpyro.sample('predator0', dist.Delta(predator0val))\n",
    "    r = numpyro.sample('r', dist.Delta(rval))\n",
    "    k = numpyro.sample('k', dist.Delta(kval))\n",
    "    s = numpyro.sample('s', dist.Delta(sval))\n",
    "    a = numpyro.sample('a', dist.Delta(aval))\n",
    "    u = numpyro.sample('u', dist.Delta(uval))\n",
    "    v = numpyro.sample('v', dist.Delta(vval))"
   ]
  },
  {
   "cell_type": "code",
   "execution_count": 8,
   "metadata": {},
   "outputs": [
    {
     "output_type": "error",
     "ename": "NameError",
     "evalue": "name 'transmap_guide' is not defined",
     "traceback": [
      "\u001b[0;31m---------------------------------------------------------------------------\u001b[0m",
      "\u001b[0;31mNameError\u001b[0m                                 Traceback (most recent call last)",
      "\u001b[0;32m<ipython-input-8-c736cadaaf76>\u001b[0m in \u001b[0;36m<module>\u001b[0;34m\u001b[0m\n\u001b[0;32m----> 1\u001b[0;31m svgd = numpyro.infer.SVGD(model, numpyro.guides.WrappedGuide(transmap_guide), \n\u001b[0m\u001b[1;32m      2\u001b[0m                           \u001b[0mnumpyro\u001b[0m\u001b[0;34m.\u001b[0m\u001b[0moptim\u001b[0m\u001b[0;34m.\u001b[0m\u001b[0mSGD\u001b[0m\u001b[0;34m(\u001b[0m\u001b[0;36m1e-100\u001b[0m\u001b[0;34m)\u001b[0m\u001b[0;34m,\u001b[0m \u001b[0mnumpyro\u001b[0m\u001b[0;34m.\u001b[0m\u001b[0minfer\u001b[0m\u001b[0;34m.\u001b[0m\u001b[0mELBO\u001b[0m\u001b[0;34m(\u001b[0m\u001b[0;34m)\u001b[0m\u001b[0;34m,\u001b[0m\u001b[0;34m\u001b[0m\u001b[0;34m\u001b[0m\u001b[0m\n\u001b[1;32m      3\u001b[0m                           \u001b[0mnumpyro\u001b[0m\u001b[0;34m.\u001b[0m\u001b[0minfer\u001b[0m\u001b[0;34m.\u001b[0m\u001b[0mkernels\u001b[0m\u001b[0;34m.\u001b[0m\u001b[0mRBFKernel\u001b[0m\u001b[0;34m(\u001b[0m\u001b[0;34m)\u001b[0m\u001b[0;34m,\u001b[0m \u001b[0mrepulsion_temperature\u001b[0m\u001b[0;34m=\u001b[0m\u001b[0mdata\u001b[0m\u001b[0;34m[\u001b[0m\u001b[0;36m1\u001b[0m\u001b[0;34m]\u001b[0m\u001b[0;34m.\u001b[0m\u001b[0mshape\u001b[0m\u001b[0;34m[\u001b[0m\u001b[0;36m0\u001b[0m\u001b[0;34m]\u001b[0m\u001b[0;34m,\u001b[0m\u001b[0;34m\u001b[0m\u001b[0;34m\u001b[0m\u001b[0m\n\u001b[1;32m      4\u001b[0m                           classic_guide_params_fn=lambda n: n in {'tmapp'})\n\u001b[1;32m      5\u001b[0m \u001b[0mstate\u001b[0m\u001b[0;34m,\u001b[0m \u001b[0mloss\u001b[0m \u001b[0;34m=\u001b[0m \u001b[0msvgd\u001b[0m\u001b[0;34m.\u001b[0m\u001b[0mrun\u001b[0m\u001b[0;34m(\u001b[0m\u001b[0mrng_key\u001b[0m\u001b[0;34m,\u001b[0m \u001b[0;36m100000\u001b[0m\u001b[0;34m,\u001b[0m \u001b[0;34m*\u001b[0m\u001b[0mdata\u001b[0m\u001b[0;34m)\u001b[0m\u001b[0;34m\u001b[0m\u001b[0;34m\u001b[0m\u001b[0m\n",
      "\u001b[0;31mNameError\u001b[0m: name 'transmap_guide' is not defined"
     ]
    }
   ],
   "source": [
    "svgd = numpyro.infer.SVGD(model, numpyro.guides.WrappedGuide(transmap_guide), \n",
    "                          numpyro.optim.SGD(1e-100), numpyro.infer.ELBO(),\n",
    "                          numpyro.infer.kernels.RBFKernel(), repulsion_temperature=data[1].shape[0],\n",
    "                          classic_guide_params_fn=lambda n: n in {'tmapp'})\n",
    "state, loss = svgd.run(rng_key, 100000, *data)"
   ]
  },
  {
   "cell_type": "code",
   "execution_count": null,
   "metadata": {},
   "outputs": [],
   "source": []
  }
 ],
 "metadata": {
  "language_info": {
   "codemirror_mode": {
    "name": "ipython",
    "version": 3
   },
   "file_extension": ".py",
   "mimetype": "text/x-python",
   "name": "python",
   "nbconvert_exporter": "python",
   "pygments_lexer": "ipython3",
   "version": "3.8.2-final"
  },
  "orig_nbformat": 2,
  "kernelspec": {
   "name": "python38264bitae5f2af3297f41dd9420774d1e1722e6",
   "display_name": "Python 3.8.2 64-bit"
  }
 },
 "nbformat": 4,
 "nbformat_minor": 2
}