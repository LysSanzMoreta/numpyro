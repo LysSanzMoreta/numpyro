{
 "cells": [
  {
   "cell_type": "markdown",
   "metadata": {},
   "source": [
    "# Transport maps (Triangular, NeuTra)\n",
    "Based on \"Transport map accelerated Markov chain Monte Carlo\" by Parno and Marzouk (SIAM/ASA Journal on Uncertainty Quantification 2018) and \"NeuTra-lizing Bad Geometry in Hamiltonian Monte Carlo Using Neural Transport\" by Hoffman et al. (Symposium on Approximate Bayesian Inference 2018)"
   ]
  },
  {
   "cell_type": "code",
   "execution_count": 1,
   "metadata": {},
   "outputs": [],
   "source": [
    "import jax\n",
    "import jax.numpy as np\n",
    "import numpy as onp\n",
    "import numpyro\n",
    "from numpyro import distributions as dist\n",
    "from numpyro.distributions import constraints\n",
    "from numpyro.examples.runge_kutta import runge_kutta_4\n",
    "from tqdm import tqdm"
   ]
  },
  {
   "cell_type": "code",
   "execution_count": 2,
   "metadata": {},
   "outputs": [],
   "source": [
    "rng_key = jax.random.PRNGKey(242)"
   ]
  },
  {
   "cell_type": "markdown",
   "metadata": {},
   "source": [
    "## Predator Prey Model"
   ]
  },
  {
   "cell_type": "code",
   "execution_count": 3,
   "metadata": {},
   "outputs": [],
   "source": [
    "def predator_prey_step(t, state, r=0.6, k=100, s=1.2, a=25, u=0.5, v=0.3):\n",
    "    prey = state[..., 0]\n",
    "    predator = state[..., 1]\n",
    "    sh = (prey * predator)/(a + prey)\n",
    "    prey_upd = r * prey * (1 - prey / k) - s * sh\n",
    "    predator_upd = u * sh - v * predator\n",
    "    return np.stack((prey_upd, predator_upd), axis=-1)\n",
    "num_time = 5\n",
    "step_size = 0.1\n",
    "num_steps = int(num_time / step_size)\n",
    "dampening_rate = 0.9\n",
    "lyapunov_scale = 10e-4\n",
    "predator_prey = jax.partial(runge_kutta_4, predator_prey_step, step_size, num_steps, dampening_rate,\n",
    "                            lyapunov_scale, rng_key)"
   ]
  },
  {
   "cell_type": "code",
   "execution_count": 4,
   "metadata": {},
   "outputs": [
    {
     "output_type": "execute_result",
     "data": {
      "text/plain": "(DeviceArray([ 1, 11, 21, 31, 41], dtype=int32),\n DeviceArray([[[ 39.024696 , -12.725592 ],\n               [ 66.320984 ,   6.957094 ],\n               [ 68.026535 ,   3.555342 ],\n               [ 91.41165  ,  12.742411 ],\n               [ 72.754944 ,  -2.7839265]],\n \n              [[ 70.52715  ,   8.503686 ],\n               [ 82.815445 ,   7.1307592],\n               [ 47.49247  ,  -3.0286903],\n               [ 79.045616 ,  12.486261 ],\n               [ 61.746765 ,   7.427475 ]],\n \n              [[ 44.7713   ,  -8.647638 ],\n               [ 68.058876 ,  10.351557 ],\n               [ 62.73179  ,  20.398611 ],\n               [ 76.33872  ,  24.19844  ],\n               [ 68.47187  ,  11.550174 ]],\n \n              ...,\n \n              [[ 65.181244 ,  17.313404 ],\n               [ 62.664757 ,   5.912359 ],\n               [ 77.01439  ,   7.073277 ],\n               [ 80.45603  ,  16.42875  ],\n               [ 73.00238  ,   4.452697 ]],\n \n              [[ 60.07134  ,  -6.554132 ],\n               [ 60.279194 , -11.933813 ],\n               [ 65.92108  ,  19.284107 ],\n               [ 74.64605  ,  13.780729 ],\n               [ 77.26826  ,  15.895439 ]],\n \n              [[ 43.870888 ,  -1.1976914],\n               [ 42.344887 ,  10.72414  ],\n               [ 78.40987  ,   6.6342463],\n               [ 82.94648  ,  -0.2914729],\n               [ 57.540928 ,  16.0469   ]]], dtype=float32))"
     },
     "metadata": {},
     "execution_count": 4
    }
   ],
   "source": [
    "indices = np.array([1, 11, 21, 31, 41])\n",
    "res, lyapunov_loss = predator_prey(np.array([50., 5.]))\n",
    "noise = jax.random.normal(rng_key, (1000,5,2)) * 10\n",
    "data = (indices, res[indices] + noise)\n",
    "data"
   ]
  },
  {
   "cell_type": "code",
   "execution_count": 5,
   "metadata": {},
   "outputs": [],
   "source": [
    "def model(indices, observations):\n",
    "    prior_dist = dist.TransformedDistribution(dist.Normal(1.5, 100),\n",
    "                                              dist.transforms.ComposeTransform([\n",
    "                                                  dist.transforms.ExpTransform(),\n",
    "                                                  dist.transforms.AffineTransform(0.1, 1.0)\n",
    "                                              ]))\n",
    "    prey0 = numpyro.sample('prey0', prior_dist)\n",
    "    predator0 = numpyro.sample('predator0', prior_dist)\n",
    "    r = numpyro.sample('r', prior_dist)\n",
    "    k = numpyro.sample('k', prior_dist)\n",
    "    s = numpyro.sample('s', prior_dist)\n",
    "    a = numpyro.sample('a', prior_dist)\n",
    "    u = numpyro.sample('u', prior_dist)\n",
    "    v = numpyro.sample('v', prior_dist)\n",
    "    ppres, lyapunov_loss = predator_prey(np.array([prey0, predator0]))\n",
    "    numpyro.factor('lyapunov_loss', lyapunov_loss)\n",
    "    numpyro.sample('obs', dist.Normal(ppres[indices], 1.0).to_event(2), obs=observations)"
   ]
  },
  {
   "cell_type": "markdown",
   "metadata": {},
   "source": [
    "### NUTS MCMC Sampling"
   ]
  },
  {
   "cell_type": "code",
   "execution_count": 6,
   "metadata": {},
   "outputs": [
    {
     "output_type": "stream",
     "name": "stderr",
     "text": "sample: 100%|██████████| 1100/1100 [03:32<00:00,  5.19it/s, None]\n\n                 mean       std    median      5.0%     95.0%     n_eff     r_hat\n          a      2.96      2.37      2.96      0.59      5.33      1.00   6756.00\n          k      1.10      0.18      1.10      0.92      1.28      1.00   1232.37\n  predator0      3.30      0.20      3.30      3.10      3.50      1.00    192.67\n      prey0     47.83      1.22     47.83     46.61     49.05      1.00   2763.85\n          r      2.17      0.60      2.17      1.57      2.78      1.00   2193.87\n          s      1.41      0.16      1.41      1.25      1.57      1.00    913.34\n          u      0.76      0.38      0.76      0.39      1.14       nan   4268.08\n          v      1.47      1.22      1.47      0.25      2.70      1.00   6874.50\n\nNumber of divergences: 0\n"
    }
   ],
   "source": [
    "mcmc = numpyro.infer.MCMC(numpyro.infer.NUTS(model), 100, 1000, num_chains=2, chain_method='vectorized')\n",
    "mcmc.run(rng_key, *data)\n",
    "mcmc.print_summary()"
   ]
  },
  {
   "cell_type": "markdown",
   "metadata": {},
   "source": [
    "### Guide and Stein with Transport Maps"
   ]
  },
  {
   "cell_type": "code",
   "execution_count": 7,
   "metadata": {},
   "outputs": [],
   "source": [
    "def standard_guide(indices, observations):\n",
    "    prey0val = numpyro.param('prey0val', 25, constraint=constraints.interval(0.1, 50))\n",
    "    prey0 = numpyro.sample('prey0', dist.Delta(prey0val))\n",
    "    predator0val = numpyro.param('predator0val', 25, constraint=constraints.interval(0.1, 50))\n",
    "    predator0 = numpyro.sample('predator0', dist.Delta(predator0val))\n",
    "    rval = numpyro.param('rval', 25, constraint=constraints.interval(0.1, 50))\n",
    "    r = numpyro.sample('r', dist.Delta(rval))\n",
    "    kval = numpyro.param('kval', 25, constraint=constraints.interval(0.1, 50))\n",
    "    k = numpyro.sample('k', dist.Delta(kval))\n",
    "    sval = numpyro.param('sval', 25, constraint=constraints.interval(0.1, 50))\n",
    "    s = numpyro.sample('s', dist.Delta(sval))\n",
    "    aval = numpyro.param('aval', 25, constraint=constraints.interval(0.1, 50))\n",
    "    a = numpyro.sample('a', dist.Delta(aval))\n",
    "    uval = numpyro.param('uval', 25, constraint=constraints.interval(0.1, 50))\n",
    "    u = numpyro.sample('u', dist.Delta(uval))\n",
    "    vval = numpyro.param('vval', 25, constraint=constraints.interval(0.1, 50))\n",
    "    v = numpyro.sample('v', dist.Delta(vval))"
   ]
  },
  {
   "cell_type": "code",
   "execution_count": 12,
   "metadata": {},
   "outputs": [
    {
     "output_type": "stream",
     "name": "stdout",
     "text": "1000\n"
    }
   ],
   "source": [
    "svgd = numpyro.infer.SVGD(model, numpyro.guides.WrappedGuide(standard_guide), \n",
    "                          numpyro.optim.Adam(1e-3), numpyro.infer.ELBO(),\n",
    "                          numpyro.infer.kernels.RBFKernel(), repulsion_temperature=data[1].shape[0])\n",
    "print(data[1].shape[0])                        \n",
    "state = svgd.init(rng_key, *data)\n",
    "print(svgd.get_params(state))\n",
    "state, loss = svgd.run(rng_key, 100000, *data)"
   ]
  },
  {
   "cell_type": "code",
   "execution_count": 10,
   "metadata": {},
   "outputs": [
    {
     "output_type": "execute_result",
     "data": {
      "text/plain": "{'aval': DeviceArray([0.1, 0.1, 0.1, 0.1, 0.1, 0.1, 0.1, 0.1, 0.1, 0.1], dtype=float32),\n 'kval': DeviceArray([0.1, 0.1, 0.1, 0.1, 0.1, 0.1, 0.1, 0.1, 0.1, 0.1], dtype=float32),\n 'predator0val': DeviceArray([5.161248 , 5.160422 , 5.161248 , 5.1612544, 5.1612153,\n              5.161208 , 5.16125  , 5.1612535, 5.1612525, 5.1612473],            dtype=float32),\n 'prey0val': DeviceArray([49.999992, 49.999992, 49.999992, 49.999992, 49.999992,\n              49.999992, 49.999992, 49.999992, 49.999992, 49.999992],            dtype=float32),\n 'rval': DeviceArray([0.1, 0.1, 0.1, 0.1, 0.1, 0.1, 0.1, 0.1, 0.1, 0.1], dtype=float32),\n 'sval': DeviceArray([0.1, 0.1, 0.1, 0.1, 0.1, 0.1, 0.1, 0.1, 0.1, 0.1], dtype=float32),\n 'uval': DeviceArray([0.1, 0.1, 0.1, 0.1, 0.1, 0.1, 0.1, 0.1, 0.1, 0.1], dtype=float32),\n 'vval': DeviceArray([0.1, 0.1, 0.1, 0.1, 0.1, 0.1, 0.1, 0.1, 0.1, 0.1], dtype=float32)}"
     },
     "metadata": {},
     "execution_count": 10
    }
   ],
   "source": [
    "svgd.get_params(state)"
   ]
  },
  {
   "cell_type": "code",
   "execution_count": 9,
   "metadata": {},
   "outputs": [],
   "source": [
    "def transmap_guide(indices, observations):\n",
    "    prey0val = numpyro.param('prey0val', 25)\n",
    "    predator0val = numpyro.param('predator0val', 25)\n",
    "    rval = numpyro.param('rval', 25)\n",
    "    kval = numpyro.param('kval', 25)\n",
    "    sval = numpyro.param('sval', 25)\n",
    "    aval = numpyro.param('aval', 25)\n",
    "    uval = numpyro.param('uval', 25)\n",
    "    vval = numpyro.param('vval', 25)\n",
    "    tmapp = numpyro.param('tmapp', np.zeros(8 * (8 + 1) // 2) + 1e-3)\n",
    "    tril_idx = np.tril_indices(8)\n",
    "    tmap = jax.ops.index_update(np.zeros((8, 8)), tril_idx, tmapp)\n",
    "    prey0val, predator0val, rval, kval, sval, aval, uval, vval = tmap @ np.array([prey0val, predator0val, rval, kval, sval, aval, uval, vval])\n",
    "    prey0 = numpyro.sample('prey0', dist.Delta(prey0val))\n",
    "    predator0 = numpyro.sample('predator0', dist.Delta(predator0val))\n",
    "    r = numpyro.sample('r', dist.Delta(rval))\n",
    "    k = numpyro.sample('k', dist.Delta(kval))\n",
    "    s = numpyro.sample('s', dist.Delta(sval))\n",
    "    a = numpyro.sample('a', dist.Delta(aval))\n",
    "    u = numpyro.sample('u', dist.Delta(uval))\n",
    "    v = numpyro.sample('v', dist.Delta(vval))"
   ]
  },
  {
   "cell_type": "code",
   "execution_count": 8,
   "metadata": {},
   "outputs": [
    {
     "output_type": "error",
     "ename": "NameError",
     "evalue": "name 'transmap_guide' is not defined",
     "traceback": [
      "\u001b[0;31m---------------------------------------------------------------------------\u001b[0m",
      "\u001b[0;31mNameError\u001b[0m                                 Traceback (most recent call last)",
      "\u001b[0;32m<ipython-input-8-c736cadaaf76>\u001b[0m in \u001b[0;36m<module>\u001b[0;34m\u001b[0m\n\u001b[0;32m----> 1\u001b[0;31m svgd = numpyro.infer.SVGD(model, numpyro.guides.WrappedGuide(transmap_guide), \n\u001b[0m\u001b[1;32m      2\u001b[0m                           \u001b[0mnumpyro\u001b[0m\u001b[0;34m.\u001b[0m\u001b[0moptim\u001b[0m\u001b[0;34m.\u001b[0m\u001b[0mSGD\u001b[0m\u001b[0;34m(\u001b[0m\u001b[0;36m1e-100\u001b[0m\u001b[0;34m)\u001b[0m\u001b[0;34m,\u001b[0m \u001b[0mnumpyro\u001b[0m\u001b[0;34m.\u001b[0m\u001b[0minfer\u001b[0m\u001b[0;34m.\u001b[0m\u001b[0mELBO\u001b[0m\u001b[0;34m(\u001b[0m\u001b[0;34m)\u001b[0m\u001b[0;34m,\u001b[0m\u001b[0;34m\u001b[0m\u001b[0;34m\u001b[0m\u001b[0m\n\u001b[1;32m      3\u001b[0m                           \u001b[0mnumpyro\u001b[0m\u001b[0;34m.\u001b[0m\u001b[0minfer\u001b[0m\u001b[0;34m.\u001b[0m\u001b[0mkernels\u001b[0m\u001b[0;34m.\u001b[0m\u001b[0mRBFKernel\u001b[0m\u001b[0;34m(\u001b[0m\u001b[0;34m)\u001b[0m\u001b[0;34m,\u001b[0m \u001b[0mrepulsion_temperature\u001b[0m\u001b[0;34m=\u001b[0m\u001b[0mdata\u001b[0m\u001b[0;34m[\u001b[0m\u001b[0;36m1\u001b[0m\u001b[0;34m]\u001b[0m\u001b[0;34m.\u001b[0m\u001b[0mshape\u001b[0m\u001b[0;34m[\u001b[0m\u001b[0;36m0\u001b[0m\u001b[0;34m]\u001b[0m\u001b[0;34m,\u001b[0m\u001b[0;34m\u001b[0m\u001b[0;34m\u001b[0m\u001b[0m\n\u001b[1;32m      4\u001b[0m                           classic_guide_params_fn=lambda n: n in {'tmapp'})\n\u001b[1;32m      5\u001b[0m \u001b[0mstate\u001b[0m\u001b[0;34m,\u001b[0m \u001b[0mloss\u001b[0m \u001b[0;34m=\u001b[0m \u001b[0msvgd\u001b[0m\u001b[0;34m.\u001b[0m\u001b[0mrun\u001b[0m\u001b[0;34m(\u001b[0m\u001b[0mrng_key\u001b[0m\u001b[0;34m,\u001b[0m \u001b[0;36m100000\u001b[0m\u001b[0;34m,\u001b[0m \u001b[0;34m*\u001b[0m\u001b[0mdata\u001b[0m\u001b[0;34m)\u001b[0m\u001b[0;34m\u001b[0m\u001b[0;34m\u001b[0m\u001b[0m\n",
      "\u001b[0;31mNameError\u001b[0m: name 'transmap_guide' is not defined"
     ]
    }
   ],
   "source": [
    "svgd = numpyro.infer.SVGD(model, numpyro.guides.WrappedGuide(transmap_guide), \n",
    "                          numpyro.optim.SGD(1e-100), numpyro.infer.ELBO(),\n",
    "                          numpyro.infer.kernels.RBFKernel(), repulsion_temperature=data[1].shape[0],\n",
    "                          classic_guide_params_fn=lambda n: n in {'tmapp'})\n",
    "state, loss = svgd.run(rng_key, 100000, *data)"
   ]
  },
  {
   "cell_type": "code",
   "execution_count": null,
   "metadata": {},
   "outputs": [],
   "source": []
  }
 ],
 "metadata": {
  "language_info": {
   "codemirror_mode": {
    "name": "ipython",
    "version": 3
   },
   "file_extension": ".py",
   "mimetype": "text/x-python",
   "name": "python",
   "nbconvert_exporter": "python",
   "pygments_lexer": "ipython3",
   "version": "3.8.2-final"
  },
  "orig_nbformat": 2,
  "kernelspec": {
   "name": "python3",
   "display_name": "Python 3"
  }
 },
 "nbformat": 4,
 "nbformat_minor": 2
}