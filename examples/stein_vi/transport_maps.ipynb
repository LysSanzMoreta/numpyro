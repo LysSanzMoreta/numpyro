{
 "cells": [
  {
   "cell_type": "markdown",
   "metadata": {},
   "source": [
    "# Transport maps (Triangular, NeuTra)\n",
    "Based on \"Transport map accelerated Markov chain Monte Carlo\" by Parno and Marzouk (SIAM/ASA Journal on Uncertainty Quantification 2018) and \"NeuTra-lizing Bad Geometry in Hamiltonian Monte Carlo Using Neural Transport\" by Hoffman et al. (Symposium on Approximate Bayesian Inference 2018)"
   ]
  },
  {
   "cell_type": "code",
   "execution_count": 1,
   "metadata": {},
   "outputs": [],
   "source": [
    "import jax\n",
    "import jax.numpy as np\n",
    "import numpy as onp\n",
    "import numpyro\n",
    "from numpyro import distributions as dist\n",
    "from numpyro.examples.runge_kutta import runge_kutta_4"
   ]
  },
  {
   "cell_type": "code",
   "execution_count": 2,
   "metadata": {},
   "outputs": [],
   "source": [
    "rng_key = jax.random.PRNGKey(242)"
   ]
  },
  {
   "cell_type": "markdown",
   "metadata": {},
   "source": [
    "## Predator Prey Model"
   ]
  },
  {
   "cell_type": "code",
   "execution_count": 3,
   "metadata": {},
   "outputs": [],
   "source": [
    "def predator_prey(t, state, r=0.6, k=100, s=1.2, a=25, u=0.5, v=0.3):\n",
    "    prey = state[..., 0]\n",
    "    predator = state[..., 1]\n",
    "    sh = (prey * predator)/(a + prey)\n",
    "    prey_upd = r * prey * (1 - prey / k) - s * sh\n",
    "    predator_upd = u * sh - v * predator\n",
    "    return np.stack((prey_upd, predator_upd), axis=-1)"
   ]
  },
  {
   "cell_type": "code",
   "execution_count": 4,
   "metadata": {},
   "outputs": [
    {
     "output_type": "execute_result",
     "data": {
      "text/plain": "(DeviceArray([ 1, 11, 21, 31, 41], dtype=int32),\n DeviceArray([[[ 39.024696 , -12.725592 ],\n               [ 66.320984 ,   6.957094 ],\n               [ 68.026535 ,   3.555342 ],\n               [ 91.41165  ,  12.742411 ],\n               [ 72.754944 ,  -2.7839265]],\n \n              [[ 70.52715  ,   8.503686 ],\n               [ 82.815445 ,   7.1307592],\n               [ 47.49247  ,  -3.0286903],\n               [ 79.045616 ,  12.486261 ],\n               [ 61.746765 ,   7.427475 ]],\n \n              [[ 44.7713   ,  -8.647638 ],\n               [ 68.058876 ,  10.351557 ],\n               [ 62.73179  ,  20.398611 ],\n               [ 76.33872  ,  24.19844  ],\n               [ 68.47187  ,  11.550174 ]],\n \n              ...,\n \n              [[ 65.181244 ,  17.313404 ],\n               [ 62.664757 ,   5.912359 ],\n               [ 77.01439  ,   7.073277 ],\n               [ 80.45603  ,  16.42875  ],\n               [ 73.00238  ,   4.452697 ]],\n \n              [[ 60.07134  ,  -6.554132 ],\n               [ 60.279194 , -11.933813 ],\n               [ 65.92108  ,  19.284107 ],\n               [ 74.64605  ,  13.780729 ],\n               [ 77.26826  ,  15.895439 ]],\n \n              [[ 43.870888 ,  -1.1976914],\n               [ 42.344887 ,  10.72414  ],\n               [ 78.40987  ,   6.6342463],\n               [ 82.94648  ,  -0.2914729],\n               [ 57.540928 ,  16.0469   ]]], dtype=float32))"
     },
     "metadata": {},
     "execution_count": 4
    }
   ],
   "source": [
    "indices = np.array([1, 11, 21, 31, 41])\n",
    "res = runge_kutta_4(predator_prey, np.array([50., 5.]), 0.1, 50)\n",
    "noise = jax.random.normal(rng_key, (1000,5,2)) * 10\n",
    "data = (indices, res[indices] + noise)\n",
    "data"
   ]
  },
  {
   "cell_type": "code",
   "execution_count": 5,
   "metadata": {},
   "outputs": [],
   "source": [
    "# %%\n",
    "def model(indices, observations):\n",
    "    prey0 = numpyro.sample('prey0', dist.Uniform(0.1, 50.))\n",
    "    predator0 = numpyro.sample('predator0', dist.Uniform(0.1, 50.))\n",
    "    r = numpyro.sample('r', dist.Uniform(0.1, 50.))\n",
    "    k = numpyro.sample('k', dist.Uniform(0.1, 150.))\n",
    "    s = numpyro.sample('s', dist.Uniform(0.1, 50.))\n",
    "    a = numpyro.sample('a', dist.Uniform(0.1, 50.))\n",
    "    u = numpyro.sample('u', dist.Uniform(0.1, 50.))\n",
    "    v = numpyro.sample('v', dist.Uniform(0.1, 50.))\n",
    "    stddev = numpyro.sample('stddev', dist.InverseGamma(1.))\n",
    "    ppres = runge_kutta_4(lambda t, state: predator_prey(t, state, r, k, s, a, u, v),\n",
    "                          np.array([prey0, predator0]), 0.01, 50)\n",
    "    numpyro.sample('obs', dist.Normal(ppres[indices], stddev).to_event(2), obs=observations)"
   ]
  },
  {
   "cell_type": "markdown",
   "metadata": {},
   "source": [
    "### NUTS MCMC Sampling"
   ]
  },
  {
   "cell_type": "code",
   "execution_count": 6,
   "metadata": {},
   "outputs": [
    {
     "output_type": "stream",
     "name": "stderr",
     "text": "sample: 100%|██████████| 11000/11000 [09:33<00:00, 19.18it/s, 7 steps of size 4.62e-03. acc. prob=0.76]\nsample: 100%|██████████| 11000/11000 [09:08<00:00, 20.04it/s, 383 steps of size 5.48e-03. acc. prob=0.80]\n\n                 mean       std    median      5.0%     95.0%     n_eff     r_hat\n          a     22.92     15.00     21.85      0.11     44.48   1778.86      1.01\n          k    104.82     10.59    103.15     88.58    120.91   2312.04      1.00\n  predator0      5.35      0.27      5.35      4.88      5.77   1652.85      1.00\n      prey0     49.84      0.14     49.88     49.65     50.00   1904.03      1.00\n          r      6.64      1.10      6.43      4.98      8.21   2481.80      1.00\n          s     18.50     12.89     15.93      0.11     38.60   2148.65      1.00\n     stddev     10.12      0.07     10.12     10.00     10.24   4402.94      1.00\n          u      9.88     10.04      6.50      0.55     23.51    681.40      1.01\n          v      7.68      9.63      4.19      0.10     20.96    650.88      1.01\n\nNumber of divergences: 2217\n"
    }
   ],
   "source": [
    "mcmc = numpyro.infer.MCMC(numpyro.infer.NUTS(model), 1_000, 10_000, num_chains=2, chain_method='sequential')\n",
    "mcmc.run(rng_key, *data)\n",
    "mcmc.print_summary()"
   ]
  },
  {
   "cell_type": "markdown",
   "metadata": {},
   "source": [
    "### Guide and Stein with Transport Maps"
   ]
  },
  {
   "cell_type": "code",
   "execution_count": null,
   "metadata": {},
   "outputs": [],
   "source": []
  }
 ],
 "metadata": {
  "language_info": {
   "codemirror_mode": {
    "name": "ipython",
    "version": 3
   },
   "file_extension": ".py",
   "mimetype": "text/x-python",
   "name": "python",
   "nbconvert_exporter": "python",
   "pygments_lexer": "ipython3",
   "version": "3.8.2-final"
  },
  "orig_nbformat": 2,
  "kernelspec": {
   "name": "python3",
   "display_name": "Python 3"
  }
 },
 "nbformat": 4,
 "nbformat_minor": 2
}