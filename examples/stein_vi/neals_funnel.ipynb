{
 "cells": [
  {
   "cell_type": "code",
   "execution_count": 3,
   "metadata": {},
   "outputs": [],
   "source": [
    "import numpyro\n",
    "import jax\n",
    "import jax.numpy as np\n",
    "from numpyro.contrib.autoguide import AutoDelta\n",
    "from numpyro.infer.util import init_with_noise, init_to_value\n",
    "import numpyro\n",
    "from numpyro.infer import ELBO\n",
    "import numpyro.distributions as dist\n",
    "from numpyro.infer.stein import SVGD\n",
    "from numpyro.infer.kernels import RBFKernel\n",
    "from numpyro.optim import Adam\n",
    "from tqdm import tqdm\n",
    "import matplotlib.pyplot as plt"
   ]
  },
  {
   "cell_type": "code",
   "execution_count": 4,
   "metadata": {},
   "outputs": [],
   "source": [
    "def funnel(dim=10):\n",
    "    y = numpyro.sample('y', dist.Normal(0, 3))\n",
    "    numpyro.sample('x', dist.Normal(np.zeros(dim - 1), np.exp(y / 2)))"
   ]
  },
  {
   "cell_type": "code",
   "execution_count": 6,
   "metadata": {},
   "outputs": [],
   "source": [
    "dim = 10\n",
    "rng_key = jax.random.PRNGKey(142)\n",
    "guide = AutoDelta(funnel, init_strategy=init_with_noise(init_to_value({'x': np.array([0.]*(dim-1)), 'y': np.array([1.])}), noise_scale=1.0))\n",
    "svgd = SVGD(funnel, guide, Adam(step_size=1e-4), ELBO(),\n",
    "            RBFKernel(mode='vector'), num_stein_particles=1000, num_loss_particles=100)\n",
    "svgd_state = svgd.init(rng_key)"
   ]
  },
  {
   "cell_type": "code",
   "execution_count": 43,
   "metadata": {},
   "outputs": [
    {
     "name": "stdout",
     "output_type": "stream",
     "text": [
      "[[nan nan nan ... nan nan nan]\n",
      " [nan nan nan ... nan nan nan]\n",
      " [nan nan nan ... nan nan nan]\n",
      " ...\n",
      " [ 0.  0.  0. ...  0.  0.  0.]\n",
      " [ 0.  0.  0. ...  0.  0.  0.]\n",
      " [ 0.  0.  0. ...  0.  0.  0.]]\n"
     ]
    },
    {
     "data": {
      "image/png": "[encoded data removed]",
      "text/plain": [
       "<Figure size 576x576 with 1 Axes>"
      ]
     },
     "metadata": {
      "needs_background": "light"
     },
     "output_type": "display_data"
    }
   ],
   "source": [
    "def funnel_pdf(pos):\n",
    "    prob = dist.Normal(0,3).log_prob(pos[:,:,1]) + dist.Normal(0, np.exp(pos[:,:,1]/2)).log_prob(pos[:,:,0])\n",
    "    return np.exp(-prob)/np.linalg.norm(np.exp(-prob))\n",
    "x, y = np.meshgrid(np.linspace(-20, 20, 500), np.linspace(-9, 9, 100))\n",
    "probs = funnel_pdf(np.stack([x, y], axis=-1))\n",
    "print(probs)\n",
    "# make plots\n",
    "fig, ax = plt.subplots(1, 1, figsize=(8,8))\n",
    "ax.contourf(x,y,probs,cmap='Reds',)  # contour of funnel\n",
    "ax.plot(svgd.get_params(svgd_state)['auto_x'][:, 0], svgd.get_params(svgd_state)['auto_y'], \"go\", alpha=0.3)\n",
    "ax.set(xlim=(-20, 20), ylim=(-9, 9), ylabel='y', title='Funnel samples')\n",
    "plt.show()"
   ]
  },
  {
   "cell_type": "code",
   "execution_count": null,
   "metadata": {},
   "outputs": [],
   "source": []
  },
  {
   "cell_type": "code",
   "execution_count": null,
   "metadata": {},
   "outputs": [],
   "source": []
  }
 ],
 "metadata": {
  "kernelspec": {
   "display_name": "Python 3",
   "language": "python",
   "name": "python3"
  },
  "language_info": {
   "codemirror_mode": {
    "name": "ipython",
    "version": 3
   },
   "file_extension": ".py",
   "mimetype": "text/x-python",
   "name": "python",
   "nbconvert_exporter": "python",
   "pygments_lexer": "ipython3",
   "version": "3.7.7"
  }
 },
 "nbformat": 4,
 "nbformat_minor": 4
}
