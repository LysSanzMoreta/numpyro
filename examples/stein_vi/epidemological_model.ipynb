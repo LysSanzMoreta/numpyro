{
 "cells": [
  {
   "cell_type": "code",
   "execution_count": 1,
   "outputs": [],
   "source": [
    "import random\n",
    "import jax.numpy as jnp\n",
    "import jax.random as jaxran\n",
    "import pandas as pd\n",
    "import numpyro\n",
    "import numpyro.distributions as dist"
   ],
   "metadata": {
    "collapsed": false,
    "pycharm": {
     "name": "#%%\n"
    }
   }
  },
  {
   "cell_type": "code",
   "execution_count": 2,
   "metadata": {
    "collapsed": true
   },
   "outputs": [],
   "source": [
    "from numpyro import handlers\n",
    "from numpyro.examples.runge_kutta import runge_kutta_4\n",
    "from numpyro.infer import NUTS, MCMC\n",
    "def seir_update(day, seir_state, *, mu, beta, nu, sigma, gamma):\n",
    "    s = seir_state[..., 0]\n",
    "    e = seir_state[..., 1]\n",
    "    i = seir_state[..., 2]\n",
    "    r = seir_state[..., 3]\n",
    "    n = s + e + i + r\n",
    "    s_upd = mu * (n - s) - beta * (s * i / n) - nu * s\n",
    "    e_upd = beta * (s * i / n) - (mu + sigma) * e\n",
    "    i_upd = sigma * e - (mu + gamma) * i\n",
    "    r_upd = gamma * i - mu * r + nu * s\n",
    "    return jnp.stack((s_upd, e_upd, i_upd, r_upd), axis=-1)"
   ]
  },
  {
   "cell_type": "code",
   "execution_count": 3,
   "outputs": [],
   "source": [
    "covid_data = pd.read_csv('data/COVID19_Denmark.csv')\n",
    "population = covid_data['Population'][0]\n",
    "initial_seir_state = jnp.array([population - 1., 1., 0., 0.])\n",
    "infection_data = covid_data['StillInfected'].to_numpy()\n",
    "recovery_data = covid_data['Recovered'].to_numpy() + covid_data[\n",
    "    'Deaths'].to_numpy()  # Dead people are also recovered in the model"
   ],
   "metadata": {
    "collapsed": false,
    "pycharm": {
     "name": "#%%\n"
    }
   }
  },
  {
   "cell_type": "code",
   "execution_count": 4,
   "outputs": [],
   "source": [
    "step_size = 0.1\n",
    "num_days = infection_data.shape[0]\n",
    "num_steps = int(num_days / step_size)\n",
    "seir = runge_kutta_4(seir_update, step_size, num_steps)"
   ],
   "metadata": {
    "collapsed": false,
    "pycharm": {
     "name": "#%%\n"
    }
   }
  },
  {
   "cell_type": "code",
   "execution_count": 5,
   "outputs": [],
   "source": [
    "def model(initial_seir_state, infection_data, recovery_data):\n",
    "    if infection_data is not None:\n",
    "        assert num_days == infection_data.shape[0]\n",
    "    if recovery_data is not None:\n",
    "        assert num_days == recovery_data.shape[0]\n",
    "    beta = numpyro.sample('beta', dist.HalfCauchy(scale=1000.))\n",
    "    gamma = numpyro.sample('gamma', dist.HalfCauchy(scale=1000.))\n",
    "    sigma = numpyro.sample('sigma', dist.HalfCauchy(scale=1000.))\n",
    "    mu = numpyro.sample('mu', dist.HalfCauchy(scale=1000.))\n",
    "    nu = jnp.array(0.0)  # No vaccine yet\n",
    "    rng_key = numpyro.rng_key('rng_key')\n",
    "    sim, lp_reg = seir(rng_key, initial_seir_state, mu=mu, beta=beta, nu=nu, sigma=sigma, gamma=gamma)\n",
    "    sim = jnp.reshape(sim, (num_days, int(1 / step_size), 4))[:, -1, :] + 1e-3\n",
    "    with numpyro.plate('data', num_days):\n",
    "        numpyro.sample('infections', dist.Poisson(sim[:, 2]), obs=infection_data)\n",
    "        numpyro.sample('recovery', dist.Poisson(sim[:, 3]), obs=recovery_data)"
   ],
   "metadata": {
    "collapsed": false,
    "pycharm": {
     "name": "#%%\n"
    }
   }
  },
  {
   "cell_type": "code",
   "execution_count": 6,
   "outputs": [],
   "source": [
    "rngkey = jaxran.PRNGKey(random.randint(0, 10000))\n",
    "rng_seed, rngkey = jaxran.split(rngkey)"
   ],
   "metadata": {
    "collapsed": false,
    "pycharm": {
     "name": "#%%\n"
    }
   }
  },
  {
   "cell_type": "code",
   "execution_count": null,
   "outputs": [
    {
     "name": "stderr",
     "output_type": "stream",
     "text": [
      "sample:  75%|███████▌  | 9382/12500 [37:58<13:42,  3.79it/s, 1023 steps of size 1.09e-05. acc. prob=0.85]  "
     ]
    }
   ],
   "source": [
    "num_warmup = 2500\n",
    "num_samples = 10000\n",
    "kernel = NUTS(handlers.seed(model, rng_seed))\n",
    "mcmc = MCMC(kernel, num_warmup, num_samples)\n",
    "mcmc.run(rngkey, initial_seir_state, infection_data, recovery_data)\n",
    "mcmc.print_summary()"
   ],
   "metadata": {
    "collapsed": false,
    "pycharm": {
     "name": "#%%\n",
     "is_executing": true
    }
   }
  },
  {
   "cell_type": "code",
   "execution_count": null,
   "outputs": [],
   "source": [
    "\n"
   ],
   "metadata": {
    "collapsed": false,
    "pycharm": {
     "name": "#%%\n",
     "is_executing": true
    }
   }
  }
 ],
 "metadata": {
  "kernelspec": {
   "display_name": "Python 3",
   "language": "python",
   "name": "python3"
  },
  "language_info": {
   "codemirror_mode": {
    "name": "ipython",
    "version": 2
   },
   "file_extension": ".py",
   "mimetype": "text/x-python",
   "name": "python",
   "nbconvert_exporter": "python",
   "pygments_lexer": "ipython2",
   "version": "2.7.6"
  }
 },
 "nbformat": 4,
 "nbformat_minor": 0
}