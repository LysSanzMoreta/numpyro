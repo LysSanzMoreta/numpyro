{
 "cells": [
  {
   "cell_type": "code",
   "execution_count": 1,
   "metadata": {},
   "outputs": [],
   "source": [
    "import matplotlib.pyplot as plt\n",
    "import numpyro\n",
    "from numpyro import handlers\n",
    "import numpyro.distributions as dist\n",
    "from numpyro.infer import ELBO\n",
    "from numpyro.infer.util import Predictive\n",
    "from numpyro.infer.initialization import init_to_value, init_with_noise\n",
    "from numpyro.contrib.autoguide import AutoDelta\n",
    "from numpyro.infer.stein import SVGD\n",
    "from numpyro.distributions import NormalMixture\n",
    "import numpyro.infer.kernels as kernels\n",
    "from numpyro.infer.kernels import SteinKernel\n",
    "from tqdm import tqdm\n",
    "import seaborn as sns\n",
    "import os\n",
    "import jax\n",
    "import jax.numpy as np\n",
    "from random import randint\n",
    "import scipy.io"
   ]
  },
  {
   "cell_type": "code",
   "execution_count": 2,
   "metadata": {},
   "outputs": [],
   "source": [
    "# From http://theoval.cmp.uea.ac.uk/matlab/default.html\n",
    "data = scipy.io.loadmat('data/benchmarks.mat')"
   ]
  },
  {
   "cell_type": "code",
   "execution_count": 3,
   "metadata": {
    "tags": [
     "outputPrepend"
    ]
   },
   "outputs": [],
   "source": [
    "datasets = {k: {'train': {'input': v['x'][0, 0][v['train'][0, 0][13, :] - 1], 'class': (v['t'][0, 0][v['train'][0, 0][13, :] - 1] == 1).astype('float')[:, 0]}, 'test': {'input': v['x'][0, 0][v['test'][0, 0][13, :] - 1], 'class': (v['t'][0, 0][v['test'][0, 0][13, :] - 1] == 1).astype('float')[:, 0]}} for k, v in data.items() if not str.startswith(k, \"__\") and not k == 'benchmarks' and v['x'][0, 0].shape[0] > 500}"
   ]
  },
  {
   "cell_type": "code",
   "execution_count": 4,
   "metadata": {},
   "outputs": [],
   "source": [
    "rng_key = jax.random.PRNGKey(randint(0, int(1e6)))\n",
    "num_iterations = 3000\n",
    "num_particles = 100"
   ]
  },
  {
   "cell_type": "code",
   "execution_count": 5,
   "metadata": {},
   "outputs": [],
   "source": [
    "def model(data, classes=None):\n",
    "    alpha = numpyro.sample('alpha', dist.InverseGamma(concentration=1.0, rate=0.01))\n",
    "    w = numpyro.sample('w', dist.Normal(loc=np.zeros(data.shape[1]+1), scale=alpha))\n",
    "    with numpyro.plate('data', data.shape[0]):\n",
    "        biased_data = np.concatenate((np.ones((data.shape[0],1)), data), axis=1)\n",
    "        return numpyro.sample('x', dist.Bernoulli(logits=biased_data @ w), obs=classes)"
   ]
  },
  {
   "cell_type": "code",
   "execution_count": 6,
   "metadata": {},
   "outputs": [],
   "source": [
    "def test_accuracy(model, guide, rng_key, testset, params, num_pred=100):\n",
    "    def single_test_accuracy(rng_key, testset, params):\n",
    "        guide_trace = handlers.trace(handlers.substitute(guide, params)).get_trace(testset['input'])\n",
    "        model_trace = handlers.trace(handlers.replay(handlers.seed(model, rng_key), guide_trace)).get_trace(testset['input'])\n",
    "        accuracy = np.count_nonzero(model_trace['x']['value'] == testset['class']) / testset['input'].shape[0] * 100\n",
    "        return accuracy\n",
    "    accs = []\n",
    "    for i in range(num_particles):\n",
    "        ps = {k: param[i] for k, param in params.items()}\n",
    "        accs.append(jax.vmap(lambda rnk: single_test_accuracy(rnk, testset, ps))(jax.random.split(rng_key, num_pred)))\n",
    "    return np.mean(np.stack(accs))"
   ]
  },
  {
   "cell_type": "code",
   "execution_count": 7,
   "metadata": {},
   "outputs": [
    {
     "output_type": "stream",
     "name": "stdout",
     "text": "banana\nSVGD 261.65: 100%|██████████| 3000/3000 [00:12<00:00, 245.49it/s]\n49.92515\ndiabetis\nSVGD 224.71: 100%|██████████| 3000/3000 [00:13<00:00, 226.05it/s]\n69.00015\ngerman\nSVGD 353.76: 100%|██████████| 3000/3000 [00:14<00:00, 210.01it/s]\n66.16984\nimage\nSVGD 581.25: 100%|██████████| 3000/3000 [00:16<00:00, 186.11it/s]\n72.2445\nringnorm\nSVGD 196.58: 100%|██████████| 3000/3000 [00:14<00:00, 204.00it/s]\n66.83965\nsplice\nSVGD 587.06: 100%|██████████| 3000/3000 [00:19<00:00, 151.22it/s]\n79.54571\ntwonorm\nSVGD 63.764: 100%|██████████| 3000/3000 [00:15<00:00, 188.51it/s]\n94.11233\nwaveform\nSVGD 134.37: 100%|██████████| 3000/3000 [00:15<00:00, 198.09it/s]\n81.30287\n"
    }
   ],
   "source": [
    "for name, dataset in datasets.items():\n",
    "    print(name)\n",
    "    guide = AutoDelta(model, init_strategy=init_with_noise(init_to_value(values={'x': -10.}), noise_scale=1.0))\n",
    "    svgd = SVGD(model, guide, numpyro.optim.Adagrad(step_size=.05), ELBO(),\n",
    "            kernels.RBFKernel(), num_particles=num_particles,\n",
    "            repulsion_temperature=dataset['train']['input'].shape[0] ** -1)\n",
    "    svgd_state, loss = svgd.run(rng_key, num_iterations, dataset['train']['input'], dataset['train']['class'])\n",
    "    print(test_accuracy(model, guide, svgd_state.rng_key, dataset['train'], svgd.get_params(svgd_state)))"
   ]
  },
  {
   "cell_type": "code",
   "execution_count": null,
   "metadata": {},
   "outputs": [],
   "source": []
  }
 ],
 "metadata": {
  "language_info": {
   "name": "python",
   "codemirror_mode": {
    "name": "ipython",
    "version": 3
   },
   "version": "3.8.2-final"
  },
  "orig_nbformat": 2,
  "file_extension": ".py",
  "mimetype": "text/x-python",
  "name": "python",
  "npconvert_exporter": "python",
  "pygments_lexer": "ipython3",
  "version": 3,
  "kernelspec": {
   "name": "python38264bitpyrosandboxconda1c987f330cde4c7a858704ebe5fd0992",
   "display_name": "Python 3.8.2 64-bit ('pyro-sandbox': conda)"
  }
 },
 "nbformat": 4,
 "nbformat_minor": 2
}