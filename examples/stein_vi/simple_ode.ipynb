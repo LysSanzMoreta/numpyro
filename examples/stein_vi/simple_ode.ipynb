{
 "cells": [
  {
   "cell_type": "code",
   "execution_count": 1,
   "outputs": [],
   "source": [
    "from matplotlib import pyplot as plt\n",
    "import jax\n",
    "from jax.lax import scan\n",
    "import jax.numpy as jnp\n",
    "import numpy as np\n",
    "import numpy.random as npr\n",
    "import numpyro\n",
    "import numpyro.distributions as dist\n",
    "from numpyro.infer import SVI, ELBO\n",
    "from numpyro.infer.autoguide import AutoDelta\n",
    "from numpyro.optim import Adam\n",
    "from numpyro.callbacks import Progbar"
   ],
   "metadata": {
    "collapsed": false,
    "pycharm": {
     "name": "#%%\n"
    }
   }
  },
  {
   "cell_type": "code",
   "execution_count": 2,
   "outputs": [],
   "source": [
    "def arms_race(x0, y0, *, k, a, g, l, b, h,\n",
    "              num_iterations=10, step_size=0.02):\n",
    "    def arms_race_up(state, t):\n",
    "        x, y = state\n",
    "        dx = k * y - a * x + g\n",
    "        dy = l * x - b * y + h\n",
    "        x = x + step_size * dx\n",
    "        y = y + step_size * dy\n",
    "        return (x, y), (x, y)\n",
    "    _, (xs, ys) = scan(arms_race_up, (x0, y0), jnp.arange(step_size, num_iterations + step_size, step_size))\n",
    "    return xs, ys\n"
   ],
   "metadata": {
    "collapsed": false,
    "pycharm": {
     "name": "#%%\n"
    }
   }
  },
  {
   "cell_type": "code",
   "execution_count": 3,
   "outputs": [],
   "source": [
    "num_iterations = 30\n",
    "step_size = 0.02\n",
    "gt_k = 10.\n",
    "gt_a = 20.\n",
    "gt_g = .1\n",
    "gt_l = 10.\n",
    "gt_b = 3.\n",
    "gt_h = 6.\n",
    "gt_xs, gt_ys = arms_race(10., 10., k=gt_k, a=gt_a, g=gt_g,\n",
    "                         l=gt_l, b=gt_b, h=gt_h, num_iterations=num_iterations,\n",
    "                         step_size=step_size)"
   ],
   "metadata": {
    "collapsed": false,
    "pycharm": {
     "name": "#%%\n"
    }
   }
  },
  {
   "cell_type": "code",
   "execution_count": 4,
   "outputs": [],
   "source": [
    "gt_xs = jnp.reshape(gt_xs, (num_iterations, -1))[:, 0]\n",
    "gt_ys = jnp.reshape(gt_ys, (num_iterations, -1))[:, 0]\n"
   ],
   "metadata": {
    "collapsed": false,
    "pycharm": {
     "name": "#%%\n"
    }
   }
  },
  {
   "cell_type": "code",
   "execution_count": 5,
   "outputs": [],
   "source": [
    "num_datapoints = 100\n",
    "noise_scale = 3\n",
    "obs_xs = np.array(gt_xs + npr.randn(num_datapoints, *np.shape(gt_xs)) * noise_scale)\n",
    "obs_ys = np.array(gt_ys + npr.randn(num_datapoints, *np.shape(gt_ys)) * noise_scale)"
   ],
   "metadata": {
    "collapsed": false,
    "pycharm": {
     "name": "#%%\n"
    }
   }
  },
  {
   "cell_type": "code",
   "execution_count": 6,
   "outputs": [],
   "source": [
    "def model(dxs, dys):\n",
    "    x0 = numpyro.sample('x0', dist.HalfCauchy())\n",
    "    y0 = numpyro.sample('y0', dist.HalfCauchy())\n",
    "    k = numpyro.sample('k', dist.HalfCauchy())\n",
    "    a = numpyro.sample('a', dist.HalfCauchy())\n",
    "    g = numpyro.sample('g', dist.HalfCauchy())\n",
    "    l = numpyro.sample('l', dist.HalfCauchy())\n",
    "    b = numpyro.sample('b', dist.HalfCauchy())\n",
    "    h = numpyro.sample('h', dist.HalfCauchy())\n",
    "    sxs, sys = arms_race(x0, y0, k=k, a=a, g=g, l=l, b=b, h=h,\n",
    "                         num_iterations=num_iterations, step_size=step_size)\n",
    "    sxs = jnp.reshape(sxs, (num_iterations, -1))[:, 0]\n",
    "    sys = jnp.reshape(sys, (num_iterations, -1))[:, 0]\n",
    "    with numpyro.plate('data', dxs.shape[0], dim=-1):\n",
    "        numpyro.sample('xs', dist.Normal(loc=jnp.expand_dims(sxs, 0), scale=1000.).to_event(1), obs=dxs)\n",
    "        numpyro.sample('ys', dist.Normal(loc=jnp.expand_dims(sys, 0), scale=1000.).to_event(1), obs=dys)"
   ],
   "metadata": {
    "collapsed": false,
    "pycharm": {
     "name": "#%%\n"
    }
   }
  },
  {
   "cell_type": "code",
   "execution_count": 7,
   "outputs": [],
   "source": [
    "rng_key = jax.random.PRNGKey(1337)"
   ],
   "metadata": {
    "collapsed": false,
    "pycharm": {
     "name": "#%%\n"
    }
   }
  },
  {
   "cell_type": "code",
   "execution_count": 9,
   "outputs": [
    {
     "name": "stderr",
     "output_type": "stream",
     "text": [
      "SVI 2.8475e+38: 100%|██████████| 1000000/1000000 [11:25<00:00, 1458.28it/s]\n"
     ]
    }
   ],
   "source": [
    "svi = SVI(model, AutoDelta(model), Adam(1.0), ELBO())\n",
    "state, loss = svi.train(rng_key, 1000000, obs_xs, obs_ys, callbacks=[Progbar()])"
   ],
   "metadata": {
    "collapsed": false,
    "pycharm": {
     "name": "#%%\n"
    }
   }
  },
  {
   "cell_type": "code",
   "execution_count": 10,
   "outputs": [
    {
     "data": {
      "text/plain": "{'auto_a': DeviceArray(1.2954643, dtype=float32),\n 'auto_b': DeviceArray(0.33825225, dtype=float32),\n 'auto_g': DeviceArray(4.9982767, dtype=float32),\n 'auto_h': DeviceArray(1.8571754, dtype=float32),\n 'auto_k': DeviceArray(1.0389583, dtype=float32),\n 'auto_l': DeviceArray(0.4966619, dtype=float32),\n 'auto_x0': DeviceArray(62.434444, dtype=float32),\n 'auto_y0': DeviceArray(19.377914, dtype=float32)}"
     },
     "execution_count": 10,
     "metadata": {},
     "output_type": "execute_result"
    }
   ],
   "source": [
    "svi.get_params(state)\n"
   ],
   "metadata": {
    "collapsed": false,
    "pycharm": {
     "name": "#%%\n"
    }
   }
  },
  {
   "cell_type": "code",
   "execution_count": null,
   "outputs": [],
   "source": [
    "\n"
   ],
   "metadata": {
    "collapsed": false,
    "pycharm": {
     "name": "#%%\n"
    }
   }
  }
 ],
 "metadata": {
  "kernelspec": {
   "display_name": "Python 3",
   "language": "python",
   "name": "python3"
  },
  "language_info": {
   "codemirror_mode": {
    "name": "ipython",
    "version": 2
   },
   "file_extension": ".py",
   "mimetype": "text/x-python",
   "name": "python",
   "nbconvert_exporter": "python",
   "pygments_lexer": "ipython2",
   "version": "2.7.6"
  }
 },
 "nbformat": 4,
 "nbformat_minor": 0
}