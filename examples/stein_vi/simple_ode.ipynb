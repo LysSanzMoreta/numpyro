{
 "cells": [
  {
   "cell_type": "code",
   "execution_count": 10,
   "outputs": [],
   "source": [
    "import jax\n",
    "import jax.numpy as jnp\n",
    "import numpy as np\n",
    "import numpy.random as npr\n",
    "from jax.lax import scan\n",
    "\n",
    "import numpyro\n",
    "import numpyro.distributions as dist\n",
    "from numpyro.callbacks import Progbar\n",
    "from numpyro.infer import SVI, ELBO\n",
    "from numpyro.infer.autoguide import AutoDelta\n",
    "from numpyro.optim import Adam"
   ],
   "metadata": {
    "collapsed": false,
    "pycharm": {
     "name": "#%%\n"
    }
   }
  },
  {
   "cell_type": "code",
   "execution_count": 11,
   "outputs": [],
   "source": [
    "def arms_race(x0, y0, *, k, a, g, l, b, h,\n",
    "              num_iterations=10, step_size=0.02):\n",
    "    def arms_race_up(state, t):\n",
    "        x, y = state\n",
    "        dx = k * y - a * x + g\n",
    "        dy = l * x - b * y + h\n",
    "        x = x + step_size * dx\n",
    "        y = y + step_size * dy\n",
    "        return (x, y), (x, y)\n",
    "    _, (xs, ys) = scan(arms_race_up, (x0, y0), jnp.arange(step_size, num_iterations + step_size, step_size))\n",
    "    return xs, ys\n"
   ],
   "metadata": {
    "collapsed": false,
    "pycharm": {
     "name": "#%%\n"
    }
   }
  },
  {
   "cell_type": "code",
   "execution_count": 12,
   "outputs": [],
   "source": [
    "num_iterations = 30\n",
    "step_size = 0.02\n",
    "gt_k = 10.\n",
    "gt_a = 20.\n",
    "gt_g = .1\n",
    "gt_l = 10.\n",
    "gt_b = 3.\n",
    "gt_h = 6.\n",
    "gt_xs, gt_ys = arms_race(10., 10., k=gt_k, a=gt_a, g=gt_g,\n",
    "                         l=gt_l, b=gt_b, h=gt_h, num_iterations=num_iterations,\n",
    "                         step_size=step_size)"
   ],
   "metadata": {
    "collapsed": false,
    "pycharm": {
     "name": "#%%\n"
    }
   }
  },
  {
   "cell_type": "code",
   "execution_count": 13,
   "outputs": [],
   "source": [
    "gt_xs = jnp.reshape(gt_xs, (num_iterations, -1))[:, 0]\n",
    "gt_ys = jnp.reshape(gt_ys, (num_iterations, -1))[:, 0]\n"
   ],
   "metadata": {
    "collapsed": false,
    "pycharm": {
     "name": "#%%\n"
    }
   }
  },
  {
   "cell_type": "code",
   "execution_count": 14,
   "outputs": [],
   "source": [
    "num_datapoints = 100\n",
    "noise_scale = 3\n",
    "obs_xs = np.array(gt_xs + npr.randn(num_datapoints, *np.shape(gt_xs)) * noise_scale)\n",
    "obs_ys = np.array(gt_ys + npr.randn(num_datapoints, *np.shape(gt_ys)) * noise_scale)"
   ],
   "metadata": {
    "collapsed": false,
    "pycharm": {
     "name": "#%%\n"
    }
   }
  },
  {
   "cell_type": "code",
   "execution_count": 15,
   "outputs": [],
   "source": [
    "def model(dxs, dys):\n",
    "    x0 = numpyro.sample('x0', dist.HalfNormal())\n",
    "    y0 = numpyro.sample('y0', dist.HalfNormal())\n",
    "    k = numpyro.sample('k', dist.HalfNormal())\n",
    "    a = numpyro.sample('a', dist.HalfNormal())\n",
    "    g = numpyro.sample('g', dist.HalfNormal())\n",
    "    l = numpyro.sample('l', dist.HalfNormal())\n",
    "    b = numpyro.sample('b', dist.HalfNormal())\n",
    "    h = numpyro.sample('h', dist.HalfNormal())\n",
    "    sxs, sys = arms_race(x0, y0, k=k, a=a, g=g, l=l, b=b, h=h,\n",
    "                         num_iterations=num_iterations, step_size=step_size)\n",
    "    sxs = jnp.reshape(sxs, (num_iterations, -1))[:, 0]\n",
    "    sys = jnp.reshape(sys, (num_iterations, -1))[:, 0]\n",
    "    with numpyro.plate('data', dxs.shape[0], dim=-1):\n",
    "        numpyro.sample('xs', dist.Normal(loc=jnp.expand_dims(sxs, 0), scale=100.).to_event(1), obs=dxs)\n",
    "        numpyro.sample('ys', dist.Normal(loc=jnp.expand_dims(sys, 0), scale=100.).to_event(1), obs=dys)"
   ],
   "metadata": {
    "collapsed": false,
    "pycharm": {
     "name": "#%%\n"
    }
   }
  },
  {
   "cell_type": "code",
   "execution_count": 16,
   "outputs": [],
   "source": [
    "rng_key = jax.random.PRNGKey(1337)"
   ],
   "metadata": {
    "collapsed": false,
    "pycharm": {
     "name": "#%%\n"
    }
   }
  },
  {
   "cell_type": "code",
   "execution_count": 17,
   "outputs": [
    {
     "name": "stderr",
     "output_type": "stream",
     "text": [
      "SVI inf: 100%|██████████| 100/100 [00:00<00:00, 127.56it/s]\n"
     ]
    }
   ],
   "source": [
    "svi = SVI(model, AutoDelta(model), Adam(1.0), ELBO())\n",
    "state, loss = svi.train(rng_key, 100, obs_xs, obs_ys, callbacks=[Progbar()])"
   ],
   "metadata": {
    "collapsed": false,
    "pycharm": {
     "name": "#%%\n"
    }
   }
  },
  {
   "cell_type": "code",
   "execution_count": 21,
   "outputs": [
    {
     "data": {
      "text/plain": "({ lambda cu da df dj dq ds dx eb ; a b c d e f g h.\n   let i = sub g 0.0\n       j = div i 1.0\n       k = integer_pow[ y=2 ] j\n       l = log1p k\n       m = sub -1.1447298526763916 l\n       n = add m 0.6931471824645996\n       o = reduce_sum[ axes=() ] n\n       p = add 0.0 o\n       q = sub h 0.0\n       r = div q 1.0\n       s = integer_pow[ y=2 ] r\n       t = log1p s\n       u = sub -1.1447298526763916 t\n       v = add u 0.6931471824645996\n       w = reduce_sum[ axes=() ] v\n       x = add p w\n       y = sub e 0.0\n       z = div y 1.0\n       ba = integer_pow[ y=2 ] z\n       bb = log1p ba\n       bc = sub -1.1447298526763916 bb\n       bd = add bc 0.6931471824645996\n       be = reduce_sum[ axes=() ] bd\n       bf = add x be\n       bg = sub a 0.0\n       bh = div bg 1.0\n       bi = integer_pow[ y=2 ] bh\n       bj = log1p bi\n       bk = sub -1.1447298526763916 bj\n       bl = add bk 0.6931471824645996\n       bm = reduce_sum[ axes=() ] bl\n       bn = add bf bm\n       bo = sub c 0.0\n       bp = div bo 1.0\n       bq = integer_pow[ y=2 ] bp\n       br = log1p bq\n       bs = sub -1.1447298526763916 br\n       bt = add bs 0.6931471824645996\n       bu = reduce_sum[ axes=() ] bt\n       bv = add bn bu\n       bw = sub f 0.0\n       bx = div bw 1.0\n       by = integer_pow[ y=2 ] bx\n       bz = log1p by\n       ca = sub -1.1447298526763916 bz\n       cb = add ca 0.6931471824645996\n       cc = reduce_sum[ axes=() ] cb\n       cd = add bv cc\n       ce = sub b 0.0\n       cf = div ce 1.0\n       cg = integer_pow[ y=2 ] cf\n       ch = log1p cg\n       ci = sub -1.1447298526763916 ch\n       cj = add ci 0.6931471824645996\n       ck = reduce_sum[ axes=() ] cj\n       cl = add cd ck\n       cm = sub d 0.0\n       cn = div cm 1.0\n       co = integer_pow[ y=2 ] cn\n       cp = log1p co\n       cq = sub -1.1447298526763916 cp\n       cr = add cq 0.6931471824645996\n       cs = reduce_sum[ axes=() ] cr\n       ct = add cl cs\n       cv cw cx cy = scan[ jaxpr={ lambda  ; a b c d e f g h i.\n                                   let j = mul a h\n                                       k = mul b g\n                                       l = sub j k\n                                       m = add l c\n                                       n = mul m 0.019999999552965164\n                                       o = add g n\n                                       p = mul d g\n                                       q = mul e h\n                                       r = sub p q\n                                       s = add r f\n                                       t = mul s 0.019999999552965164\n                                       u = add h t\n                                   in (o, u, o, u) }\n                           length=1500\n                           linear=(False, False, False, False, False, False, False, False, True)\n                           num_carry=2\n                           num_consts=6\n                           reverse=False ] e a c f b d g h *\n       cz = reshape[ dimensions=None\n                     new_sizes=(30, 50) ] cx\n       db = gather[ dimension_numbers=GatherDimensionNumbers(offset_dims=(0,), collapsed_slice_dims=(1,), start_index_map=(1,))\n                    slice_sizes=(30, 1) ] cz da\n       dc = broadcast_in_dim[ broadcast_dimensions=(0,)\n                              shape=(30,) ] db\n       dd = broadcast_in_dim[ broadcast_dimensions=(1,)\n                              shape=(1, 30) ] dc\n       de = sub cu dd\n       dg = div de df\n       dh = integer_pow[ y=2 ] dg\n       di = mul dh -0.5\n       dk = sub di dj\n       dl = broadcast_in_dim[ broadcast_dimensions=(0, 1)\n                              shape=(100, 30, 1) ] dk\n       dm = reshape[ dimensions=None\n                     new_sizes=(100, 30) ] dl\n       dn = reduce_sum[ axes=(1,) ] dm\n       do = reduce_sum[ axes=(0,) ] dn\n       dp = add ct do\n       dr = reshape[ dimensions=None\n                     new_sizes=(30, 50) ] cy\n       dt = gather[ dimension_numbers=GatherDimensionNumbers(offset_dims=(0,), collapsed_slice_dims=(1,), start_index_map=(1,))\n                    slice_sizes=(30, 1) ] dr ds\n       du = broadcast_in_dim[ broadcast_dimensions=(0,)\n                              shape=(30,) ] dt\n       dv = broadcast_in_dim[ broadcast_dimensions=(1,)\n                              shape=(1, 30) ] du\n       dw = sub dq dv\n       dy = div dw dx\n       dz = integer_pow[ y=2 ] dy\n       ea = mul dz -0.5\n       ec = sub ea eb\n       ed = broadcast_in_dim[ broadcast_dimensions=(0, 1)\n                              shape=(100, 30, 1) ] ec\n       ee = reshape[ dimensions=None\n                     new_sizes=(100, 30) ] ed\n       ef = reduce_sum[ axes=(1,) ] ee\n       eg = reduce_sum[ axes=(0,) ] ef\n       eh = add dp eg\n       ei = eq g g\n       ej = convert_element_type[ new_dtype=float32\n                                  old_dtype=bool ] ei\n       ek = log ej\n       el = broadcast_in_dim[ broadcast_dimensions=()\n                              shape=(1,) ] ek\n       em = reduce_sum[ axes=(0,) ] el\n       en = add em 0.0\n       eo = reduce_sum[ axes=() ] en\n       ep = add 0.0 eo\n       eq = eq h h\n       er = convert_element_type[ new_dtype=float32\n                                  old_dtype=bool ] eq\n       es = log er\n       et = broadcast_in_dim[ broadcast_dimensions=()\n                              shape=(1,) ] es\n       eu = reduce_sum[ axes=(0,) ] et\n       ev = add eu 0.0\n       ew = reduce_sum[ axes=() ] ev\n       ex = add ep ew\n       ey = eq e e\n       ez = convert_element_type[ new_dtype=float32\n                                  old_dtype=bool ] ey\n       fa = log ez\n       fb = broadcast_in_dim[ broadcast_dimensions=()\n                              shape=(1,) ] fa\n       fc = reduce_sum[ axes=(0,) ] fb\n       fd = add fc 0.0\n       fe = reduce_sum[ axes=() ] fd\n       ff = add ex fe\n       fg = eq a a\n       fh = convert_element_type[ new_dtype=float32\n                                  old_dtype=bool ] fg\n       fi = log fh\n       fj = broadcast_in_dim[ broadcast_dimensions=()\n                              shape=(1,) ] fi\n       fk = reduce_sum[ axes=(0,) ] fj\n       fl = add fk 0.0\n       fm = reduce_sum[ axes=() ] fl\n       fn = add ff fm\n       fo = eq c c\n       fp = convert_element_type[ new_dtype=float32\n                                  old_dtype=bool ] fo\n       fq = log fp\n       fr = broadcast_in_dim[ broadcast_dimensions=()\n                              shape=(1,) ] fq\n       fs = reduce_sum[ axes=(0,) ] fr\n       ft = add fs 0.0\n       fu = reduce_sum[ axes=() ] ft\n       fv = add fn fu\n       fw = eq f f\n       fx = convert_element_type[ new_dtype=float32\n                                  old_dtype=bool ] fw\n       fy = log fx\n       fz = broadcast_in_dim[ broadcast_dimensions=()\n                              shape=(1,) ] fy\n       ga = reduce_sum[ axes=(0,) ] fz\n       gb = add ga 0.0\n       gc = reduce_sum[ axes=() ] gb\n       gd = add fv gc\n       ge = eq b b\n       gf = convert_element_type[ new_dtype=float32\n                                  old_dtype=bool ] ge\n       gg = log gf\n       gh = broadcast_in_dim[ broadcast_dimensions=()\n                              shape=(1,) ] gg\n       gi = reduce_sum[ axes=(0,) ] gh\n       gj = add gi 0.0\n       gk = reduce_sum[ axes=() ] gj\n       gl = add gd gk\n       gm = eq d d\n       gn = convert_element_type[ new_dtype=float32\n                                  old_dtype=bool ] gm\n       go = log gn\n       gp = broadcast_in_dim[ broadcast_dimensions=()\n                              shape=(1,) ] go\n       gq = reduce_sum[ axes=(0,) ] gp\n       gr = add gq 0.0\n       gs = reduce_sum[ axes=() ] gr\n       gt = add gl gs\n       gu = sub eh gt\n       gv = neg gu\n   in (gv,) },\n (array([[7.3347936e+00, 3.1916317e+01, 1.7780779e+02, ..., 4.0100473e+19,\n          1.9833626e+20, 9.8096788e+20],\n         [1.1675889e+01, 3.1792334e+01, 1.7046109e+02, ..., 4.0100473e+19,\n          1.9833626e+20, 9.8096788e+20],\n         [8.7482567e+00, 3.8652088e+01, 1.7970654e+02, ..., 4.0100473e+19,\n          1.9833626e+20, 9.8096788e+20],\n         ...,\n         [5.5472803e+00, 3.2500626e+01, 1.7558087e+02, ..., 4.0100473e+19,\n          1.9833626e+20, 9.8096788e+20],\n         [8.9918003e+00, 3.6996658e+01, 1.7092137e+02, ..., 4.0100473e+19,\n          1.9833626e+20, 9.8096788e+20],\n         [6.4073181e+00, 2.9298361e+01, 1.7801599e+02, ..., 4.0100473e+19,\n          1.9833626e+20, 9.8096788e+20]], dtype=float32),\n  DeviceArray([0], dtype=int32),\n  DeviceArray([[100.]], dtype=float32),\n  DeviceArray([[5.524109]], dtype=float32),\n  array([[1.0661485e+01, 6.8667542e+01, 3.8095197e+02, ..., 8.6714893e+19,\n          4.2889035e+20, 2.1212847e+21],\n         [1.2479054e+01, 7.2273727e+01, 3.7708252e+02, ..., 8.6714893e+19,\n          4.2889035e+20, 2.1212847e+21],\n         [9.9371204e+00, 7.5782692e+01, 3.7536011e+02, ..., 8.6714893e+19,\n          4.2889035e+20, 2.1212847e+21],\n         ...,\n         [1.1468364e+01, 7.6076454e+01, 3.7573676e+02, ..., 8.6714893e+19,\n          4.2889035e+20, 2.1212847e+21],\n         [1.1455624e+01, 7.4524712e+01, 3.7871594e+02, ..., 8.6714893e+19,\n          4.2889035e+20, 2.1212847e+21],\n         [1.1126377e+01, 8.0260269e+01, 3.8239581e+02, ..., 8.6714893e+19,\n          4.2889035e+20, 2.1212847e+21]], dtype=float32),\n  DeviceArray([0], dtype=int32),\n  DeviceArray([[100.]], dtype=float32),\n  DeviceArray([[5.524109]], dtype=float32)),\n (PyTreeDef(tuple, [PyTreeDef(tuple, [PyTreeDef(dict[['auto_a', 'auto_b', 'auto_g', 'auto_h', 'auto_k', 'auto_l', 'auto_x0', 'auto_y0']], [*,*,*,*,*,*,*,*])]),PyTreeDef(dict[[]], [])]),\n  *))"
     },
     "execution_count": 21,
     "metadata": {},
     "output_type": "execute_result"
    }
   ],
   "source": [
    "from jaxinterp.interpreter import _make_jaxpr_with_consts\n",
    "_, rng_key_eval = jax.random.split(state.rng_key)\n",
    "params = svi.get_params(state)\n",
    "_make_jaxpr_with_consts(lambda x: svi.loss.loss(rng_key_eval, x, svi.model, svi.guide, obs_xs, obs_ys), False)(params)"
   ],
   "metadata": {
    "collapsed": false,
    "pycharm": {
     "name": "#%%\n"
    }
   }
  },
  {
   "cell_type": "code",
   "execution_count": 9,
   "outputs": [],
   "source": [
    "\n"
   ],
   "metadata": {
    "collapsed": false,
    "pycharm": {
     "name": "#%%\n"
    }
   }
  },
  {
   "cell_type": "code",
   "execution_count": null,
   "outputs": [],
   "source": [],
   "metadata": {
    "collapsed": false,
    "pycharm": {
     "name": "#%%\n"
    }
   }
  }
 ],
 "metadata": {
  "kernelspec": {
   "display_name": "Python 3",
   "language": "python",
   "name": "python3"
  },
  "language_info": {
   "codemirror_mode": {
    "name": "ipython",
    "version": 2
   },
   "file_extension": ".py",
   "mimetype": "text/x-python",
   "name": "python",
   "nbconvert_exporter": "python",
   "pygments_lexer": "ipython2",
   "version": "2.7.6"
  }
 },
 "nbformat": 4,
 "nbformat_minor": 0
}