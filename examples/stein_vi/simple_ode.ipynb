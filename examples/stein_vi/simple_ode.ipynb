{
 "cells": [
  {
   "cell_type": "code",
   "execution_count": 17,
   "outputs": [],
   "source": [
    "from matplotlib import pyplot as plt\n",
    "import jax\n",
    "from jax.lax import scan\n",
    "import jax.numpy as jnp\n",
    "import numpy as np\n",
    "import numpy.random as npr"
   ],
   "metadata": {
    "collapsed": false,
    "pycharm": {
     "name": "#%%\n"
    }
   }
  },
  {
   "cell_type": "code",
   "execution_count": 2,
   "metadata": {
    "collapsed": true,
    "pycharm": {
     "name": "#%%\n"
    }
   },
   "outputs": [],
   "source": [
    "def arms_race(x0, y0, *, k, a, g, l, b, h,\n",
    "              num_iterations=10, step_size=0.02):\n",
    "    def arms_race_up(state, t):\n",
    "        x, y = state\n",
    "        dx = k * y - a * x + g\n",
    "        dy = l * x - b * y + h\n",
    "        x = x + step_size * dx\n",
    "        y = y + step_size * dy\n",
    "        return (x, y), (x, y)\n",
    "    _, (xs, ys) = scan(arms_race_up, (x0, y0), jnp.arange(step_size, num_iterations + step_size, step_size))\n",
    "    return xs, ys\n"
   ]
  },
  {
   "cell_type": "code",
   "execution_count": 6,
   "outputs": [],
   "source": [
    "num_iterations = 30\n",
    "step_size = 0.02\n",
    "gt_k = 10.\n",
    "gt_a = 20.\n",
    "gt_g = .1\n",
    "gt_l = 10.\n",
    "gt_b = 3.\n",
    "gt_h = 6.\n",
    "gt_xs, gt_ys = arms_race(10., 10., k=gt_k, a=gt_a, g=gt_g,\n",
    "                         l=gt_l, b=gt_b, h=gt_h, num_iterations=num_iterations,\n",
    "                         step_size=step_size)"
   ],
   "metadata": {
    "collapsed": false,
    "pycharm": {
     "name": "#%%\n"
    }
   }
  },
  {
   "cell_type": "code",
   "execution_count": 9,
   "outputs": [
    {
     "data": {
      "text/plain": "DeviceArray([8.0019999e+00, 3.4185421e+01, 1.7502908e+02, 8.7163947e+02,\n             4.3170640e+03, 2.1358072e+04, 1.0564261e+05, 5.2251259e+05,\n             2.5843442e+06, 1.2782128e+07, 6.3220196e+07, 3.1268598e+08,\n             1.5465393e+09, 7.6491566e+09, 3.7832593e+10, 1.8711940e+11,\n             9.2548923e+11, 4.5774547e+12, 2.2640002e+13, 1.1197705e+14,\n             5.5383657e+14, 2.7392660e+15, 1.3548361e+16, 6.7009968e+16,\n             3.3143015e+17, 1.6392473e+18, 8.1076877e+18, 4.0100469e+19,\n             1.9833626e+20, 9.8096781e+20], dtype=float32)"
     },
     "execution_count": 9,
     "metadata": {},
     "output_type": "execute_result"
    }
   ],
   "source": [
    "gt_xs = jnp.reshape(gt_xs, (num_iterations, -1))[:, 0]\n",
    "gt_xs"
   ],
   "metadata": {
    "collapsed": false,
    "pycharm": {
     "name": "#%%\n"
    }
   }
  },
  {
   "cell_type": "code",
   "execution_count": 10,
   "outputs": [
    {
     "data": {
      "text/plain": "DeviceArray([1.1520000e+01, 7.4158813e+01, 3.7872485e+02, 1.8851034e+03,\n             9.3356289e+03, 4.6185797e+04, 2.2844609e+05, 1.1299026e+06,\n             5.5884910e+06, 2.7640592e+07, 1.3670992e+08, 6.7616486e+08,\n             3.3442993e+09, 1.6540846e+10, 8.1810735e+10, 4.0463457e+11,\n             2.0013154e+12, 9.8984725e+12, 4.8957653e+13, 2.4214371e+14,\n             1.1976386e+15, 5.9234997e+15, 2.9297525e+16, 1.4490507e+17,\n             7.1669796e+17, 3.5447749e+18, 1.7532391e+19, 8.6714876e+19,\n             4.2889035e+20, 2.1212845e+21], dtype=float32)"
     },
     "execution_count": 10,
     "metadata": {},
     "output_type": "execute_result"
    }
   ],
   "source": [
    "gt_ys = jnp.reshape(gt_ys, (num_iterations, -1))[:, 0]\n",
    "gt_ys\n"
   ],
   "metadata": {
    "collapsed": false,
    "pycharm": {
     "name": "#%%\n"
    }
   }
  },
  {
   "cell_type": "code",
   "execution_count": 16,
   "outputs": [
    {
     "data": {
      "text/plain": "(array([8.0019999e+00, 3.4185421e+01, 1.7502908e+02, 8.7163947e+02,\n        4.3170640e+03, 2.1358072e+04, 1.0564261e+05, 5.2251259e+05,\n        2.5843442e+06, 1.2782128e+07, 6.3220196e+07, 3.1268598e+08,\n        1.5465393e+09, 7.6491566e+09, 3.7832593e+10, 1.8711940e+11,\n        9.2548923e+11, 4.5774547e+12, 2.2640002e+13, 1.1197705e+14,\n        5.5383657e+14, 2.7392660e+15, 1.3548361e+16, 6.7009968e+16,\n        3.3143015e+17, 1.6392473e+18, 8.1076877e+18, 4.0100469e+19,\n        1.9833626e+20, 9.8096781e+20], dtype=float32),\n array([1.1520000e+01, 7.4158813e+01, 3.7872485e+02, 1.8851034e+03,\n        9.3356289e+03, 4.6185797e+04, 2.2844609e+05, 1.1299026e+06,\n        5.5884910e+06, 2.7640592e+07, 1.3670992e+08, 6.7616486e+08,\n        3.3442993e+09, 1.6540846e+10, 8.1810735e+10, 4.0463457e+11,\n        2.0013154e+12, 9.8984725e+12, 4.8957653e+13, 2.4214371e+14,\n        1.1976386e+15, 5.9234997e+15, 2.9297525e+16, 1.4490507e+17,\n        7.1669796e+17, 3.5447749e+18, 1.7532391e+19, 8.6714876e+19,\n        4.2889035e+20, 2.1212845e+21], dtype=float32))"
     },
     "execution_count": 16,
     "metadata": {},
     "output_type": "execute_result"
    }
   ],
   "source": [
    "np.array(gt_xs), np.array(gt_ys)\n",
    "\n"
   ],
   "metadata": {
    "collapsed": false,
    "pycharm": {
     "name": "#%%\n"
    }
   }
  },
  {
   "cell_type": "code",
   "execution_count": 29,
   "outputs": [],
   "source": [
    "num_datapoints = 100\n",
    "noise_scale = 3\n",
    "obs_xs = np.array(gt_xs + npr.randn(num_datapoints, *np.shape(gt_xs)) * noise_scale)\n",
    "obs_ys = np.array(gt_ys + npr.randn(num_datapoints, *np.shape(gt_ys)) * noise_scale)"
   ],
   "metadata": {
    "collapsed": false,
    "pycharm": {
     "name": "#%%\n"
    }
   }
  },
  {
   "cell_type": "code",
   "execution_count": 31,
   "outputs": [
    {
     "data": {
      "text/plain": "array([[7.1104202e+00, 3.5948662e+01, 1.6814308e+02, ..., 4.0100469e+19,\n        1.9833626e+20, 9.8096781e+20],\n       [8.7127953e+00, 2.8113756e+01, 1.7368900e+02, ..., 4.0100469e+19,\n        1.9833626e+20, 9.8096781e+20],\n       [5.7510138e+00, 3.4040771e+01, 1.7488641e+02, ..., 4.0100469e+19,\n        1.9833626e+20, 9.8096781e+20],\n       ...,\n       [1.4673883e+01, 3.4800049e+01, 1.7454721e+02, ..., 4.0100469e+19,\n        1.9833626e+20, 9.8096781e+20],\n       [1.0552752e+01, 2.9327173e+01, 1.7764212e+02, ..., 4.0100469e+19,\n        1.9833626e+20, 9.8096781e+20],\n       [9.8908739e+00, 3.4463154e+01, 1.7695886e+02, ..., 4.0100469e+19,\n        1.9833626e+20, 9.8096781e+20]], dtype=float32)"
     },
     "execution_count": 31,
     "metadata": {},
     "output_type": "execute_result"
    }
   ],
   "source": [
    "obs_xs"
   ],
   "metadata": {
    "collapsed": false,
    "pycharm": {
     "name": "#%%\n"
    }
   }
  },
  {
   "cell_type": "code",
   "execution_count": null,
   "outputs": [],
   "source": [
    "\n"
   ],
   "metadata": {
    "collapsed": false,
    "pycharm": {
     "name": "#%%\n"
    }
   }
  }
 ],
 "metadata": {
  "kernelspec": {
   "display_name": "Python 3",
   "language": "python",
   "name": "python3"
  },
  "language_info": {
   "codemirror_mode": {
    "name": "ipython",
    "version": 2
   },
   "file_extension": ".py",
   "mimetype": "text/x-python",
   "name": "python",
   "nbconvert_exporter": "python",
   "pygments_lexer": "ipython2",
   "version": "2.7.6"
  }
 },
 "nbformat": 4,
 "nbformat_minor": 0
}