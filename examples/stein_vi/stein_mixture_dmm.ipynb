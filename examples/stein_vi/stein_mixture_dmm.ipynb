{
 "cells": [
  {
   "cell_type": "code",
   "execution_count": 1,
   "metadata": {},
   "outputs": [],
   "source": [
    "import jax\n",
    "import jax.numpy as np\n",
    "from jax.experimental import stax\n",
    "import numpyro\n",
    "import numpyro.distributions as dist\n",
    "from numpyro.examples.datasets import load_dataset, JSBCHORALES"
   ]
  },
  {
   "cell_type": "code",
   "execution_count": 2,
   "metadata": {
    "tags": [
     "outputPrepend"
    ]
   },
   "outputs": [
    {
     "output_type": "stream",
     "name": "stdout",
     "text": "Sequences:  (32, 129, 4)\nLength min:  33 max:  109\n"
    }
   ],
   "source": [
    "init, get_batch = load_dataset(JSBCHORALES, batch_size=32)\n",
    "ds_count, ds_indxs = init()\n",
    "seqs, seqs_rev, lengths = get_batch(0, ds_indxs)\n",
    "print(\"Sequences: \", seqs.shape)\n",
    "print(\"Length min: \", min(lengths), \"max: \", max(lengths))"
   ]
  },
  {
   "cell_type": "code",
   "execution_count": 3,
   "metadata": {},
   "outputs": [],
   "source": [
    "def emitter(hidden_dim1, hidden_dim2, out_dim):\n",
    "    return stax.serial(\n",
    "        stax.Dense(hidden_dim1), stax.Relu(),\n",
    "        stax.Dense(hidden_dim2), stax.Relu(),\n",
    "        stax.Dense(out_dim), stax.Sigmoid()\n",
    "    )"
   ]
  },
  {
   "cell_type": "code",
   "execution_count": 4,
   "metadata": {},
   "outputs": [],
   "source": [
    "def transition(gate_hidden_dim, prop_mean_hidden_dim, out_dim):\n",
    "    gate_init_fun, gate_apply_fun = stax.serial(\n",
    "        stax.Dense(gate_hidden_dim), stax.Relu(),\n",
    "        stax.Dense(out_dim), stax.Sigmoid()\n",
    "    )\n",
    "\n",
    "    prop_mean_init_fun, prop_mean_apply_fun = stax.serial(\n",
    "        stax.Dense(prop_mean_hidden_dim), stax.Relu(),\n",
    "        stax.Dense(out_dim)\n",
    "    )\n",
    "\n",
    "    mean_init_fun, mean_apply_fun = stax.Dense(out_dim)\n",
    "\n",
    "    stddev_init_fun, stddev_apply_fun = stax.serial(\n",
    "        stax.Relu(), stax.Dense(out_dim),\n",
    "        stax.Softplus()\n",
    "    )\n",
    "\n",
    "    def init_fun(rng, input_shape):\n",
    "        output_shape = input_shape[:-1] + (out_dim, 2)\n",
    "        k1, k2, k3, k4 = jax.random.split(rng, num=4)\n",
    "        _, gate_params = gate_init_fun(k1, input_shape)\n",
    "        prop_mean_output_shape, prop_mean_params = prop_mean_init_fun(k2, input_shape)\n",
    "        _, mean_params = mean_init_fun(k3, input_shape)\n",
    "        _, stddev_params = stddev_init_fun(k4, prop_mean_output_shape)\n",
    "        return output_shape, (gate_params, prop_mean_params, \n",
    "                              mean_params, stddev_params)\n",
    "\n",
    "    def apply_fun(params, inputs, **kwargs):\n",
    "        gate_params, prop_mean_params, mean_params, stddev_params = params\n",
    "        gt = gate_apply_fun(gate_params, inputs)\n",
    "        ht = prop_mean_apply_fun(prop_mean_params, inputs)\n",
    "        mut = (1 - gt) * mean_apply_fun(mean_params, inputs) + gt * ht\n",
    "        sigmat = stddev_apply_fun(stddev_params, ht)\n",
    "        return np.stack([mut, sigmat], axis=-1)\n",
    "    \n",
    "    return init_fun, apply_fun"
   ]
  },
  {
   "cell_type": "code",
   "execution_count": 5,
   "metadata": {},
   "outputs": [],
   "source": [
    "def combiner(out_dim):\n",
    "    prev_init_fun, prev_apply_fun = stax.serial(\n",
    "        stax.Dense(out_dim),\n",
    "        stax.Tanh()\n",
    "    )\n",
    "\n",
    "    def init_fun(rng, input_shape):\n",
    "        prev_shape, hidden_shape = input_shape\n",
    "        output_shape, prev_params = prev_init_fun(rng, prev_shape)\n",
    "        return output_shape, prev_params\n",
    "\n",
    "    def apply_fun(params, inputs, **kwargs):\n",
    "        prev_params = params\n",
    "        prev_input, hidden_input = inputs\n",
    "        prev_contr = prev_apply_fun(prev_contr, prev_input)\n",
    "        return np.mean(np.stack([prev_contr, hidden_input], axis=-1), axis=-1)\n",
    "\n",
    "    return init_fun, apply_fun"
   ]
  },
  {
   "cell_type": "code",
   "execution_count": 6,
   "metadata": {},
   "outputs": [],
   "source": [
    "def gru(hidden_dim, W_init=stax.glorot_normal()):\n",
    "    # Inspired by https://github.com/google/jax/pull/2298\n",
    "    input_update_init_fun, input_update_apply_fun = stax.Dense(hidden_dim)\n",
    "    input_reset_init_fun, input_reset_apply_fun = stax.Dense(hidden_dim)\n",
    "    input_output_init_fun, input_output_apply_fun = stax.Dense(hidden_dim)\n",
    "\n",
    "    def init_fun(rng, input_shape):\n",
    "        input_shape, hidden_shape = input_shape\n",
    "        output_shape = input_shape[:-1] + (hidden_dim,)\n",
    "        rng, k1, k2 = jax.random.split(rng, num=3)\n",
    "        hidden_update_w = W_init(k1, (hidden_shape[-1], hidden_dim))\n",
    "        _, input_update_params = input_update_init_fun(k2, input_shape)\n",
    "\n",
    "        rng, k1, k2 = jax.random.split(rng, num=3)\n",
    "        hidden_reset_w = W_init(k1, (hidden_shape[-1], hidden_dim))\n",
    "        _, input_reset_params = input_reset_init_fun(k2, hidden_shape)\n",
    "\n",
    "        rng, k1, k2 = jax.random.split(rng, num=3)\n",
    "        hidden_output_w = W_init(k1, (hidden_shape[-1], hidden_dim))\n",
    "        _, input_output_params = input_output_init_fun(k2, input_shape)\n",
    "\n",
    "        return output_shape, (hidden_update_w, input_update_params,\n",
    "                              hidden_reset_w, input_reset_params,\n",
    "                              hidden_output_w, input_output_params)\n",
    "    \n",
    "    def apply_fun(params, inputs, **kwargs):\n",
    "        (hidden_update_w, input_update_params,\n",
    "         hidden_reset_w, input_reset_params,\n",
    "         hidden_output_w, input_output_params) = params\n",
    "        inps, lengths, init_hidden = inputs\n",
    "\n",
    "        def apply_fun_single(prev_hidden, inp):\n",
    "            i, inpv, inpl = inp\n",
    "            update_gate = stax.sigmoid(input_update_apply_fun(input_update_params, inpv) + \n",
    "                                       np.dot(prev_hidden, hidden_update_w))\n",
    "            reset_gate = stax.sigmoid(input_reset_apply_fun(input_reset_params, inpv) +\n",
    "                                      np.dot(prev_hidden, hidden_reset_w))\n",
    "            output_gate = update_gate * prev_hidden + (1 - update_gate) * np.tanh(\n",
    "                input_output_apply_fun(input_output_params, inpv) + \n",
    "                np.dot(reset_gate * prev_hidden, hidden_output_w))\n",
    "            hidden = np.where(i < inpl, output_gate, prev_hidden)\n",
    "            return hidden, hidden\n",
    "        \n",
    "        return jax.lax.scan(apply_fun_single, init_hidden, (np.arange(inps.shape[0]), inps, lengths))\n",
    "    return init_fun, apply_fun"
   ]
  },
  {
   "cell_type": "code",
   "execution_count": null,
   "metadata": {},
   "outputs": [],
   "source": [
    "def model(seqs, seqs_rev, lengths, *,\n",
    "          latent_dim=100, emission_dim=100, transition_dim=200, **kwargs):\n",
    "    batch_size, max_seq_length, *_ = seqs.shape\n",
    "    seqs = np.transpose(seqs, axes=(0, 1))\n",
    "    z0 = np.zeros((batch_size, latent_dim))\n",
    "    def dmm_iter(prev_z, ):\n",
    "        pass\n",
    "    pass"
   ]
  }
 ],
 "metadata": {
  "language_info": {
   "codemirror_mode": {
    "name": "ipython",
    "version": 3
   },
   "file_extension": ".py",
   "mimetype": "text/x-python",
   "name": "python",
   "nbconvert_exporter": "python",
   "pygments_lexer": "ipython3",
   "version": "3.8.2-final"
  },
  "orig_nbformat": 2,
  "kernelspec": {
   "name": "python3",
   "display_name": "Python 3"
  }
 },
 "nbformat": 4,
 "nbformat_minor": 2
}