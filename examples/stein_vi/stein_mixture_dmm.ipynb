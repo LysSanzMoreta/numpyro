{
 "cells": [
  {
   "cell_type": "code",
   "execution_count": 1,
   "metadata": {},
   "outputs": [],
   "source": [
    "import jax\n",
    "import jax.numpy as np\n",
    "from jax.experimental import stax\n",
    "import numpyro\n",
    "import numpyro.distributions as dist"
   ]
  },
  {
   "cell_type": "code",
   "execution_count": 2,
   "metadata": {},
   "outputs": [],
   "source": [
    "def emitter(hidden_dim1, hidden_dim2, out_dim):\n",
    "    return stax.serial(\n",
    "        stax.Dense(hidden_dim1), stax.Relu(),\n",
    "        stax.Dense(hidden_dim2), stax.Relu(),\n",
    "        stax.Dense(out_dim), stax.Sigmoid()\n",
    "    )"
   ]
  },
  {
   "cell_type": "code",
   "execution_count": 4,
   "metadata": {},
   "outputs": [],
   "source": [
    "def transition(gate_hidden_dim, prop_mean_hidden_dim, out_dim):\n",
    "    gate_init_fun, gate_apply_fun = stax.serial(\n",
    "        stax.Dense(gate_hidden_dim), stax.Relu(),\n",
    "        stax.Dense(out_dim), stax.Sigmoid()\n",
    "    )\n",
    "\n",
    "    prop_mean_init_fun, prop_mean_apply_fun = stax.serial(\n",
    "        stax.Dense(prop_mean_hidden_dim), stax.Relu(),\n",
    "        stax.Dense(out_dim)\n",
    "    )\n",
    "\n",
    "    mean_init_fun, mean_apply_fun = stax.Dense(out_dim)\n",
    "\n",
    "    stddev_init_fun, stddev_apply_fun = stax.serial(\n",
    "        stax.Relu(), stax.Dense(out_dim),\n",
    "        stax.Softplus()\n",
    "    )\n",
    "\n",
    "    def init_fun(rng, input_shape):\n",
    "        output_shape = input_shape[:-1] + (out_dim, 2)\n",
    "        k1, k2, k3, k4 = jax.random.split(rng, num=4)\n",
    "        _, gate_params = gate_init_fun(k1, input_shape)\n",
    "        prop_mean_output_shape, prop_mean_params = prop_mean_init_fun(k2, input_shape)\n",
    "        _, mean_params = mean_init_fun(k3, input_shape)\n",
    "        _, stddev_params = stddev_init_fun(k4, prop_mean_output_shape)\n",
    "        return output_shape, (gate_params, prop_mean_params, \n",
    "                              mean_params, stddev_params)\n",
    "\n",
    "    def apply_fun(params, inputs, **kwargs):\n",
    "        gate_params, prop_mean_params, mean_params, stddev_params = params\n",
    "        gt = gate_apply_fun(gate_params, inputs)\n",
    "        ht = prop_mean_apply_fun(prop_mean_params, inputs)\n",
    "        mut = (1 - gt) * mean_apply_fun(mean_params, inputs) + gt * ht\n",
    "        sigmat = stddev_apply_fun(stddev_params, ht)\n",
    "        return np.stack([mut, sigmat], axis=-1)\n",
    "    \n",
    "    return init_fun, apply_fun"
   ]
  },
  {
   "cell_type": "code",
   "execution_count": null,
   "metadata": {},
   "outputs": [],
   "source": []
  }
 ],
 "metadata": {
  "language_info": {
   "codemirror_mode": {
    "name": "ipython",
    "version": 3
   },
   "file_extension": ".py",
   "mimetype": "text/x-python",
   "name": "python",
   "nbconvert_exporter": "python",
   "pygments_lexer": "ipython3",
   "version": "3.8.2-final"
  },
  "orig_nbformat": 2,
  "kernelspec": {
   "name": "python38264bitpyrosandboxconda1c987f330cde4c7a858704ebe5fd0992",
   "display_name": "Python 3.8.2 64-bit ('pyro-sandbox': conda)"
  }
 },
 "nbformat": 4,
 "nbformat_minor": 2
}